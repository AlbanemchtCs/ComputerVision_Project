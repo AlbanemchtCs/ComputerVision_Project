{
  "cells": [
    {
      "cell_type": "markdown",
      "metadata": {
        "id": "_4p-3wN1oJjt"
      },
      "source": [
        "# Inverse Noise2Noise : Apprendre la restitution d'images avec l'image propre et une image bruitée - Application avec un training discriminatif"
      ]
    },
    {
      "cell_type": "markdown",
      "metadata": {
        "id": "n-OL8IjPZ9R-"
      },
      "source": [
        "L'idée ici est de montrer qu'avec un réseau discriminant qui va prendre en entrée notre `validation set` avec une image propre et une image bruitée, nous arrivons à un PSNR moins performant qu'avec un réseau Noise2Noise. Pour cela nous allons procéder inversement par rapport au Noise2Noise, nous allons utiliser notre `validation set` de 1000 paires d'images en tant que `train set` et notre `train set` en tant que `validation set`. Un des soucis est le nombre faible de paires d'images pour entraîner notre modèle. Nous allons pour cela appliquer notre fichier `augmented_val_data.pkl` que l'on a pu générer grâce au notebook `Data_augmentation.ipynb` sur les 1000 images du `validation set`. \n",
        "\n"
      ]
    },
    {
      "cell_type": "markdown",
      "metadata": {
        "id": "wmbroh2BpbXk"
      },
      "source": [
        "### Connection drive"
      ]
    },
    {
      "cell_type": "markdown",
      "metadata": {
        "id": "oliuGjAMpPUW"
      },
      "source": [
        "Dans un premier temps, connectez-vous au drive pour accéder au dataset :"
      ]
    },
    {
      "cell_type": "code",
      "execution_count": 1,
      "metadata": {
        "colab": {
          "base_uri": "https://localhost:8080/"
        },
        "id": "fHCLEcnPYSqO",
        "outputId": "8cb36ed4-e7d1-437f-a22d-4e0687bae190"
      },
      "outputs": [
        {
          "output_type": "stream",
          "name": "stdout",
          "text": [
            "Mounted at /content/drive\n"
          ]
        }
      ],
      "source": [
        "from google.colab import drive\n",
        "drive.mount('/content/drive')"
      ]
    },
    {
      "cell_type": "markdown",
      "metadata": {
        "id": "YEnjlyXApjYQ"
      },
      "source": [
        "### Importation des librairies pytorch"
      ]
    },
    {
      "cell_type": "code",
      "execution_count": 2,
      "metadata": {
        "id": "A18tiv22X8n9"
      },
      "outputs": [],
      "source": [
        "import torch\n",
        "from torch import optim\n",
        "from torch import Tensor\n",
        "from torch import nn\n",
        "from torch.nn import functional as F\n"
      ]
    },
    {
      "cell_type": "code",
      "execution_count": 3,
      "metadata": {
        "id": "WdswXuKUiqPo"
      },
      "outputs": [],
      "source": [
        "device = torch.device('cuda' if torch.cuda.is_available() else 'cpu')"
      ]
    },
    {
      "cell_type": "markdown",
      "metadata": {
        "id": "Lxvx43ktptSY"
      },
      "source": [
        "### Importation des données"
      ]
    },
    {
      "cell_type": "markdown",
      "metadata": {
        "id": "dojvSU0Qp9iq"
      },
      "source": [
        "Téléchargement de nos données provenant du dataset [Kaggle](https://www.kaggle.com/datasets/mehrdadkianiosh/noisy-images?resource=download). \n",
        "\n",
        "Le dataset est composé de deux fichiers : un fichier `train_data.pkl`contenant 50000 paires d'images bruitées et un fichier `val_data.pkl` contenant 1000 paires d'images bruitées.\n",
        "\n",
        "Le dataset provient d'un challenge Kaggle, il n'y a donc pas de `test set` disponible. Nous testerons directement notre modèle sur le `validation set`.\n"
      ]
    },
    {
      "cell_type": "markdown",
      "metadata": {
        "id": "DuqibiWWa_Dn"
      },
      "source": [
        "Pour entraîner notre modèle discrimant, nous allons utiliser le `validation set`. Nous réduisons notre `train set` de 50000 paires d'images bruitées à 500 paires car nous n'avons pas besoin d'avoir un grand nombre de paires d'images pour le `train set` que l'on va utiliser ici comme le `validation set`."
      ]
    },
    {
      "cell_type": "code",
      "execution_count": 4,
      "metadata": {
        "colab": {
          "base_uri": "https://localhost:8080/"
        },
        "id": "sZhIblTpYEsw",
        "outputId": "5c5e5ee9-a644-455a-a0d0-1255db1ce941"
      },
      "outputs": [
        {
          "output_type": "stream",
          "name": "stdout",
          "text": [
            "torch.Size([500, 3, 32, 32])\n",
            "torch.Size([3000, 3, 32, 32])\n"
          ]
        }
      ],
      "source": [
        "# import data\n",
        "noisy_imgs_1 , noisy_imgs_2 = torch.load('/content/drive/MyDrive/DeepL_Project/dataset/train_data.pkl')\n",
        "noisy_imgs , clean_imgs = torch.load('/content/drive/MyDrive/DeepL_Project/dataset/augmented_val_data.pkl')\n",
        "\n",
        "noisy_imgs_1 = noisy_imgs_1[:500]\n",
        "noisy_imgs_2 = noisy_imgs_2[:500]\n",
        "\n",
        "print(noisy_imgs_1.shape)\n",
        "print(noisy_imgs.shape)\n",
        "\n",
        "# normalized data between 0 and 1 (because some torch function are optimized for inputs between 0 & 1)\n",
        "noisy_imgs_1 = noisy_imgs_1/255\n",
        "noisy_imgs_2 = noisy_imgs_2/255\n",
        "# noisy_imgs = noisy_imgs/255\n",
        "# clean_imgs = clean_imgs/255"
      ]
    },
    {
      "cell_type": "markdown",
      "metadata": {
        "id": "ZQeKqNvxp1_C"
      },
      "source": [
        "**Visualisation de notre dataset**"
      ]
    },
    {
      "cell_type": "markdown",
      "metadata": {
        "id": "Fme-Y5YrsSV7"
      },
      "source": [
        "Importez la librairie matplotlib pour visualiser nos données :"
      ]
    },
    {
      "cell_type": "code",
      "execution_count": 6,
      "metadata": {
        "id": "wI-LN6aNbLwR"
      },
      "outputs": [],
      "source": [
        "from matplotlib import pyplot as plt"
      ]
    },
    {
      "cell_type": "markdown",
      "metadata": {
        "id": "zDjV0doNsByH"
      },
      "source": [
        "Utilisation de `torch.permute` pour avoir une vue du tenseur d'origine :\n",
        "\n"
      ]
    },
    {
      "cell_type": "code",
      "execution_count": 7,
      "metadata": {
        "colab": {
          "base_uri": "https://localhost:8080/",
          "height": 553
        },
        "id": "O6l0HomCspCr",
        "outputId": "72ab0d0b-ce3a-43cc-db45-c343c1530dd5"
      },
      "outputs": [
        {
          "output_type": "execute_result",
          "data": {
            "text/plain": [
              "Text(0.5, 1.0, 'Example of a clean_imgs from the validation set')"
            ]
          },
          "metadata": {},
          "execution_count": 7
        },
        {
          "output_type": "display_data",
          "data": {
            "text/plain": [
              "<Figure size 1296x648 with 4 Axes>"
            ],
            "image/png": "[encoded data removed]"
          },
          "metadata": {
            "needs_background": "light"
          }
        }
      ],
      "source": [
        "# create figure\n",
        "fig = plt.figure(figsize=(18, 9))\n",
        "    \n",
        "# setting values to rows and column variables\n",
        "rows = 2\n",
        "columns = 2\n",
        "\n",
        "# adds a subplot\n",
        "fig.add_subplot(rows, columns, 1)\n",
        "\n",
        "# showing image\n",
        "plt.imshow(noisy_imgs_1[7].cpu().permute(1,2,0))\n",
        "plt.axis('off')\n",
        "plt.title(\"Example of a noisy_imgs_1 from the training set\")\n",
        "\n",
        "# adds a subplot\n",
        "fig.add_subplot(rows, columns, 2)\n",
        "    \n",
        "# showing image\n",
        "plt.imshow(noisy_imgs_2[7].cpu().permute(1,2,0))\n",
        "plt.axis('off')\n",
        "plt.title(\"Example of a noisy_imgs_2 from the training set\")\n",
        "      \n",
        "# adds a subplot \n",
        "fig.add_subplot(rows, columns, 3)\n",
        "      \n",
        "# showing image\n",
        "plt.imshow(noisy_imgs[13].cpu().permute(1,2,0))\n",
        "plt.axis('off')\n",
        "plt.title(\"Example of a noisy_imgs from the validation set\")\n",
        "\n",
        "# adds a subplot \n",
        "fig.add_subplot(rows, columns, 4)\n",
        "\n",
        "# showing image\n",
        "plt.imshow(clean_imgs[13].cpu().permute(1,2,0))\n",
        "plt.axis('off')\n",
        "plt.title(\"Example of a clean_imgs from the validation set\")"
      ]
    },
    {
      "cell_type": "markdown",
      "metadata": {
        "id": "LFnP2x1Zy5vG"
      },
      "source": [
        "### Calcul du PSNR avant entraînement de notre modèle"
      ]
    },
    {
      "cell_type": "markdown",
      "metadata": {
        "id": "EhoBHD4Iwkwj"
      },
      "source": [
        "Pour évaluer nos modèles, nous utiliserons la mesure du **PSNR**, exprimée en décibel (dB).\n",
        "\n",
        "Le PSNR permet de quantifier la performance des modèles en mesurant la qualité de reconstruction de l'image compressée par rapport à l'image originale.\n",
        "\n",
        "Pour pouvoir étudier si notre modèle est performant, nous pouvons comparer le PSNR du `train set`, utilisé comme `validation set` ici qui calcule le PSNR entre nos deux images `image bruitées`, avec le PSNR après entraînement du modèle qui calculera le PSNR entre notre `predicted image` et une `image bruitée`.\n",
        "\n",
        "En conséquence, si nous obtenons un PSNR plus élevé après notre modèle, cela signifie que notre signal et donc le traitement de restauration ou d'amélioration sont meilleurs. "
      ]
    },
    {
      "cell_type": "code",
      "execution_count": 8,
      "metadata": {
        "colab": {
          "base_uri": "https://localhost:8080/"
        },
        "id": "A2-jnB_vsLgn",
        "outputId": "001933a8-bea4-439d-fb81-2315181976e7"
      },
      "outputs": [
        {
          "output_type": "stream",
          "name": "stdout",
          "text": [
            "PSNR mean : 17.875173721313477 dB\n"
          ]
        }
      ],
      "source": [
        "def psnr(denoised , ground_truth):\n",
        "# Peak Signal to Noise Ratio : denoised and ground_truth have values between 0 and 1\n",
        "  mse = torch.mean((denoised - ground_truth) ** 2)\n",
        "  return -10 * torch.log10(mse + 10**-8)\n",
        "\n",
        "sum = 0\n",
        "nb_img = noisy_imgs_1.size(0)\n",
        "psnr_list = []\n",
        "\n",
        "for i in range(nb_img):\n",
        "  psnr_list.append(psnr(noisy_imgs_1[i].cpu(), noisy_imgs_2[i].cpu()).item())\n",
        "    \n",
        "for j in range(nb_img):\n",
        "  sum = sum + psnr_list[j]\n",
        "\n",
        "mean_psnr = sum/nb_img\n",
        "\n",
        "print(\"PSNR mean : \" + str(mean_psnr) + \" dB\")"
      ]
    },
    {
      "cell_type": "markdown",
      "metadata": {
        "id": "X9kJgmi-zjuo"
      },
      "source": [
        "Nous obtenons un PSNR moyen de 17.88 dB pour notre validation set qui est le `train set`. Celui-ci est beaucoup plus bas que dans les deux autres réseaux du début car nous avons deux images bruitées. Implémentons notre modèle et comparons notre PNSR final à celui-ci."
      ]
    },
    {
      "cell_type": "markdown",
      "metadata": {
        "id": "yLoXgacKosUY"
      },
      "source": [
        "## Architecture U-Net"
      ]
    },
    {
      "cell_type": "markdown",
      "metadata": {
        "id": "f2wj_SV00Te9"
      },
      "source": [
        "Nous implémentons une structure similaire au U-Network que nous avons implémenté auparavant :"
      ]
    },
    {
      "cell_type": "code",
      "execution_count": 9,
      "metadata": {
        "id": "FQeM6J2lbDSK"
      },
      "outputs": [],
      "source": [
        "# network architecture\n",
        "class Network(nn.Module):\n",
        "    def __init__(self) -> None:\n",
        "        super().__init__()\n",
        "        pass\n",
        "        \n",
        "        self.conv3_32 = nn.Conv2d(3, 32, kernel_size=3)\n",
        "        self.bn32 = nn.BatchNorm2d(32)\n",
        "        self.conv32_64 = nn.Conv2d(32, 64, kernel_size=3)\n",
        "        self.bn64_1 = nn.BatchNorm2d(64)\n",
        "        self.pool2_2_1 = nn.AvgPool2d(kernel_size=(2,2))\n",
        "        self.conv64_64 = nn.Conv2d(64, 64, kernel_size=3)\n",
        "        self.bn64_2 = nn.BatchNorm2d(64)\n",
        "        self.pool2_2_2 = nn.AvgPool2d(kernel_size=(2,2))\n",
        "        self.upsample2_1 = nn.Upsample(scale_factor=2)\n",
        "        self.t_conv64_64 = nn.ConvTranspose2d(64, 64, kernel_size=3)\n",
        "        self.upsample2_2 = nn.Upsample(scale_factor=2)\n",
        "        self.t_conv128_64 = nn.ConvTranspose2d(128, 64, kernel_size=3)\n",
        "        self.t_conv64_32 = nn.ConvTranspose2d(64, 32, kernel_size=3)\n",
        "        self.conv35_32 = nn.Conv2d(35, 32, kernel_size=3)\n",
        "        self.t_conv32_3 = nn.ConvTranspose2d(32, 3, kernel_size=3)\n",
        "        \n",
        "    \n",
        "    def forward(self, x):\n",
        "        x0 = x\n",
        "        x = F.relu(self.conv3_32(x))\n",
        "        x = F.relu(self.conv32_64(x))\n",
        "        x1 = F.relu(self.pool2_2_1(x))\n",
        "        x = F.relu(self.conv64_64(x1))\n",
        "        x = F.relu(self.pool2_2_2(x))\n",
        "        x = F.relu(self.upsample2_1(x))\n",
        "        x = F.relu(self.t_conv64_64(x))\n",
        "        x = torch.cat((x, x1), dim=1)\n",
        "        x = F.relu(self.upsample2_2(x))\n",
        "        x = F.relu(self.t_conv128_64(x))\n",
        "        x = F.relu(self.t_conv64_32(x))\n",
        "        x = torch.cat((x, x0), dim=1)\n",
        "        x = F.relu(self.conv35_32(x))\n",
        "        x = F.relu(self.t_conv32_3(x))\n",
        "\n",
        "        return x"
      ]
    },
    {
      "cell_type": "code",
      "execution_count": 14,
      "metadata": {
        "id": "9bRICnITjCvU"
      },
      "outputs": [],
      "source": [
        "class Model(nn.Module):\n",
        "    def __init__(self) -> None:\n",
        "        # instantiation of the model, loss function and optimizer\n",
        "        super().__init__()\n",
        "        self.autoencoder = Network().to(device)\n",
        "        self.criterion = nn.MSELoss().to(device)\n",
        "        self.optimizer = torch.optim.Adam(self.autoencoder.parameters(), lr = 1e-3)\n",
        "        self.weight_initialization()\n",
        "        pass\n",
        "\n",
        "    def weight_initialization(self):\n",
        "        for mod in self.modules():\n",
        "          if isinstance(mod, nn.Conv2d):\n",
        "            nn.init.kaiming_normal_(mod.weight.data)\n",
        "            mod.bias.data.zero_()\n",
        "\n",
        "    def load_last_trained_model (self) :\n",
        "    # to load the parameters saved in parameters_models_Discriminative.pth into the model\n",
        "    # self.load_state_dict(torch.load(path, map_location=torch.device(device)))        \n",
        "        saved_model_path = '/content/drive/MyDrive/DeepL_Project/parameters_models_Discriminative.pth'\n",
        "        model = torch.load(saved_model_path)\n",
        "        self.load_state_dict(model)\n",
        "        self.to(device)\n",
        "        pass\n",
        "  \n",
        "    def save_parameters_Model(self) :\n",
        "        # to save our parameters in parameters_models.pth\n",
        "        torch.save(self.state_dict(), '/content/drive/MyDrive/DeepL_Project/parameters_models_Discriminative.pth')\n",
        "        pass \n",
        "\n",
        "    def train(self, train_imgs_1, train_imgs_2, nb_epochs) -> None:\n",
        "        # train_imgs_1 : tensor of size (N, C, H, W) with a noisy version of the images     \n",
        "        # train_imgs_2 : tensor of size (N, C, H, W) with another noisy version of the same images, which only differs from the input by their noise\n",
        "        mini_batch_size = 100\n",
        "        loss_list = []\n",
        "\n",
        "        for e in range(nb_epochs):\n",
        "            acc_loss = 0\n",
        "            for b in range(0, train_imgs_1.size(0), mini_batch_size):\n",
        "                output = self.autoencoder(train_imgs_1.narrow(0, b, mini_batch_size).to(device))\n",
        "                loss = self.criterion(output, train_imgs_2.narrow(0, b, mini_batch_size).to(device))\n",
        "                acc_loss = acc_loss + loss.item()\n",
        "                # self.autoencoder.zero_grad()\n",
        "                self.optimizer.zero_grad()\n",
        "                loss.backward()\n",
        "                self.optimizer.step()\n",
        "            print(e, acc_loss)\n",
        "\n",
        "            print(\"Loss : \", loss.item())\n",
        "            loss_list.append(loss.item())\n",
        "        return loss_list\n",
        "        pass\n",
        "\n",
        "    def prediction(self, val_input) -> torch.Tensor:\n",
        "        # val_input : tensor of size (N1, C, H, W) that has to be denoised by the trained network\n",
        "        # returns a tensor of the size (N1, C, H, W)\n",
        "        return self.autoencoder(val_input)\n",
        "        pass\n",
        "\n",
        "torch.cuda.empty_cache()"
      ]
    },
    {
      "cell_type": "markdown",
      "metadata": {
        "id": "tqwzpIWW-Lxv"
      },
      "source": [
        "**Entraînement de notre modèle**"
      ]
    },
    {
      "cell_type": "markdown",
      "metadata": {
        "id": "sQ8o44sj0E2A"
      },
      "source": [
        "Installez la librairie `ipython-autotime` afin de pouvoir indiquer le temps d'exécution de notre modèle :"
      ]
    },
    {
      "cell_type": "code",
      "execution_count": 10,
      "metadata": {
        "colab": {
          "base_uri": "https://localhost:8080/"
        },
        "id": "4sBc2wL1y49F",
        "outputId": "3603aaf4-df7a-42bc-efbc-398894d72ba6"
      },
      "outputs": [
        {
          "output_type": "stream",
          "name": "stdout",
          "text": [
            "Looking in indexes: https://pypi.org/simple, https://us-python.pkg.dev/colab-wheels/public/simple/\n",
            "Collecting ipython-autotime\n",
            "  Downloading ipython_autotime-0.3.1-py2.py3-none-any.whl (6.8 kB)\n",
            "Requirement already satisfied: ipython in /usr/local/lib/python3.8/dist-packages (from ipython-autotime) (7.9.0)\n",
            "Requirement already satisfied: pickleshare in /usr/local/lib/python3.8/dist-packages (from ipython->ipython-autotime) (0.7.5)\n",
            "Requirement already satisfied: pygments in /usr/local/lib/python3.8/dist-packages (from ipython->ipython-autotime) (2.6.1)\n",
            "Requirement already satisfied: setuptools>=18.5 in /usr/local/lib/python3.8/dist-packages (from ipython->ipython-autotime) (57.4.0)\n",
            "Requirement already satisfied: prompt-toolkit<2.1.0,>=2.0.0 in /usr/local/lib/python3.8/dist-packages (from ipython->ipython-autotime) (2.0.10)\n",
            "Requirement already satisfied: traitlets>=4.2 in /usr/local/lib/python3.8/dist-packages (from ipython->ipython-autotime) (5.7.1)\n",
            "Collecting jedi>=0.10\n",
            "  Downloading jedi-0.18.2-py2.py3-none-any.whl (1.6 MB)\n",
            "\u001b[2K     \u001b[90m━━━━━━━━━━━━━━━━━━━━━━━━━━━━━━━━━━━━━━━━\u001b[0m \u001b[32m1.6/1.6 MB\u001b[0m \u001b[31m20.4 MB/s\u001b[0m eta \u001b[36m0:00:00\u001b[0m\n",
            "\u001b[?25hRequirement already satisfied: pexpect in /usr/local/lib/python3.8/dist-packages (from ipython->ipython-autotime) (4.8.0)\n",
            "Requirement already satisfied: decorator in /usr/local/lib/python3.8/dist-packages (from ipython->ipython-autotime) (4.4.2)\n",
            "Requirement already satisfied: backcall in /usr/local/lib/python3.8/dist-packages (from ipython->ipython-autotime) (0.2.0)\n",
            "Requirement already satisfied: parso<0.9.0,>=0.8.0 in /usr/local/lib/python3.8/dist-packages (from jedi>=0.10->ipython->ipython-autotime) (0.8.3)\n",
            "Requirement already satisfied: six>=1.9.0 in /usr/local/lib/python3.8/dist-packages (from prompt-toolkit<2.1.0,>=2.0.0->ipython->ipython-autotime) (1.15.0)\n",
            "Requirement already satisfied: wcwidth in /usr/local/lib/python3.8/dist-packages (from prompt-toolkit<2.1.0,>=2.0.0->ipython->ipython-autotime) (0.2.6)\n",
            "Requirement already satisfied: ptyprocess>=0.5 in /usr/local/lib/python3.8/dist-packages (from pexpect->ipython->ipython-autotime) (0.7.0)\n",
            "Installing collected packages: jedi, ipython-autotime\n",
            "Successfully installed ipython-autotime-0.3.1 jedi-0.18.2\n",
            "time: 683 µs (started: 2023-03-04 10:58:49 +00:00)\n"
          ]
        }
      ],
      "source": [
        "!pip install ipython-autotime\n",
        "%load_ext autotime"
      ]
    },
    {
      "cell_type": "code",
      "execution_count": 15,
      "metadata": {
        "id": "P8rF0oBYQsje"
      },
      "outputs": [],
      "source": [
        "m = Model()"
      ]
    },
    {
      "cell_type": "markdown",
      "metadata": {
        "id": "WIZJGxDFQ2sw"
      },
      "source": [
        "Téléchargez le dernier train modèle sauvegardé afin de ne pas réexécuter le modèle par la suite : "
      ]
    },
    {
      "cell_type": "code",
      "execution_count": 18,
      "metadata": {
        "id": "CbWEoMFAQ0lp"
      },
      "outputs": [],
      "source": [
        "m.load_last_trained_model()"
      ]
    },
    {
      "cell_type": "markdown",
      "metadata": {
        "id": "pOoSnBr0Wl2s"
      },
      "source": [
        "\n",
        "\n",
        "---\n",
        "\n"
      ]
    },
    {
      "cell_type": "markdown",
      "metadata": {
        "id": "wx62wPs1T8Vu"
      },
      "source": [
        "*Les deux cellules suivantes sont à exécuter uniquement si vous voulez entraîner d'autres architectures de réseaux.*"
      ]
    },
    {
      "cell_type": "markdown",
      "metadata": {
        "id": "Xwao36abRHE7"
      },
      "source": [
        "Exécuter la cellule uniquement si vous voulez entraîné un nouveau réseau :"
      ]
    },
    {
      "cell_type": "markdown",
      "metadata": {
        "id": "TfpjHN2qdm_3"
      },
      "source": [
        "Ici nous mettons les images du `validation set` en entrée :"
      ]
    },
    {
      "cell_type": "code",
      "execution_count": 16,
      "metadata": {
        "colab": {
          "base_uri": "https://localhost:8080/"
        },
        "id": "b2PAfEofmJnG",
        "outputId": "0b2a6fdf-c501-4b4a-fd74-36a6b4bd3aae"
      },
      "outputs": [
        {
          "output_type": "stream",
          "name": "stdout",
          "text": [
            "0 2.556210733950138\n",
            "Loss :  0.03520253300666809\n",
            "1 0.7060039937496185\n",
            "Loss :  0.01716652326285839\n",
            "2 0.3721799636259675\n",
            "Loss :  0.010861367918550968\n",
            "3 0.28831714019179344\n",
            "Loss :  0.009383227676153183\n",
            "4 0.25795805687084794\n",
            "Loss :  0.008603757247328758\n",
            "5 0.24214366171509027\n",
            "Loss :  0.008167714811861515\n",
            "6 0.22904596664011478\n",
            "Loss :  0.008933044970035553\n",
            "7 0.18068393925204873\n",
            "Loss :  0.005986059084534645\n",
            "8 0.16162014473229647\n",
            "Loss :  0.005691383965313435\n",
            "9 0.15573847154155374\n",
            "Loss :  0.005522214807569981\n",
            "10 0.15208485163748264\n",
            "Loss :  0.005406154319643974\n",
            "11 0.14918725099414587\n",
            "Loss :  0.005317215342074633\n",
            "12 0.14671078557148576\n",
            "Loss :  0.00522695854306221\n",
            "13 0.14453959465026855\n",
            "Loss :  0.005162989720702171\n",
            "14 0.14242627378553152\n",
            "Loss :  0.00508516700938344\n",
            "15 0.13988648215308785\n",
            "Loss :  0.005008629988878965\n",
            "16 0.13794035790488124\n",
            "Loss :  0.004944912623614073\n",
            "17 0.1364859938621521\n",
            "Loss :  0.004905341193079948\n",
            "18 0.13500727899372578\n",
            "Loss :  0.004823364317417145\n",
            "19 0.133763344027102\n",
            "Loss :  0.0047957864589989185\n"
          ]
        }
      ],
      "source": [
        "loss_list = m.train(noisy_imgs.float(), clean_imgs.float(), nb_epochs = 20)\n",
        "torch.cuda.empty_cache()"
      ]
    },
    {
      "cell_type": "markdown",
      "metadata": {
        "id": "ASf-6ViHQx25"
      },
      "source": [
        "Le fichier `parameters_models_Discriminative.pth` permet de sauvegarder les paramètres du training pour garder en mémoire les performances des différentes architectures réseaux (pas besoin de relancer de training pour une architecture qui a déjà été lancée ! ). Dans le fichier  `parameters_models_Discriminative.pth` se trouve uniquement les paramètres de notre modèle sélectionné. Si vous voulez entraîner d'autres réseaux et les sauvegarder dans le fichier, exécutez la cellule suivante :\n"
      ]
    },
    {
      "cell_type": "code",
      "execution_count": 17,
      "metadata": {
        "id": "32Qdv8ahQv-t"
      },
      "outputs": [],
      "source": [
        "m.save_parameters_Model()"
      ]
    },
    {
      "cell_type": "markdown",
      "metadata": {
        "id": "4hk5lFlVsjbv"
      },
      "source": [
        "**Visualition de la `loss function` en fonction du nombre d'epochs**"
      ]
    },
    {
      "cell_type": "markdown",
      "metadata": {
        "id": "28zp3f9nsfLy"
      },
      "source": [
        "Importez la libraire numpy :"
      ]
    },
    {
      "cell_type": "code",
      "execution_count": 19,
      "metadata": {
        "id": "a0Iup49nwENd"
      },
      "outputs": [],
      "source": [
        "import numpy as np"
      ]
    },
    {
      "cell_type": "code",
      "execution_count": 20,
      "metadata": {
        "colab": {
          "base_uri": "https://localhost:8080/",
          "height": 297
        },
        "id": "Mt9jJgsPtaM9",
        "outputId": "b8a94dd5-e466-447b-a463-f6498785b1e8"
      },
      "outputs": [
        {
          "output_type": "display_data",
          "data": {
            "text/plain": [
              "<Figure size 432x288 with 1 Axes>"
            ],
            "image/png": "[encoded data removed]"
          },
          "metadata": {
            "needs_background": "light"
          }
        }
      ],
      "source": [
        "# create a numpy array manually to have our number of epochs\n",
        "epochs = np.arange(1,21)\n",
        "\n",
        "# create figure\n",
        "plt.plot(epochs,loss_list)\n",
        "\n",
        "# add titles\n",
        "plt.title(\"Évolution de la loss function en fonction du nombre d'epochs\")\n",
        "plt.xlabel(\"Nombre d'epochs\")\n",
        "plt.ylabel('Loss function')\n",
        "\n",
        "# showing figure\n",
        "plt.show()"
      ]
    },
    {
      "cell_type": "markdown",
      "metadata": {
        "id": "6fY0rhu4tjlL"
      },
      "source": [
        "Nous observons que notre `loss function` décroît bien en fonction du nombre d'epochs."
      ]
    },
    {
      "cell_type": "markdown",
      "metadata": {
        "id": "xKPv9BvmtyGl"
      },
      "source": [
        "**Déclaration et visualation de notre `predicted image`** "
      ]
    },
    {
      "cell_type": "markdown",
      "source": [
        "Nous mettons en `val_input`, une des images bruitées de notre `validation set` qui est ici notre `train set` initial :"
      ],
      "metadata": {
        "id": "0dSLRL4YTfL_"
      }
    },
    {
      "cell_type": "code",
      "execution_count": 21,
      "metadata": {
        "id": "NhSXz4yKaJQq",
        "colab": {
          "base_uri": "https://localhost:8080/",
          "height": 283
        },
        "outputId": "be9c549a-a1c2-447c-ca01-d0129da5e533"
      },
      "outputs": [
        {
          "output_type": "stream",
          "name": "stderr",
          "text": [
            "WARNING:matplotlib.image:Clipping input data to the valid range for imshow with RGB data ([0..1] for floats or [0..255] for integers).\n"
          ]
        },
        {
          "output_type": "display_data",
          "data": {
            "text/plain": [
              "<Figure size 432x288 with 1 Axes>"
            ],
            "image/png": "[encoded data removed]"
          },
          "metadata": {
            "needs_background": "light"
          }
        }
      ],
      "source": [
        "predicted_img = m.prediction(noisy_imgs_1.float().to(device))\n",
        "\n",
        "with torch.no_grad():\n",
        "  plt.imshow(predicted_img[7].cpu().permute(1,2,0))"
      ]
    },
    {
      "cell_type": "markdown",
      "metadata": {
        "id": "O9YfotX13YOC"
      },
      "source": [
        "### Visualisation finale des données du `validation set` qui est ici notre `train set`"
      ]
    },
    {
      "cell_type": "code",
      "execution_count": 22,
      "metadata": {
        "colab": {
          "base_uri": "https://localhost:8080/",
          "height": 359
        },
        "id": "glSoDqzaoBOW",
        "outputId": "0ea98fbc-5f61-46a2-92e1-1cae61d8e797"
      },
      "outputs": [
        {
          "output_type": "stream",
          "name": "stderr",
          "text": [
            "WARNING:matplotlib.image:Clipping input data to the valid range for imshow with RGB data ([0..1] for floats or [0..255] for integers).\n"
          ]
        },
        {
          "output_type": "display_data",
          "data": {
            "text/plain": [
              "<Figure size 1296x648 with 3 Axes>"
            ],
            "image/png": "[encoded data removed]"
          },
          "metadata": {
            "needs_background": "light"
          }
        }
      ],
      "source": [
        "with torch.no_grad():\n",
        "\n",
        "  # create figure\n",
        "  fig = plt.figure(figsize=(18, 9))\n",
        "    \n",
        "  # setting values to rows and column variables\n",
        "  rows = 1\n",
        "  columns = 3\n",
        "\n",
        "  # adds a subplot \n",
        "  fig.add_subplot(rows, columns, 1)\n",
        "\n",
        "  # showing image\n",
        "  plt.imshow(noisy_imgs_1[7].cpu().permute(1,2,0))\n",
        "  plt.axis('off')\n",
        "  plt.title(\"Input Image 1\")\n",
        "\n",
        "  # adds a subplot \n",
        "  fig.add_subplot(rows, columns, 2)\n",
        "    \n",
        "  # showing image\n",
        "  plt.imshow(noisy_imgs_2[7].cpu().permute(1,2,0))\n",
        "  plt.axis('off')\n",
        "  plt.title(\"Input Image 2\")\n",
        "      \n",
        "  # adds a subplot \n",
        "  fig.add_subplot(rows, columns, 3)\n",
        "      \n",
        "  # showing image\n",
        "  plt.imshow(predicted_img[7].cpu().permute(1,2,0))\n",
        "  plt.axis('off')\n",
        "  plt.title(\"Predicted Image\")"
      ]
    },
    {
      "cell_type": "markdown",
      "metadata": {
        "id": "gA2YTQgz3ph5"
      },
      "source": [
        "Nous remarquons que notre `predicted image` est bien éloignée des deux autres images bruitées et proche visuellement de la `clean image` que l'on met en entrée de notre `train set` qui est ici notre `validation set` initital.\n",
        "\n",
        "Il est important de souligner que notre jeu de données est en base résolution pour permettre de réduire les temps de calculs pouvant être trop volumineux en haute réoslution. Notre `clean image` et `predicted image` restent donc floues à l'oeil nu."
      ]
    },
    {
      "cell_type": "markdown",
      "metadata": {
        "id": "1SwotXJu2vxs"
      },
      "source": [
        "### Calcul du PSNR après entraînement de notre modèle"
      ]
    },
    {
      "cell_type": "code",
      "execution_count": 23,
      "metadata": {
        "colab": {
          "base_uri": "https://localhost:8080/"
        },
        "id": "zu-iEQrKkEpg",
        "outputId": "5f3c9dac-5737-41a4-9c53-a3ccc93edb65"
      },
      "outputs": [
        {
          "output_type": "stream",
          "name": "stdout",
          "text": [
            "PSNR mean : 21.96200629234314 dB\n"
          ]
        }
      ],
      "source": [
        "def psnr(denoised , ground_truth):\n",
        "# Peak Signal to Noise Ratio: denoised and grounḋ_truth have values between 0 and 1\n",
        "  mse = torch.mean((denoised - ground_truth) ** 2)\n",
        "  return -10 * torch.log10(mse + 10**-8)\n",
        "\n",
        "sum = 0\n",
        "nb_img = predicted_img.size(0)\n",
        "psnr_list = []\n",
        "\n",
        "for i in range(nb_img):\n",
        "  psnr_list.append(psnr(predicted_img[i].cpu(), noisy_imgs_1[i].cpu()).item())\n",
        "    \n",
        "for j in range(nb_img):\n",
        "  sum = sum + psnr_list[j]\n",
        "\n",
        "mean_psnr = sum/nb_img\n",
        "\n",
        "print(\"PSNR mean : \" + str(mean_psnr) + \" dB\")"
      ]
    },
    {
      "cell_type": "markdown",
      "metadata": {
        "id": "Sy1Wzg4X2s-P"
      },
      "source": [
        "Nous obtenons un PSNR moyen de 21.96 dB après l'entraînement de notre U-Net discriminant.\n",
        "\n",
        "En conséquence, nous obtenons un PSNR plus élevé après entraînement de notre modèle, cela signifie que notre signal et donc le traitement de restauration ou d'amélioration sont meilleurs. Néanmoins, nous remarquons que la méthode Noise2Noise est largement préférable pour apprendre la restitution d'images propres : nous obtenons un PSNR de 25.43 dB avec le Resnet et 25.50 dB avec U-Net."
      ]
    }
  ],
  "metadata": {
    "accelerator": "GPU",
    "colab": {
      "machine_shape": "hm",
      "provenance": []
    },
    "gpuClass": "standard",
    "kernelspec": {
      "display_name": "Python 3",
      "name": "python3"
    },
    "language_info": {
      "codemirror_mode": {
        "name": "ipython",
        "version": 3
      },
      "file_extension": ".py",
      "mimetype": "text/x-python",
      "name": "python",
      "nbconvert_exporter": "python",
      "pygments_lexer": "ipython3",
      "version": "3.9.12"
    }
  },
  "nbformat": 4,
  "nbformat_minor": 0
}