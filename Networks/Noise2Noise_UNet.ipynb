{
  "cells": [
    {
      "cell_type": "markdown",
      "metadata": {
        "id": "_4p-3wN1oJjt"
      },
      "source": [
        "# Noise2Noise : Apprendre la restitution d'images sans données propres - Application avec une architecture U-Net"
      ]
    },
    {
      "cell_type": "markdown",
      "metadata": {
        "id": "wmbroh2BpbXk"
      },
      "source": [
        "### Connection drive"
      ]
    },
    {
      "cell_type": "markdown",
      "metadata": {
        "id": "oliuGjAMpPUW"
      },
      "source": [
        "Dans un premier temps, connectez-vous au drive pour accéder au dataset :"
      ]
    },
    {
      "cell_type": "code",
      "execution_count": 1,
      "metadata": {
        "colab": {
          "base_uri": "https://localhost:8080/"
        },
        "id": "fHCLEcnPYSqO",
        "outputId": "5b8d6a36-3bf8-42d6-a830-7e2855a2c577",
        "vscode": {
          "languageId": "python"
        }
      },
      "outputs": [
        {
          "name": "stdout",
          "output_type": "stream",
          "text": [
            "Mounted at /content/drive\n"
          ]
        }
      ],
      "source": [
        "from google.colab import drive\n",
        "drive.mount('/content/drive')"
      ]
    },
    {
      "cell_type": "markdown",
      "metadata": {
        "id": "YEnjlyXApjYQ"
      },
      "source": [
        "### Importation des librairies pytorch"
      ]
    },
    {
      "cell_type": "code",
      "execution_count": 2,
      "metadata": {
        "id": "A18tiv22X8n9",
        "vscode": {
          "languageId": "python"
        }
      },
      "outputs": [],
      "source": [
        "import torch\n",
        "from torch import optim\n",
        "from torch import Tensor\n",
        "from torch import nn\n",
        "from torch.nn import functional as F\n"
      ]
    },
    {
      "cell_type": "code",
      "execution_count": 3,
      "metadata": {
        "id": "WdswXuKUiqPo",
        "vscode": {
          "languageId": "python"
        }
      },
      "outputs": [],
      "source": [
        "device = torch.device('cuda' if torch.cuda.is_available() else 'cpu')"
      ]
    },
    {
      "cell_type": "markdown",
      "metadata": {
        "id": "Lxvx43ktptSY"
      },
      "source": [
        "### Importation des données"
      ]
    },
    {
      "cell_type": "markdown",
      "metadata": {
        "id": "dojvSU0Qp9iq"
      },
      "source": [
        "Téléchargement de nos données provenant du dataset [Kaggle](https://www.kaggle.com/datasets/mehrdadkianiosh/noisy-images?resource=download). \n",
        "\n",
        "Le dataset est composé de deux fichiers : un fichier `train_data.pkl`contenant 50000 paires d'images bruitées et un fichier `val_data.pkl` contenant 1000 paires d'images bruitées.\n",
        "\n",
        "Le dataset provient d'un challenge Kaggle, il n'y a donc pas de `test set` disponible. Nous testerons directement notre modèle sur le `validation set`.\n",
        "\n",
        "Nous utilisons ici le fichier `augmented_train_data.pkl` que nous avons généré grâce au au jupyter notebook `Data_augmentation.ipynb`. Il contient 150000 paires d'images bruitées, soit les 50000 paires d'images bruitées du fichier `train_data.pkl` et 100000 paires d'images bruitées qui sont des flips horizontaux et verticaux 180° des 50000 paires d'images initiales."
      ]
    },
    {
      "cell_type": "code",
      "execution_count": 4,
      "metadata": {
        "colab": {
          "base_uri": "https://localhost:8080/"
        },
        "id": "sZhIblTpYEsw",
        "outputId": "1fbd2bd7-ea04-4ca9-ed48-8ee33c0c6c1d",
        "vscode": {
          "languageId": "python"
        }
      },
      "outputs": [
        {
          "name": "stdout",
          "output_type": "stream",
          "text": [
            "torch.Size([150000, 3, 32, 32])\n",
            "torch.Size([1000, 3, 32, 32])\n"
          ]
        }
      ],
      "source": [
        "# import data\n",
        "noisy_imgs_1 , noisy_imgs_2 = torch.load('/content/drive/MyDrive/DeepL_Project/dataset/augmented_train_data.pkl')\n",
        "noisy_imgs , clean_imgs = torch.load('/content/drive/MyDrive/DeepL_Project/dataset/val_data.pkl')\n",
        "\n",
        "print(noisy_imgs_1.shape)\n",
        "print(noisy_imgs.shape)\n",
        "\n",
        "# normalized data between 0 and 1 (because some torch function are optimized for inputs between 0 & 1)\n",
        "# noisy_imgs_1 = noisy_imgs_1/255 (we don't normalized here the images from the augmented_train_data.pkl file because it has already been normalized during data_augmentation)\n",
        "# noisy_imgs_2 = noisy_imgs_2/255\n",
        "noisy_imgs = noisy_imgs/255\n",
        "clean_imgs = clean_imgs/255"
      ]
    },
    {
      "cell_type": "markdown",
      "metadata": {
        "id": "ZQeKqNvxp1_C"
      },
      "source": [
        "**Visualisation de notre dataset**"
      ]
    },
    {
      "cell_type": "markdown",
      "metadata": {
        "id": "Fme-Y5YrsSV7"
      },
      "source": [
        "Importez la librairie matplotlib pour visualiser nos données :"
      ]
    },
    {
      "cell_type": "code",
      "execution_count": 5,
      "metadata": {
        "id": "wI-LN6aNbLwR",
        "vscode": {
          "languageId": "python"
        }
      },
      "outputs": [],
      "source": [
        "from matplotlib import pyplot as plt"
      ]
    },
    {
      "cell_type": "markdown",
      "metadata": {
        "id": "zDjV0doNsByH"
      },
      "source": [
        "Utilisation de `torch.permute` pour avoir une vue du tenseur d'origine :\n",
        "\n"
      ]
    },
    {
      "cell_type": "code",
      "execution_count": 6,
      "metadata": {
        "colab": {
          "base_uri": "https://localhost:8080/",
          "height": 553
        },
        "id": "O6l0HomCspCr",
        "outputId": "633d3afa-55d0-48ec-9613-896408aeebcf",
        "vscode": {
          "languageId": "python"
        }
      },
      "outputs": [
        {
          "data": {
            "text/plain": [
              "Text(0.5, 1.0, 'Example of a clean_imgs from the validation set')"
            ]
          },
          "execution_count": 6,
          "metadata": {},
          "output_type": "execute_result"
        },
        {
          "data": {
            "image/png": "[encoded data removed]",
            "text/plain": [
              "<Figure size 1296x648 with 4 Axes>"
            ]
          },
          "metadata": {
            "needs_background": "light"
          },
          "output_type": "display_data"
        }
      ],
      "source": [
        "# create figure\n",
        "fig = plt.figure(figsize=(18, 9))\n",
        "    \n",
        "# setting values to rows and column variables\n",
        "rows = 2\n",
        "columns = 2\n",
        "\n",
        "# adds a subplot\n",
        "fig.add_subplot(rows, columns, 1)\n",
        "\n",
        "# showing image\n",
        "plt.imshow(noisy_imgs_1[7].cpu().permute(1,2,0))\n",
        "plt.axis('off')\n",
        "plt.title(\"Example of a noisy_imgs_1 from the training set\")\n",
        "\n",
        "# adds a subplot\n",
        "fig.add_subplot(rows, columns, 2)\n",
        "    \n",
        "# showing image\n",
        "plt.imshow(noisy_imgs_2[7].cpu().permute(1,2,0))\n",
        "plt.axis('off')\n",
        "plt.title(\"Example of a noisy_imgs_2 from the training set\")\n",
        "      \n",
        "# adds a subplot \n",
        "fig.add_subplot(rows, columns, 3)\n",
        "      \n",
        "# showing image\n",
        "plt.imshow(noisy_imgs[13].cpu().permute(1,2,0))\n",
        "plt.axis('off')\n",
        "plt.title(\"Example of a noisy_imgs from the validation set\")\n",
        "\n",
        "# adds a subplot \n",
        "fig.add_subplot(rows, columns, 4)\n",
        "\n",
        "# showing image\n",
        "plt.imshow(clean_imgs[13].cpu().permute(1,2,0))\n",
        "plt.axis('off')\n",
        "plt.title(\"Example of a clean_imgs from the validation set\")"
      ]
    },
    {
      "cell_type": "markdown",
      "metadata": {
        "id": "LFnP2x1Zy5vG"
      },
      "source": [
        "### Calcul du PSNR avant entraînement de notre modèle"
      ]
    },
    {
      "cell_type": "markdown",
      "metadata": {
        "id": "EhoBHD4Iwkwj"
      },
      "source": [
        "Pour évaluer nos modèles, nous utiliserons la mesure du **PSNR**, exprimée en décibel (dB).\n",
        "\n",
        "Le PSNR permet de quantifier la performance des modèles en mesurant la qualité de reconstruction de l'image compressée par rapport à l'image originale.\n",
        "\n",
        "Pour pouvoir étudier si notre modèle est performant, nous pouvons comparer le PSNR du validation set qui calculera le PSNR entre notre `image bruitée` et notre `clean image`, avec le PSNR après entraînement du modèle qui calculera le PSNR entre notre `predicted image` et notre `clean image`.\n",
        "\n",
        "En conséquence, si nous obtenons un PSNR plus élevé après notre modèle, cela signifie que notre signal et donc le traitement de restauration ou d'amélioration sont meilleurs. "
      ]
    },
    {
      "cell_type": "code",
      "execution_count": 8,
      "metadata": {
        "colab": {
          "base_uri": "https://localhost:8080/"
        },
        "id": "A2-jnB_vsLgn",
        "outputId": "203bf154-7d4f-4937-ff69-241533572195",
        "vscode": {
          "languageId": "python"
        }
      },
      "outputs": [
        {
          "name": "stdout",
          "output_type": "stream",
          "text": [
            "PSNR mean : 20.723881640434264 dB\n"
          ]
        }
      ],
      "source": [
        "def psnr(denoised , ground_truth):\n",
        "# Peak Signal to Noise Ratio : denoised and ground_truth have values between 0 and 1\n",
        "  mse = torch.mean((denoised - ground_truth) ** 2)\n",
        "  return -10 * torch.log10(mse + 10**-8)\n",
        "\n",
        "sum = 0\n",
        "nb_img = noisy_imgs.size(0)\n",
        "psnr_list = []\n",
        "\n",
        "for i in range(nb_img):\n",
        "  psnr_list.append(psnr(noisy_imgs[i].cpu(), clean_imgs[i].cpu()).item())\n",
        "    \n",
        "for j in range(nb_img):\n",
        "  sum = sum + psnr_list[j]\n",
        "\n",
        "mean_psnr = sum/nb_img\n",
        "\n",
        "print(\"PSNR mean : \" + str(mean_psnr) + \" dB\")"
      ]
    },
    {
      "cell_type": "markdown",
      "metadata": {
        "id": "X9kJgmi-zjuo"
      },
      "source": [
        "Nous obtenons un PSNR moyen de 20.72 dB pour notre validation set. Implémentons notre modèle et comparons notre PNSR final à celui-ci."
      ]
    },
    {
      "cell_type": "markdown",
      "metadata": {
        "id": "yLoXgacKosUY"
      },
      "source": [
        "## Architecture U-Net"
      ]
    },
    {
      "cell_type": "markdown",
      "metadata": {
        "id": "f2wj_SV00Te9"
      },
      "source": [
        "Nous implémentons une structure similaire au U-Network :"
      ]
    },
    {
      "cell_type": "code",
      "execution_count": 9,
      "metadata": {
        "id": "FQeM6J2lbDSK",
        "vscode": {
          "languageId": "python"
        }
      },
      "outputs": [],
      "source": [
        "# network architecture\n",
        "class Network(nn.Module):\n",
        "    def __init__(self) -> None:\n",
        "        super().__init__()\n",
        "        pass\n",
        "        \n",
        "        self.conv3_32 = nn.Conv2d(3, 32, kernel_size=3)\n",
        "        self.bn32 = nn.BatchNorm2d(32)\n",
        "        self.conv32_64 = nn.Conv2d(32, 64, kernel_size=3)\n",
        "        self.bn64_1 = nn.BatchNorm2d(64)\n",
        "        ## tests for replace conv32_64 and bn64_1:\n",
        "        # self.conv64_64_A = nn.Conv2d(64, 64, kernel_size=2, stride = 2)  # ----> H = 15\n",
        "        # self.bn64_1_A = nn.BatchNorm2d(64)\n",
        "        # self.conv64_64_B = nn.Conv2d(64, 64, kernel_size=3, stride = 2)  # ----> H = 7\n",
        "        # self.bn64_1_B = nn.BatchNorm2d(64)\n",
        "        # self.conv64_64_C = nn.Conv2d(64, 64, kernel_size=2) # -----> H = 6\n",
        "        # self.bn64_1_C = nn.BatchNorm2d(64)\n",
        "        # self.conv64_64_D = nn.Conv2d(64, 64, kernel_size=3)\n",
        "        # self.bn64_1_D = nn.BatchNorm2d(64)\n",
        "        # self.conv64_64_E = nn.Conv2d(64, 64, kernel_size=3)\n",
        "        # self.bn64_1_E = nn.BatchNorm2d(64)\n",
        "        # self.conv64_64_F = nn.Conv2d(64, 64, kernel_size=3)\n",
        "        # self.bn64_1_F = nn.BatchNorm2d(64)\n",
        "        # self.conv64_64_G = nn.Conv2d(64, 64, kernel_size=3)\n",
        "        # self.bn64_1_G = nn.BatchNorm2d(64)\n",
        "        self.pool2_2_1 = nn.AvgPool2d(kernel_size=(2,2))\n",
        "        self.conv64_64 = nn.Conv2d(64, 64, kernel_size=3)\n",
        "        self.bn64_2 = nn.BatchNorm2d(64)\n",
        "        # self.conv64_64_A = nn.Conv2d(64, 64, kernel_size=3)\n",
        "        # self.bn64_2_A = nn.BatchNorm2d(64)\n",
        "        # self.conv64_64_B = nn.Conv2d(64, 64, kernel_size=3)\n",
        "        # self.bn64_2_B = nn.BatchNorm2d(64)\n",
        "        # self.conv64_64_C = nn.Conv2d(64, 64, kernel_size=3)\n",
        "        # self.bn64_2_C = nn.BatchNorm2d(64)\n",
        "        self.pool2_2_2 = nn.AvgPool2d(kernel_size=(2,2))\n",
        "        # self.conv64_64_2 = nn.Conv2d(64, 64, kernel_size=3)\n",
        "        # self.bn64_3 = nn.BatchNorm2d(64)\n",
        "        # self.pool2_2_3 = nn.AvgPool2d(kernel_size=(2,2))\n",
        "        # self.upsample2_0 = nn.Upsample(scale_factor=2)\n",
        "        # self.t_conv64_64_0 = nn.ConvTranspose2d(64, 64, kernel_size=3)\n",
        "        # self.bn64_4 = nn.BatchNorm2d(64)\n",
        "        self.upsample2_1 = nn.Upsample(scale_factor=2)\n",
        "        self.t_conv64_64 = nn.ConvTranspose2d(64, 64, kernel_size=3)\n",
        "        # self.bn64_5 = nn.BatchNorm2d(64)\n",
        "        # concatenate with output of pool2_2_1\n",
        "        self.upsample2_2 = nn.Upsample(scale_factor=2)\n",
        "        self.t_conv128_64 = nn.ConvTranspose2d(128, 64, kernel_size=3)\n",
        "        # self.bn64_6 = nn.BatchNorm2d(64)\n",
        "        self.t_conv64_32 = nn.ConvTranspose2d(64, 32, kernel_size=3)\n",
        "        # self.bn64_7 = nn.BatchNorm2d(32)\n",
        "        # concatenate with input\n",
        "        self.conv35_32 = nn.Conv2d(35, 32, kernel_size=3)\n",
        "        self.t_conv32_3 = nn.ConvTranspose2d(32, 3, kernel_size=3)\n",
        "        \n",
        "    \n",
        "    def forward(self, x):\n",
        "        x0 = x\n",
        "        x = F.relu(self.conv3_32(x))\n",
        "        # x = self.bn32(x)\n",
        "        x = F.relu(self.conv32_64(x))\n",
        "        # x = self.bn64_1(x)\n",
        "        x1 = F.relu(self.pool2_2_1(x))\n",
        "        # print('pool2_2_1:', x1.shape)\n",
        "        # x = F.relu(self.conv64_64_A(x))\n",
        "        # x = self.bn64_1_A(x)\n",
        "        # print('conv64_64_A :', x.shape)\n",
        "        # x = F.relu(self.conv64_64_B(x))\n",
        "        # x = self.bn64_1_B(x)\n",
        "        # print('conv64_64_B :', x.shape)\n",
        "        # x = F.relu(self.conv64_64_C(x))\n",
        "        # x = self.bn64_1_C(x)\n",
        "        # print('conv64_64_C :', x.shape)\n",
        "        # x = F.relu(self.conv64_64_D(x))\n",
        "        # x = self.bn64_1_D(x)\n",
        "        # x = F.relu(self.conv32_64(x))\n",
        "        # x = self.bn64_1_E(x)\n",
        "        # x = F.relu(self.conv64_64_F(x))\n",
        "        # x = self.bn64_1_F(x)\n",
        "        # x = F.relu(self.conv64_64_G(x))\n",
        "        # x1 = self.bn64_1_G(x)\n",
        "        x = F.relu(self.conv64_64(x1))\n",
        "        # x = self.bn64_2(x)\n",
        "        # print('conv64_64:', x.shape)\n",
        "        # x = F.relu(self.conv64_64_A(x))\n",
        "        # x = self.bn64_2_A(x)\n",
        "        # x = F.relu(self.conv64_64_B(x))\n",
        "        # x = self.bn64_2_B(x)\n",
        "        # x = F.relu(self.conv64_64_C(x))\n",
        "        # x = self.bn64_2_C(x)\n",
        "        x = F.relu(self.pool2_2_2(x))\n",
        "        # print('pool2_2_2:', x.shape)\n",
        "        # x = F.relu(self.conv64_64_2(x2))\n",
        "        # x = self.bn64_3(x)\n",
        "        # x = F.relu(self.pool2_2_3(x))\n",
        "        # x = F.relu(self.upsample2_0(x))\n",
        "        # x = F.relu(self.t_conv64_64_0(x))\n",
        "        # x = self.bn64_4(x)\n",
        "        # x = torch.cat((x, x2), dim=1)\n",
        "        x = F.relu(self.upsample2_1(x))\n",
        "        # print('upsample2_1:', x.shape)\n",
        "        x = F.relu(self.t_conv64_64(x))\n",
        "        # x = self.bn64_5(x)\n",
        "        # print('t_conv64_64:', x.shape)\n",
        "        x = torch.cat((x, x1), dim=1)\n",
        "        x = F.relu(self.upsample2_2(x))\n",
        "        x = F.relu(self.t_conv128_64(x))\n",
        "        #x = self.bn64_6(x)\n",
        "        x = F.relu(self.t_conv64_32(x))\n",
        "        #x = self.bn64_7(x)\n",
        "        x = torch.cat((x, x0), dim=1)\n",
        "        x = F.relu(self.conv35_32(x))\n",
        "        x = F.relu(self.t_conv32_3(x))\n",
        "\n",
        "        return x"
      ]
    },
    {
      "cell_type": "code",
      "execution_count": 10,
      "metadata": {
        "id": "9bRICnITjCvU",
        "vscode": {
          "languageId": "python"
        }
      },
      "outputs": [],
      "source": [
        "class Model(nn.Module):\n",
        "    def __init__(self) -> None:\n",
        "        # instantiation of the model, loss function and optimizer\n",
        "        super().__init__()\n",
        "        self.autoencoder = Network().to(device)\n",
        "        self.criterion = nn.MSELoss().to(device)\n",
        "        self.optimizer = torch.optim.Adam(self.autoencoder.parameters(), lr = 1e-3)\n",
        "        self.weight_initialization()\n",
        "        pass\n",
        "\n",
        "    def weight_initialization(self):\n",
        "        for mod in self.modules():\n",
        "          if isinstance(mod, nn.Conv2d):\n",
        "            nn.init.kaiming_normal_(mod.weight.data)\n",
        "            mod.bias.data.zero_()\n",
        "\n",
        "    def load_last_trained_model (self) :\n",
        "    # to load the parameters saved in parameters_models_UNet.pth into the model\n",
        "    # self.load_state_dict(torch.load(path, map_location=torch.device(device)))        \n",
        "        saved_model_path = \"/content/drive/MyDrive/DeepL_Project/parameters_models_UNet.pth\"\n",
        "        model = torch.load(saved_model_path)\n",
        "        self.load_state_dict(model)\n",
        "        self.to(device)\n",
        "        pass\n",
        "  \n",
        "    def save_parameters_Model(self) :\n",
        "        # to save our parameters in parameters_models.pth\n",
        "        torch.save(self.state_dict(), '/content/drive/MyDrive/DeepL_Project/parameters_models_UNet.pth')\n",
        "        pass \n",
        "\n",
        "    def train(self, train_imgs_1, train_imgs_2, nb_epochs) -> None:\n",
        "        # train_imgs_1 : tensor of size (N, C, H, W) with a noisy version of the images     \n",
        "        # train_imgs_2 : tensor of size (N, C, H, W) with another noisy version of the same images, which only differs from the input by their noise\n",
        "        mini_batch_size = 100\n",
        "        loss_list = []\n",
        "\n",
        "        for e in range(nb_epochs):\n",
        "            acc_loss = 0\n",
        "            for b in range(0, train_imgs_1.size(0), mini_batch_size):\n",
        "                output = self.autoencoder(train_imgs_1.narrow(0, b, mini_batch_size).to(device))\n",
        "                loss = self.criterion(output, train_imgs_2.narrow(0, b, mini_batch_size).to(device))\n",
        "                acc_loss = acc_loss + loss.item()\n",
        "                # self.autoencoder.zero_grad()\n",
        "                self.optimizer.zero_grad()\n",
        "                loss.backward()\n",
        "                self.optimizer.step()\n",
        "            print(e, acc_loss)\n",
        "\n",
        "            print(\"Loss : \", loss.item())\n",
        "            loss_list.append(loss.item())\n",
        "        return loss_list\n",
        "        pass\n",
        "\n",
        "    def prediction(self, val_input) -> torch.Tensor:\n",
        "        # val_input : tensor of size (N1, C, H, W) that has to be denoised by the trained network\n",
        "        # returns a tensor of the size (N1, C, H, W)\n",
        "        return self.autoencoder(val_input)\n",
        "        pass\n",
        "\n",
        "torch.cuda.empty_cache()"
      ]
    },
    {
      "cell_type": "markdown",
      "metadata": {
        "id": "tqwzpIWW-Lxv"
      },
      "source": [
        "**Entraînement de notre modèle**"
      ]
    },
    {
      "cell_type": "markdown",
      "metadata": {
        "id": "sQ8o44sj0E2A"
      },
      "source": [
        "Installez la librairie `ipython-autotime` afin de pouvoir indiquer le temps d'exécution de notre modèle :"
      ]
    },
    {
      "cell_type": "code",
      "execution_count": 11,
      "metadata": {
        "colab": {
          "base_uri": "https://localhost:8080/"
        },
        "id": "4sBc2wL1y49F",
        "outputId": "e8edd98d-6c95-43fe-e7c2-67e633cdbcbb",
        "vscode": {
          "languageId": "python"
        }
      },
      "outputs": [
        {
          "name": "stdout",
          "output_type": "stream",
          "text": [
            "Looking in indexes: https://pypi.org/simple, https://us-python.pkg.dev/colab-wheels/public/simple/\n",
            "Collecting ipython-autotime\n",
            "  Downloading ipython_autotime-0.3.1-py2.py3-none-any.whl (6.8 kB)\n",
            "Requirement already satisfied: ipython in /usr/local/lib/python3.8/dist-packages (from ipython-autotime) (7.9.0)\n",
            "Requirement already satisfied: prompt-toolkit<2.1.0,>=2.0.0 in /usr/local/lib/python3.8/dist-packages (from ipython->ipython-autotime) (2.0.10)\n",
            "Requirement already satisfied: setuptools>=18.5 in /usr/local/lib/python3.8/dist-packages (from ipython->ipython-autotime) (57.4.0)\n",
            "Requirement already satisfied: traitlets>=4.2 in /usr/local/lib/python3.8/dist-packages (from ipython->ipython-autotime) (5.7.1)\n",
            "Requirement already satisfied: pickleshare in /usr/local/lib/python3.8/dist-packages (from ipython->ipython-autotime) (0.7.5)\n",
            "Collecting jedi>=0.10\n",
            "  Downloading jedi-0.18.2-py2.py3-none-any.whl (1.6 MB)\n",
            "\u001b[2K     \u001b[90m━━━━━━━━━━━━━━━━━━━━━━━━━━━━━━━━━━━━━━━━\u001b[0m \u001b[32m1.6/1.6 MB\u001b[0m \u001b[31m60.2 MB/s\u001b[0m eta \u001b[36m0:00:00\u001b[0m\n",
            "\u001b[?25hRequirement already satisfied: backcall in /usr/local/lib/python3.8/dist-packages (from ipython->ipython-autotime) (0.2.0)\n",
            "Requirement already satisfied: pexpect in /usr/local/lib/python3.8/dist-packages (from ipython->ipython-autotime) (4.8.0)\n",
            "Requirement already satisfied: decorator in /usr/local/lib/python3.8/dist-packages (from ipython->ipython-autotime) (4.4.2)\n",
            "Requirement already satisfied: pygments in /usr/local/lib/python3.8/dist-packages (from ipython->ipython-autotime) (2.6.1)\n",
            "Requirement already satisfied: parso<0.9.0,>=0.8.0 in /usr/local/lib/python3.8/dist-packages (from jedi>=0.10->ipython->ipython-autotime) (0.8.3)\n",
            "Requirement already satisfied: six>=1.9.0 in /usr/local/lib/python3.8/dist-packages (from prompt-toolkit<2.1.0,>=2.0.0->ipython->ipython-autotime) (1.15.0)\n",
            "Requirement already satisfied: wcwidth in /usr/local/lib/python3.8/dist-packages (from prompt-toolkit<2.1.0,>=2.0.0->ipython->ipython-autotime) (0.2.6)\n",
            "Requirement already satisfied: ptyprocess>=0.5 in /usr/local/lib/python3.8/dist-packages (from pexpect->ipython->ipython-autotime) (0.7.0)\n",
            "Installing collected packages: jedi, ipython-autotime\n",
            "Successfully installed ipython-autotime-0.3.1 jedi-0.18.2\n",
            "time: 518 µs (started: 2023-03-02 13:40:01 +00:00)\n"
          ]
        }
      ],
      "source": [
        "!pip install ipython-autotime\n",
        "%load_ext autotime"
      ]
    },
    {
      "cell_type": "code",
      "execution_count": 12,
      "metadata": {
        "colab": {
          "base_uri": "https://localhost:8080/"
        },
        "id": "P8rF0oBYQsje",
        "outputId": "644f5e6c-3944-4c54-be51-63c4e713660d",
        "vscode": {
          "languageId": "python"
        }
      },
      "outputs": [
        {
          "name": "stdout",
          "output_type": "stream",
          "text": [
            "time: 3.68 s (started: 2023-03-02 13:40:01 +00:00)\n"
          ]
        }
      ],
      "source": [
        "m = Model()"
      ]
    },
    {
      "cell_type": "markdown",
      "metadata": {
        "id": "WIZJGxDFQ2sw"
      },
      "source": [
        "Téléchargez le dernier train modèle sauvegardé afin de ne pas réexécuter le modèle par la suite : "
      ]
    },
    {
      "cell_type": "code",
      "execution_count": 15,
      "metadata": {
        "colab": {
          "base_uri": "https://localhost:8080/"
        },
        "id": "CbWEoMFAQ0lp",
        "outputId": "d6985dd3-135f-4f6e-ba3b-03c7410ea738",
        "vscode": {
          "languageId": "python"
        }
      },
      "outputs": [
        {
          "name": "stdout",
          "output_type": "stream",
          "text": [
            "time: 11.9 ms (started: 2023-03-02 13:53:34 +00:00)\n"
          ]
        }
      ],
      "source": [
        "m.load_last_trained_model()"
      ]
    },
    {
      "cell_type": "markdown",
      "metadata": {
        "id": "pOoSnBr0Wl2s"
      },
      "source": [
        "\n",
        "\n",
        "---\n",
        "\n"
      ]
    },
    {
      "cell_type": "markdown",
      "metadata": {
        "id": "wx62wPs1T8Vu"
      },
      "source": [
        "*Les deux cellules suivantes sont à exécuter uniquement si vous voulez entraîner d'autres architectures de réseaux.*"
      ]
    },
    {
      "cell_type": "markdown",
      "metadata": {
        "id": "Xwao36abRHE7"
      },
      "source": [
        "Exécuter la cellule uniquement si vous voulez entraîné un nouveau réseau :"
      ]
    },
    {
      "cell_type": "code",
      "execution_count": 13,
      "metadata": {
        "colab": {
          "base_uri": "https://localhost:8080/"
        },
        "id": "b2PAfEofmJnG",
        "outputId": "21ece832-159f-451e-9dd1-b417f50b5929",
        "vscode": {
          "languageId": "python"
        }
      },
      "outputs": [
        {
          "name": "stdout",
          "output_type": "stream",
          "text": [
            "0 24.996354241855443\n",
            "Loss :  0.01613919623196125\n",
            "1 22.237421745434403\n",
            "Loss :  0.015879202634096146\n",
            "2 22.021718132309616\n",
            "Loss :  0.015822328627109528\n",
            "3 21.91817636694759\n",
            "Loss :  0.015767766162753105\n",
            "4 21.849910037592053\n",
            "Loss :  0.015706107020378113\n",
            "5 21.800686256960034\n",
            "Loss :  0.0156735610216856\n",
            "6 21.76327082887292\n",
            "Loss :  0.01565554179251194\n",
            "7 21.73340446408838\n",
            "Loss :  0.01564016565680504\n",
            "8 21.70881509501487\n",
            "Loss :  0.01562137994915247\n",
            "9 21.687271933071315\n",
            "Loss :  0.015616101212799549\n",
            "10 21.670009254477918\n",
            "Loss :  0.015602334402501583\n",
            "11 21.654969410970807\n",
            "Loss :  0.015593208372592926\n",
            "12 21.640687893144786\n",
            "Loss :  0.015578152611851692\n",
            "13 21.629314234480262\n",
            "Loss :  0.015571949072182178\n",
            "14 21.618843507021666\n",
            "Loss :  0.015562108717858791\n",
            "15 21.608671374619007\n",
            "Loss :  0.015556580387055874\n",
            "16 21.600387077778578\n",
            "Loss :  0.015559832565486431\n",
            "17 21.5925786877051\n",
            "Loss :  0.015548784285783768\n",
            "18 21.58489345666021\n",
            "Loss :  0.015549629926681519\n",
            "19 21.57847945764661\n",
            "Loss :  0.015537599101662636\n",
            "time: 13min 28s (started: 2023-03-02 13:40:05 +00:00)\n"
          ]
        }
      ],
      "source": [
        "loss_list = m.train(noisy_imgs_1.float(), noisy_imgs_2.float(), nb_epochs = 20)"
      ]
    },
    {
      "cell_type": "markdown",
      "metadata": {
        "id": "ASf-6ViHQx25"
      },
      "source": [
        "Le fichier `parameters_models_UNet.pth` permet de sauvegarder les paramètres du training pour garder en mémoire les performances des différentes architectures réseaux (pas besoin de relancer de training pour une architecture qui a déjà été lancée ! ). Dans le fichier `parameters_models_UNet.pth` se trouve uniquement les paramètres de notre modèle sélectionné. Si vous voulez entraîner d'autres réseaux et les sauvegarder dans le fichier, exécutez la cellule suivante :\n"
      ]
    },
    {
      "cell_type": "code",
      "execution_count": 14,
      "metadata": {
        "colab": {
          "base_uri": "https://localhost:8080/"
        },
        "id": "32Qdv8ahQv-t",
        "outputId": "adf095d2-0013-4adc-d05e-656aeda93b11",
        "vscode": {
          "languageId": "python"
        }
      },
      "outputs": [
        {
          "name": "stdout",
          "output_type": "stream",
          "text": [
            "time: 15.8 ms (started: 2023-03-02 13:53:34 +00:00)\n"
          ]
        }
      ],
      "source": [
        "m.save_parameters_Model()"
      ]
    },
    {
      "cell_type": "markdown",
      "metadata": {
        "id": "4hk5lFlVsjbv"
      },
      "source": [
        "**Visualition de la `loss function` en fonction du nombre d'epochs**"
      ]
    },
    {
      "cell_type": "markdown",
      "metadata": {
        "id": "28zp3f9nsfLy"
      },
      "source": [
        "Importez la libraire numpy :"
      ]
    },
    {
      "cell_type": "code",
      "execution_count": 16,
      "metadata": {
        "colab": {
          "base_uri": "https://localhost:8080/"
        },
        "id": "a0Iup49nwENd",
        "outputId": "3a3b8b42-351f-4887-b201-5963e49765fa",
        "vscode": {
          "languageId": "python"
        }
      },
      "outputs": [
        {
          "name": "stdout",
          "output_type": "stream",
          "text": [
            "time: 649 µs (started: 2023-03-02 13:53:34 +00:00)\n"
          ]
        }
      ],
      "source": [
        "import numpy as np"
      ]
    },
    {
      "cell_type": "code",
      "execution_count": 17,
      "metadata": {
        "colab": {
          "base_uri": "https://localhost:8080/",
          "height": 314
        },
        "id": "Mt9jJgsPtaM9",
        "outputId": "d5f9f14b-ad5a-4e44-d637-a26f20e51a94",
        "vscode": {
          "languageId": "python"
        }
      },
      "outputs": [
        {
          "data": {
            "image/png": "[encoded data removed]",
            "text/plain": [
              "<Figure size 432x288 with 1 Axes>"
            ]
          },
          "metadata": {
            "needs_background": "light"
          },
          "output_type": "display_data"
        },
        {
          "name": "stdout",
          "output_type": "stream",
          "text": [
            "time: 194 ms (started: 2023-03-02 13:53:34 +00:00)\n"
          ]
        }
      ],
      "source": [
        "# create a numpy array manually to have our number of epochs\n",
        "epochs = np.arange(1,21)\n",
        "\n",
        "# create figure\n",
        "plt.plot(epochs,loss_list)\n",
        "\n",
        "# add titles\n",
        "plt.title(\"Évolution de la loss function en fonction du nombre d'epochs\")\n",
        "plt.xlabel(\"Nombre d'epochs\")\n",
        "plt.ylabel('Loss function')\n",
        "\n",
        "# showing figure\n",
        "plt.show()"
      ]
    },
    {
      "cell_type": "markdown",
      "metadata": {
        "id": "6fY0rhu4tjlL"
      },
      "source": [
        "Nous observons que notre `loss function` décroît bien en fonction du nombre d'epochs."
      ]
    },
    {
      "cell_type": "markdown",
      "metadata": {
        "id": "xKPv9BvmtyGl"
      },
      "source": [
        "**Déclaration et visualation de notre `predicted image`** "
      ]
    },
    {
      "cell_type": "code",
      "execution_count": 18,
      "metadata": {
        "colab": {
          "base_uri": "https://localhost:8080/",
          "height": 301
        },
        "id": "NhSXz4yKaJQq",
        "outputId": "66ef8273-b569-478d-d18d-c7db1834cb1f",
        "vscode": {
          "languageId": "python"
        }
      },
      "outputs": [
        {
          "name": "stderr",
          "output_type": "stream",
          "text": [
            "WARNING:matplotlib.image:Clipping input data to the valid range for imshow with RGB data ([0..1] for floats or [0..255] for integers).\n"
          ]
        },
        {
          "data": {
            "image/png": "[encoded data removed]",
            "text/plain": [
              "<Figure size 432x288 with 1 Axes>"
            ]
          },
          "metadata": {
            "needs_background": "light"
          },
          "output_type": "display_data"
        },
        {
          "name": "stdout",
          "output_type": "stream",
          "text": [
            "time: 294 ms (started: 2023-03-02 13:53:34 +00:00)\n"
          ]
        }
      ],
      "source": [
        "predicted_img = m.prediction(noisy_imgs.float().to(device))\n",
        "\n",
        "with torch.no_grad():\n",
        "  plt.imshow(predicted_img[13].cpu().permute(1,2,0))"
      ]
    },
    {
      "cell_type": "markdown",
      "metadata": {
        "id": "O9YfotX13YOC"
      },
      "source": [
        "### Visualisation finale des données du `validation set`"
      ]
    },
    {
      "cell_type": "code",
      "execution_count": 19,
      "metadata": {
        "colab": {
          "base_uri": "https://localhost:8080/",
          "height": 377
        },
        "id": "glSoDqzaoBOW",
        "outputId": "291b1797-c12b-4d5d-a5dc-f73db5d4d681",
        "vscode": {
          "languageId": "python"
        }
      },
      "outputs": [
        {
          "name": "stderr",
          "output_type": "stream",
          "text": [
            "WARNING:matplotlib.image:Clipping input data to the valid range for imshow with RGB data ([0..1] for floats or [0..255] for integers).\n"
          ]
        },
        {
          "data": {
            "image/png": "[encoded data removed]",
            "text/plain": [
              "<Figure size 1296x648 with 3 Axes>"
            ]
          },
          "metadata": {
            "needs_background": "light"
          },
          "output_type": "display_data"
        },
        {
          "name": "stdout",
          "output_type": "stream",
          "text": [
            "time: 238 ms (started: 2023-03-02 13:53:34 +00:00)\n"
          ]
        }
      ],
      "source": [
        "with torch.no_grad():\n",
        "\n",
        "  # create figure\n",
        "  fig = plt.figure(figsize=(18, 9))\n",
        "    \n",
        "  # setting values to rows and column variables\n",
        "  rows = 1\n",
        "  columns = 3\n",
        "\n",
        "  # adds a subplot \n",
        "  fig.add_subplot(rows, columns, 1)\n",
        "\n",
        "  # showing image\n",
        "  plt.imshow(noisy_imgs[13].cpu().permute(1,2,0))\n",
        "  plt.axis('off')\n",
        "  plt.title(\"Input Image\")\n",
        "\n",
        "  # adds a subplot \n",
        "  fig.add_subplot(rows, columns, 2)\n",
        "    \n",
        "  # showing image\n",
        "  plt.imshow(clean_imgs[13].cpu().permute(1,2,0))\n",
        "  plt.axis('off')\n",
        "  plt.title(\"Clean Image\")\n",
        "      \n",
        "  # adds a subplot \n",
        "  fig.add_subplot(rows, columns, 3)\n",
        "      \n",
        "  # showing image\n",
        "  plt.imshow(predicted_img[13].cpu().permute(1,2,0))\n",
        "  plt.axis('off')\n",
        "  plt.title(\"Predicted Image\")"
      ]
    },
    {
      "cell_type": "markdown",
      "metadata": {
        "id": "gA2YTQgz3ph5"
      },
      "source": [
        "Nous remarquons que notre `predicted image` est très proche visuellement de la `clean image`.\n",
        "\n",
        "Il est important de souligner que notre jeu de données est en base résolution pour permettre de réduire les temps de calculs pouvant être trop volumineux en haute réoslution. Notre `clean image` et `predicted image` restent donc floues à l'oeil nu."
      ]
    },
    {
      "cell_type": "markdown",
      "metadata": {
        "id": "1SwotXJu2vxs"
      },
      "source": [
        "### Calcul du PSNR après entraînement de notre modèle"
      ]
    },
    {
      "cell_type": "code",
      "execution_count": 20,
      "metadata": {
        "colab": {
          "base_uri": "https://localhost:8080/"
        },
        "id": "zu-iEQrKkEpg",
        "outputId": "22593ea6-297c-41cf-b0bb-df2a8c3ce216",
        "vscode": {
          "languageId": "python"
        }
      },
      "outputs": [
        {
          "name": "stdout",
          "output_type": "stream",
          "text": [
            "PSNR mean : 25.500698640823366 dB\n",
            "time: 97.1 ms (started: 2023-03-02 13:53:35 +00:00)\n"
          ]
        }
      ],
      "source": [
        "def psnr(denoised , ground_truth):\n",
        "# Peak Signal to Noise Ratio: denoised and grounḋ_truth have values between 0 and 1\n",
        "  mse = torch.mean((denoised - ground_truth) ** 2)\n",
        "  return -10 * torch.log10(mse + 10**-8)\n",
        "\n",
        "sum = 0\n",
        "nb_img = predicted_img.size(0)\n",
        "psnr_list = []\n",
        "\n",
        "for i in range(nb_img):\n",
        "  psnr_list.append(psnr(predicted_img[i].cpu(), clean_imgs[i].cpu()).item())\n",
        "    \n",
        "for j in range(nb_img):\n",
        "  sum = sum + psnr_list[j]\n",
        "\n",
        "mean_psnr = sum/nb_img\n",
        "\n",
        "print(\"PSNR mean : \" + str(mean_psnr) + \" dB\")\n",
        "\n",
        "# with 8 batch normalization, PSNR = 24.86\n",
        "# with 4 batch normalization (down sampling), PSNR = 25.08 ------> not to much batch normalization\n",
        "# however, batch normalization lowers massively the loss\n",
        "# with one less layer and 4 batch normalization, PSNR = 25.12\n",
        "# more channels, PSNR = 25.04\n",
        "# less channels, slightly higher loss at beginning, PSNR = 24.69\n",
        "# another less layer + very low channels at end, slightly higher loss at beginning, PSNR = 23.42 ------> keep current number of layers (2 concatenates)\n",
        "# back to an extra layer but still low nb_channels at end, highest loss up to now at beginning, PSNR = 23.52 \n",
        "# back to higher nb of channels at the end, back to lower loss, PSNR = 24.93 -----> keep higher nb of channels at end + keep AvgPool\n",
        "# back to AvgPool, PSNR = 25.05\n",
        "# replace avgpools by simple enc_convs, PSNR = 24.47\n",
        "# adding stride and changing kernel size, very high loss at beginning, PSNR = 23.63\n",
        "# back to best model but with no enc-dec at the end, PSNR = 23.73\n",
        "# back to final conv-deconv, PSNR = 25.02 \n",
        "# current state without data augmentation, PSNR = 25.34 \n",
        "# current state with data augmentation, PSNR = 25.50"
      ]
    },
    {
      "cell_type": "markdown",
      "metadata": {
        "id": "Sy1Wzg4X2s-P"
      },
      "source": [
        "Nous obtenons un PSNR moyen de 25.50 dB après l'entraînement de notre U-Net avec data augmentation et 25.34 sans data augmentation avec le fichier `train_data.pkl`.\n",
        "\n",
        "En conséquence, nous obtenons un PSNR plus élevé après entraînement de notre modèle, cela signifie que notre signal et donc le traitement de restauration ou d'amélioration sont meilleurs. L'architecture U-Net obtient le PSNR le plus élevé par rapport aux autres modèles entraînés."
      ]
    }
  ],
  "metadata": {
    "accelerator": "GPU",
    "colab": {
      "machine_shape": "hm",
      "provenance": []
    },
    "gpuClass": "premium",
    "kernelspec": {
      "display_name": "Python 3 (ipykernel)",
      "language": "python",
      "name": "python3"
    }
  },
  "nbformat": 4,
  "nbformat_minor": 0
}
