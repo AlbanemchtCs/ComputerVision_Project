{
  "cells": [
    {
      "cell_type": "markdown",
      "source": [
        "# Noise2Noise : Apprendre la restitution d'images sans données propres - Application avec une architecture U-Net"
      ],
      "metadata": {
        "id": "_4p-3wN1oJjt"
      }
    },
    {
      "cell_type": "markdown",
      "source": [
        "### Connection drive"
      ],
      "metadata": {
        "id": "wmbroh2BpbXk"
      }
    },
    {
      "cell_type": "markdown",
      "source": [
        "Dans un premier temps, connectez-vous au drive pour accéder au dataset :"
      ],
      "metadata": {
        "id": "oliuGjAMpPUW"
      }
    },
    {
      "cell_type": "code",
      "execution_count": null,
      "metadata": {
        "id": "fHCLEcnPYSqO",
        "colab": {
          "base_uri": "https://localhost:8080/"
        },
        "outputId": "06ed92a0-f425-42e8-f9d9-c7af987d916c"
      },
      "outputs": [
        {
          "output_type": "stream",
          "name": "stdout",
          "text": [
            "Mounted at /content/drive\n"
          ]
        }
      ],
      "source": [
        "from google.colab import drive\n",
        "drive.mount('/content/drive')"
      ]
    },
    {
      "cell_type": "markdown",
      "source": [
        "### Importation des librairies pytorch"
      ],
      "metadata": {
        "id": "YEnjlyXApjYQ"
      }
    },
    {
      "cell_type": "code",
      "execution_count": null,
      "metadata": {
        "id": "A18tiv22X8n9"
      },
      "outputs": [],
      "source": [
        "import torch\n",
        "from torch import optim\n",
        "from torch import Tensor\n",
        "from torch import nn\n",
        "from torch.nn import functional as F\n"
      ]
    },
    {
      "cell_type": "code",
      "execution_count": null,
      "metadata": {
        "id": "WdswXuKUiqPo"
      },
      "outputs": [],
      "source": [
        "device = torch.device('cuda' if torch.cuda.is_available() else 'cpu')"
      ]
    },
    {
      "cell_type": "markdown",
      "source": [
        "### Importation des données"
      ],
      "metadata": {
        "id": "Lxvx43ktptSY"
      }
    },
    {
      "cell_type": "markdown",
      "source": [
        "Téléchargement de nos données provenant du dataset [Kaggle](https://www.kaggle.com/datasets/mehrdadkianiosh/noisy-images?resource=download). \n",
        "\n",
        "Le dataset est composé de deux fichiers : un fichier `train_data.pkl`contenant 50000 paires d'images bruitées et un fichier `val_data.pkl` contenant 1000 paires d'images bruitées.\n",
        "\n",
        "Le dataset provient d'un challenge Kaggle, il n'y a donc pas de `test set` disponible. Nous testerons directement notre modèle sur le `validation set`.\n",
        "\n",
        "Nous utilisons ici le fichier `augmented_train_data.pkl` que nous avons généré grâce au au jupyter notebook `Data_augmentation.ipynb`. Il contient 150000 paires d'images bruitées, soit les 50000 paires d'images bruitées du fichier `train_data.pkl` et 100000 paires d'images bruitées qui sont des flips horizontaux et verticaux 180° des 50000 paires d'images initiales."
      ],
      "metadata": {
        "id": "dojvSU0Qp9iq"
      }
    },
    {
      "cell_type": "code",
      "execution_count": null,
      "metadata": {
        "colab": {
          "base_uri": "https://localhost:8080/"
        },
        "id": "sZhIblTpYEsw",
        "outputId": "cdfc3be2-ced4-470c-9406-3c5b9bcc5ad0"
      },
      "outputs": [
        {
          "output_type": "stream",
          "name": "stdout",
          "text": [
            "torch.Size([150000, 3, 32, 32])\n"
          ]
        },
        {
          "output_type": "error",
          "ename": "AttributeError",
          "evalue": "ignored",
          "traceback": [
            "\u001b[0;31m---------------------------------------------------------------------------\u001b[0m",
            "\u001b[0;31mAttributeError\u001b[0m                            Traceback (most recent call last)",
            "\u001b[0;32m<ipython-input-19-639a416f0d22>\u001b[0m in \u001b[0;36m<module>\u001b[0;34m\u001b[0m\n\u001b[1;32m      4\u001b[0m \u001b[0;34m\u001b[0m\u001b[0m\n\u001b[1;32m      5\u001b[0m \u001b[0mprint\u001b[0m\u001b[0;34m(\u001b[0m\u001b[0mnoisy_imgs_1\u001b[0m\u001b[0;34m.\u001b[0m\u001b[0mshape\u001b[0m\u001b[0;34m)\u001b[0m\u001b[0;34m\u001b[0m\u001b[0;34m\u001b[0m\u001b[0m\n\u001b[0;32m----> 6\u001b[0;31m \u001b[0mprint\u001b[0m\u001b[0;34m(\u001b[0m\u001b[0mnoisy_imgs_2\u001b[0m\u001b[0;34m.\u001b[0m\u001b[0mshape\u001b[0m\u001b[0;34m)\u001b[0m\u001b[0;34m\u001b[0m\u001b[0;34m\u001b[0m\u001b[0m\n\u001b[0m\u001b[1;32m      7\u001b[0m \u001b[0mprint\u001b[0m\u001b[0;34m(\u001b[0m\u001b[0mnoisy_imgs\u001b[0m\u001b[0;34m.\u001b[0m\u001b[0mshape\u001b[0m\u001b[0;34m)\u001b[0m\u001b[0;34m\u001b[0m\u001b[0;34m\u001b[0m\u001b[0m\n\u001b[1;32m      8\u001b[0m \u001b[0;34m\u001b[0m\u001b[0m\n",
            "\u001b[0;31mAttributeError\u001b[0m: 'list' object has no attribute 'shape'"
          ]
        },
        {
          "output_type": "stream",
          "name": "stdout",
          "text": [
            "time: 1min 11s (started: 2023-03-28 21:14:09 +00:00)\n"
          ]
        }
      ],
      "source": [
        "# import data\n",
        "noisy_imgs_1 , noisy_imgs_2 = torch.load('/content/drive/MyDrive/ComputerVision/dataset/color_augmented_train_data_1.pkl')\n",
        "noisy_imgs , clean_imgs = torch.load('/content/drive/MyDrive/ComputerVision/dataset/val_data.pkl')\n",
        "\n",
        "print(noisy_imgs_1.shape)\n",
        "print(noisy_imgs_2.shape)\n",
        "print(noisy_imgs.shape)\n",
        "\n",
        "# normalized data between 0 and 1 (because some torch function are optimized for inputs between 0 & 1)\n",
        "# noisy_imgs_1 = noisy_imgs_1/255 (we don't normalized here the images from the augmented_train_data.pkl file because it has already been normalized during data_augmentation)\n",
        "# noisy_imgs_2 = noisy_imgs_2/255\n",
        "noisy_imgs = noisy_imgs/255\n",
        "clean_imgs = clean_imgs/255"
      ]
    },
    {
      "cell_type": "markdown",
      "source": [
        "**Visualisation de notre dataset**"
      ],
      "metadata": {
        "id": "ZQeKqNvxp1_C"
      }
    },
    {
      "cell_type": "markdown",
      "source": [
        "Importez la librairie matplotlib pour visualiser nos données :"
      ],
      "metadata": {
        "id": "Fme-Y5YrsSV7"
      }
    },
    {
      "cell_type": "code",
      "execution_count": null,
      "metadata": {
        "id": "wI-LN6aNbLwR"
      },
      "outputs": [],
      "source": [
        "from matplotlib import pyplot as plt"
      ]
    },
    {
      "cell_type": "markdown",
      "source": [
        "Utilisation de `torch.permute` pour avoir une vue du tenseur d'origine :\n",
        "\n"
      ],
      "metadata": {
        "id": "zDjV0doNsByH"
      }
    },
    {
      "cell_type": "code",
      "source": [
        "# create figure\n",
        "fig = plt.figure(figsize=(18, 9))\n",
        "    \n",
        "# setting values to rows and column variables\n",
        "rows = 2\n",
        "columns = 2\n",
        "\n",
        "# adds a subplot\n",
        "fig.add_subplot(rows, columns, 1)\n",
        "\n",
        "# showing image\n",
        "plt.imshow(noisy_imgs_1[7].cpu().permute(1,2,0))\n",
        "plt.axis('off')\n",
        "plt.title(\"Example of a noisy_imgs_1 from the training set\")\n",
        "\n",
        "# adds a subplot\n",
        "fig.add_subplot(rows, columns, 2)\n",
        "    \n",
        "# showing image\n",
        "plt.imshow(noisy_imgs_2[7].cpu().permute(1,2,0))\n",
        "plt.axis('off')\n",
        "plt.title(\"Example of a noisy_imgs_2 from the training set\")\n",
        "      \n",
        "# adds a subplot \n",
        "fig.add_subplot(rows, columns, 3)\n",
        "      \n",
        "# showing image\n",
        "plt.imshow(noisy_imgs[13].cpu().permute(1,2,0))\n",
        "plt.axis('off')\n",
        "plt.title(\"Example of a noisy_imgs from the validation set\")\n",
        "\n",
        "# adds a subplot \n",
        "fig.add_subplot(rows, columns, 4)\n",
        "\n",
        "# showing image\n",
        "plt.imshow(clean_imgs[13].cpu().permute(1,2,0))\n",
        "plt.axis('off')\n",
        "plt.title(\"Example of a clean_imgs from the validation set\")"
      ],
      "metadata": {
        "colab": {
          "base_uri": "https://localhost:8080/",
          "height": 553
        },
        "id": "O6l0HomCspCr",
        "outputId": "59386cdd-7579-4cee-9fe2-aeaac063e0cf"
      },
      "execution_count": null,
      "outputs": [
        {
          "output_type": "execute_result",
          "data": {
            "text/plain": [
              "Text(0.5, 1.0, 'Example of a clean_imgs from the validation set')"
            ]
          },
          "metadata": {},
          "execution_count": 6
        },
        {
          "output_type": "display_data",
          "data": {
            "text/plain": [
              "<Figure size 1296x648 with 4 Axes>"
            ],
            "image/png": "[encoded data removed]"
          },
          "metadata": {
            "needs_background": "light"
          }
        }
      ]
    },
    {
      "cell_type": "markdown",
      "source": [
        "### Calcul du PSNR avant entraînement de notre modèle"
      ],
      "metadata": {
        "id": "LFnP2x1Zy5vG"
      }
    },
    {
      "cell_type": "markdown",
      "source": [
        "Pour évaluer nos modèles, nous utiliserons la mesure du **PSNR**, exprimée en décibel (dB).\n",
        "\n",
        "Le PSNR permet de quantifier la performance des modèles en mesurant la qualité de reconstruction de l'image compressée par rapport à l'image originale.\n",
        "\n",
        "Pour pouvoir étudier si notre modèle est performant, nous pouvons comparer le PSNR du validation set qui calculera le PSNR entre notre `image bruitée` et notre `clean image`, avec le PSNR après entraînement du modèle qui calculera le PSNR entre notre `predicted image` et notre `clean image`.\n",
        "\n",
        "En conséquence, si nous obtenons un PSNR plus élevé après notre modèle, cela signifie que notre signal et donc le traitement de restauration ou d'amélioration sont meilleurs. "
      ],
      "metadata": {
        "id": "EhoBHD4Iwkwj"
      }
    },
    {
      "cell_type": "code",
      "source": [
        "def psnr(denoised , ground_truth):\n",
        "# Peak Signal to Noise Ratio : denoised and ground_truth have values between 0 and 1\n",
        "  mse = torch.mean((denoised - ground_truth) ** 2)\n",
        "  return -10 * torch.log10(mse + 10**-8)\n",
        "\n",
        "sum = 0\n",
        "nb_img = noisy_imgs.size(0)\n",
        "psnr_list = []\n",
        "\n",
        "for i in range(nb_img):\n",
        "  psnr_list.append(psnr(noisy_imgs[i].cpu(), clean_imgs[i].cpu()).item())\n",
        "    \n",
        "for j in range(nb_img):\n",
        "  sum = sum + psnr_list[j]\n",
        "\n",
        "mean_psnr = sum/nb_img\n",
        "\n",
        "print(\"PSNR mean : \" + str(mean_psnr) + \" dB\")"
      ],
      "metadata": {
        "colab": {
          "base_uri": "https://localhost:8080/"
        },
        "id": "A2-jnB_vsLgn",
        "outputId": "a1b1cea6-9499-401d-ae16-9e04b99b258f"
      },
      "execution_count": null,
      "outputs": [
        {
          "output_type": "stream",
          "name": "stdout",
          "text": [
            "PSNR mean : 20.723881644248962 dB\n"
          ]
        }
      ]
    },
    {
      "cell_type": "markdown",
      "source": [
        "Nous obtenons un PSNR moyen de 20.72 dB pour notre validation set. Implémentons notre modèle et comparons notre PNSR final à celui-ci."
      ],
      "metadata": {
        "id": "X9kJgmi-zjuo"
      }
    },
    {
      "cell_type": "markdown",
      "source": [
        "## Architecture U-Net"
      ],
      "metadata": {
        "id": "yLoXgacKosUY"
      }
    },
    {
      "cell_type": "markdown",
      "source": [
        "Nous implémentons une structure similaire au U-Network :"
      ],
      "metadata": {
        "id": "f2wj_SV00Te9"
      }
    },
    {
      "cell_type": "code",
      "execution_count": null,
      "metadata": {
        "id": "FQeM6J2lbDSK"
      },
      "outputs": [],
      "source": [
        "# network architecture\n",
        "class Network(nn.Module):\n",
        "    def __init__(self) -> None:\n",
        "        super().__init__()\n",
        "        pass\n",
        "        \n",
        "        self.conv3_32 = nn.Conv2d(3, 32, kernel_size=3)\n",
        "        self.bn32 = nn.BatchNorm2d(32)\n",
        "        self.conv32_64 = nn.Conv2d(32, 64, kernel_size=3)\n",
        "        self.bn64_1 = nn.BatchNorm2d(64)\n",
        "        ## tests for replace conv32_64 and bn64_1:\n",
        "        # self.conv64_64_A = nn.Conv2d(64, 64, kernel_size=2, stride = 2)  # ----> H = 15\n",
        "        # self.bn64_1_A = nn.BatchNorm2d(64)\n",
        "        # self.conv64_64_B = nn.Conv2d(64, 64, kernel_size=3, stride = 2)  # ----> H = 7\n",
        "        # self.bn64_1_B = nn.BatchNorm2d(64)\n",
        "        # self.conv64_64_C = nn.Conv2d(64, 64, kernel_size=2) # -----> H = 6\n",
        "        # self.bn64_1_C = nn.BatchNorm2d(64)\n",
        "        # self.conv64_64_D = nn.Conv2d(64, 64, kernel_size=3)\n",
        "        # self.bn64_1_D = nn.BatchNorm2d(64)\n",
        "        # self.conv64_64_E = nn.Conv2d(64, 64, kernel_size=3)\n",
        "        # self.bn64_1_E = nn.BatchNorm2d(64)\n",
        "        # self.conv64_64_F = nn.Conv2d(64, 64, kernel_size=3)\n",
        "        # self.bn64_1_F = nn.BatchNorm2d(64)\n",
        "        # self.conv64_64_G = nn.Conv2d(64, 64, kernel_size=3)\n",
        "        # self.bn64_1_G = nn.BatchNorm2d(64)\n",
        "        self.pool2_2_1 = nn.AvgPool2d(kernel_size=(2,2))\n",
        "        self.conv64_64 = nn.Conv2d(64, 64, kernel_size=3)\n",
        "        self.bn64_2 = nn.BatchNorm2d(64)\n",
        "        # self.conv64_64_A = nn.Conv2d(64, 64, kernel_size=3)\n",
        "        # self.bn64_2_A = nn.BatchNorm2d(64)\n",
        "        # self.conv64_64_B = nn.Conv2d(64, 64, kernel_size=3)\n",
        "        # self.bn64_2_B = nn.BatchNorm2d(64)\n",
        "        # self.conv64_64_C = nn.Conv2d(64, 64, kernel_size=3)\n",
        "        # self.bn64_2_C = nn.BatchNorm2d(64)\n",
        "        self.pool2_2_2 = nn.AvgPool2d(kernel_size=(2,2))\n",
        "        # self.conv64_64_2 = nn.Conv2d(64, 64, kernel_size=3)\n",
        "        # self.bn64_3 = nn.BatchNorm2d(64)\n",
        "        # self.pool2_2_3 = nn.AvgPool2d(kernel_size=(2,2))\n",
        "        # self.upsample2_0 = nn.Upsample(scale_factor=2)\n",
        "        # self.t_conv64_64_0 = nn.ConvTranspose2d(64, 64, kernel_size=3)\n",
        "        # self.bn64_4 = nn.BatchNorm2d(64)\n",
        "        self.upsample2_1 = nn.Upsample(scale_factor=2)\n",
        "        self.t_conv64_64 = nn.ConvTranspose2d(64, 64, kernel_size=3)\n",
        "        # self.bn64_5 = nn.BatchNorm2d(64)\n",
        "        # concatenate with output of pool2_2_1\n",
        "        self.upsample2_2 = nn.Upsample(scale_factor=2)\n",
        "        self.t_conv128_64 = nn.ConvTranspose2d(128, 64, kernel_size=3)\n",
        "        # self.bn64_6 = nn.BatchNorm2d(64)\n",
        "        self.t_conv64_32 = nn.ConvTranspose2d(64, 32, kernel_size=3)\n",
        "        # self.bn64_7 = nn.BatchNorm2d(32)\n",
        "        # concatenate with input\n",
        "        self.conv35_32 = nn.Conv2d(35, 32, kernel_size=3)\n",
        "        self.t_conv32_3 = nn.ConvTranspose2d(32, 3, kernel_size=3)\n",
        "        \n",
        "    \n",
        "    def forward(self, x):\n",
        "        x0 = x\n",
        "        x = F.relu(self.conv3_32(x))\n",
        "        # x = self.bn32(x)\n",
        "        x = F.relu(self.conv32_64(x))\n",
        "        # x = self.bn64_1(x)\n",
        "        x1 = F.relu(self.pool2_2_1(x))\n",
        "        # print('pool2_2_1:', x1.shape)\n",
        "        # x = F.relu(self.conv64_64_A(x))\n",
        "        # x = self.bn64_1_A(x)\n",
        "        # print('conv64_64_A :', x.shape)\n",
        "        # x = F.relu(self.conv64_64_B(x))\n",
        "        # x = self.bn64_1_B(x)\n",
        "        # print('conv64_64_B :', x.shape)\n",
        "        # x = F.relu(self.conv64_64_C(x))\n",
        "        # x = self.bn64_1_C(x)\n",
        "        # print('conv64_64_C :', x.shape)\n",
        "        # x = F.relu(self.conv64_64_D(x))\n",
        "        # x = self.bn64_1_D(x)\n",
        "        # x = F.relu(self.conv32_64(x))\n",
        "        # x = self.bn64_1_E(x)\n",
        "        # x = F.relu(self.conv64_64_F(x))\n",
        "        # x = self.bn64_1_F(x)\n",
        "        # x = F.relu(self.conv64_64_G(x))\n",
        "        # x1 = self.bn64_1_G(x)\n",
        "        x = F.relu(self.conv64_64(x1))\n",
        "        # x = self.bn64_2(x)\n",
        "        # print('conv64_64:', x.shape)\n",
        "        # x = F.relu(self.conv64_64_A(x))\n",
        "        # x = self.bn64_2_A(x)\n",
        "        # x = F.relu(self.conv64_64_B(x))\n",
        "        # x = self.bn64_2_B(x)\n",
        "        # x = F.relu(self.conv64_64_C(x))\n",
        "        # x = self.bn64_2_C(x)\n",
        "        x = F.relu(self.pool2_2_2(x))\n",
        "        # print('pool2_2_2:', x.shape)\n",
        "        # x = F.relu(self.conv64_64_2(x2))\n",
        "        # x = self.bn64_3(x)\n",
        "        # x = F.relu(self.pool2_2_3(x))\n",
        "        # x = F.relu(self.upsample2_0(x))\n",
        "        # x = F.relu(self.t_conv64_64_0(x))\n",
        "        # x = self.bn64_4(x)\n",
        "        # x = torch.cat((x, x2), dim=1)\n",
        "        x = F.relu(self.upsample2_1(x))\n",
        "        # print('upsample2_1:', x.shape)\n",
        "        x = F.relu(self.t_conv64_64(x))\n",
        "        # x = self.bn64_5(x)\n",
        "        # print('t_conv64_64:', x.shape)\n",
        "        x = torch.cat((x, x1), dim=1)\n",
        "        x = F.relu(self.upsample2_2(x))\n",
        "        x = F.relu(self.t_conv128_64(x))\n",
        "        #x = self.bn64_6(x)\n",
        "        x = F.relu(self.t_conv64_32(x))\n",
        "        #x = self.bn64_7(x)\n",
        "        x = torch.cat((x, x0), dim=1)\n",
        "        x = F.relu(self.conv35_32(x))\n",
        "        x = F.relu(self.t_conv32_3(x))\n",
        "\n",
        "        return x"
      ]
    },
    {
      "cell_type": "code",
      "execution_count": null,
      "metadata": {
        "id": "9bRICnITjCvU"
      },
      "outputs": [],
      "source": [
        "class Model(nn.Module):\n",
        "    def __init__(self) -> None:\n",
        "        # instantiation of the model, loss function and optimizer\n",
        "        super().__init__()\n",
        "        self.autoencoder = Network().to(device)\n",
        "        self.criterion = nn.MSELoss().to(device)\n",
        "        self.optimizer = torch.optim.Adam(self.autoencoder.parameters(), lr = 1e-3)\n",
        "        self.weight_initialization()\n",
        "        pass\n",
        "\n",
        "    def weight_initialization(self):\n",
        "        for mod in self.modules():\n",
        "          if isinstance(mod, nn.Conv2d):\n",
        "            nn.init.kaiming_normal_(mod.weight.data)\n",
        "            mod.bias.data.zero_()\n",
        "\n",
        "    def load_last_trained_model (self) :\n",
        "    # to load the parameters saved in parameters_models_UNet.pth into the model\n",
        "    # self.load_state_dict(torch.load(path, map_location=torch.device(device)))        \n",
        "        saved_model_path = \"/content/drive/MyDrive/DeepL_Project/parameters_models_UNet.pth\"\n",
        "        model = torch.load(saved_model_path)\n",
        "        self.load_state_dict(model)\n",
        "        self.to(device)\n",
        "        pass\n",
        "  \n",
        "    def save_parameters_Model(self) :\n",
        "        # to save our parameters in parameters_models.pth\n",
        "        torch.save(self.state_dict(), '/content/drive/MyDrive/DeepL_Project/parameters_models_UNet.pth')\n",
        "        pass \n",
        "\n",
        "    def train(self, train_imgs_1, train_imgs_2, nb_epochs) -> None:\n",
        "        # train_imgs_1 : tensor of size (N, C, H, W) with a noisy version of the images     \n",
        "        # train_imgs_2 : tensor of size (N, C, H, W) with another noisy version of the same images, which only differs from the input by their noise\n",
        "        mini_batch_size = 100\n",
        "        loss_list = []\n",
        "\n",
        "        for e in range(nb_epochs):\n",
        "            acc_loss = 0\n",
        "            for b in range(0, train_imgs_1.size(0), mini_batch_size):\n",
        "                output = self.autoencoder(train_imgs_1.narrow(0, b, mini_batch_size).to(device))\n",
        "                loss = self.criterion(output, train_imgs_2.narrow(0, b, mini_batch_size).to(device))\n",
        "                acc_loss = acc_loss + loss.item()\n",
        "                # self.autoencoder.zero_grad()\n",
        "                self.optimizer.zero_grad()\n",
        "                loss.backward()\n",
        "                self.optimizer.step()\n",
        "            print(e, acc_loss)\n",
        "\n",
        "            print(\"Loss : \", loss.item())\n",
        "            loss_list.append(loss.item())\n",
        "        return loss_list\n",
        "        pass\n",
        "\n",
        "    def prediction(self, val_input) -> torch.Tensor:\n",
        "        # val_input : tensor of size (N1, C, H, W) that has to be denoised by the trained network\n",
        "        # returns a tensor of the size (N1, C, H, W)\n",
        "        return self.autoencoder(val_input)\n",
        "        pass\n",
        "\n",
        "torch.cuda.empty_cache()"
      ]
    },
    {
      "cell_type": "markdown",
      "source": [
        "**Entraînement de notre modèle**"
      ],
      "metadata": {
        "id": "tqwzpIWW-Lxv"
      }
    },
    {
      "cell_type": "markdown",
      "source": [
        "Installez la librairie `ipython-autotime` afin de pouvoir indiquer le temps d'exécution de notre modèle :"
      ],
      "metadata": {
        "id": "sQ8o44sj0E2A"
      }
    },
    {
      "cell_type": "code",
      "source": [
        "!pip install ipython-autotime\n",
        "%load_ext autotime"
      ],
      "metadata": {
        "colab": {
          "base_uri": "https://localhost:8080/"
        },
        "id": "4sBc2wL1y49F",
        "outputId": "6b81e9cc-f72a-4129-cdb4-f5a36fbd9391"
      },
      "execution_count": null,
      "outputs": [
        {
          "output_type": "stream",
          "name": "stdout",
          "text": [
            "Looking in indexes: https://pypi.org/simple, https://us-python.pkg.dev/colab-wheels/public/simple/\n",
            "Collecting ipython-autotime\n",
            "  Downloading ipython_autotime-0.3.1-py2.py3-none-any.whl (6.8 kB)\n",
            "Requirement already satisfied: ipython in /usr/local/lib/python3.9/dist-packages (from ipython-autotime) (7.9.0)\n",
            "Requirement already satisfied: prompt-toolkit<2.1.0,>=2.0.0 in /usr/local/lib/python3.9/dist-packages (from ipython->ipython-autotime) (2.0.10)\n",
            "Requirement already satisfied: setuptools>=18.5 in /usr/local/lib/python3.9/dist-packages (from ipython->ipython-autotime) (67.6.0)\n",
            "Requirement already satisfied: pygments in /usr/local/lib/python3.9/dist-packages (from ipython->ipython-autotime) (2.14.0)\n",
            "Collecting jedi>=0.10\n",
            "  Downloading jedi-0.18.2-py2.py3-none-any.whl (1.6 MB)\n",
            "\u001b[2K     \u001b[90m━━━━━━━━━━━━━━━━━━━━━━━━━━━━━━━━━━━━━━━━\u001b[0m \u001b[32m1.6/1.6 MB\u001b[0m \u001b[31m19.2 MB/s\u001b[0m eta \u001b[36m0:00:00\u001b[0m\n",
            "\u001b[?25hRequirement already satisfied: backcall in /usr/local/lib/python3.9/dist-packages (from ipython->ipython-autotime) (0.2.0)\n",
            "Requirement already satisfied: pexpect in /usr/local/lib/python3.9/dist-packages (from ipython->ipython-autotime) (4.8.0)\n",
            "Requirement already satisfied: traitlets>=4.2 in /usr/local/lib/python3.9/dist-packages (from ipython->ipython-autotime) (5.7.1)\n",
            "Requirement already satisfied: decorator in /usr/local/lib/python3.9/dist-packages (from ipython->ipython-autotime) (4.4.2)\n",
            "Requirement already satisfied: pickleshare in /usr/local/lib/python3.9/dist-packages (from ipython->ipython-autotime) (0.7.5)\n",
            "Requirement already satisfied: parso<0.9.0,>=0.8.0 in /usr/local/lib/python3.9/dist-packages (from jedi>=0.10->ipython->ipython-autotime) (0.8.3)\n",
            "Requirement already satisfied: six>=1.9.0 in /usr/local/lib/python3.9/dist-packages (from prompt-toolkit<2.1.0,>=2.0.0->ipython->ipython-autotime) (1.16.0)\n",
            "Requirement already satisfied: wcwidth in /usr/local/lib/python3.9/dist-packages (from prompt-toolkit<2.1.0,>=2.0.0->ipython->ipython-autotime) (0.2.6)\n",
            "Requirement already satisfied: ptyprocess>=0.5 in /usr/local/lib/python3.9/dist-packages (from pexpect->ipython->ipython-autotime) (0.7.0)\n",
            "Installing collected packages: jedi, ipython-autotime\n",
            "Successfully installed ipython-autotime-0.3.1 jedi-0.18.2\n",
            "time: 500 µs (started: 2023-03-28 20:42:19 +00:00)\n"
          ]
        }
      ]
    },
    {
      "cell_type": "code",
      "source": [
        "m = Model()"
      ],
      "metadata": {
        "id": "P8rF0oBYQsje",
        "colab": {
          "base_uri": "https://localhost:8080/"
        },
        "outputId": "4c80b6f4-91e7-40b6-b144-0e56f3f7c87b"
      },
      "execution_count": null,
      "outputs": [
        {
          "output_type": "stream",
          "name": "stdout",
          "text": [
            "time: 5.05 s (started: 2023-03-28 20:42:19 +00:00)\n"
          ]
        }
      ]
    },
    {
      "cell_type": "markdown",
      "source": [
        "Téléchargez le dernier train modèle sauvegardé afin de ne pas réexécuter le modèle par la suite : "
      ],
      "metadata": {
        "id": "WIZJGxDFQ2sw"
      }
    },
    {
      "cell_type": "code",
      "source": [
        "m.load_last_trained_model()"
      ],
      "metadata": {
        "id": "CbWEoMFAQ0lp",
        "colab": {
          "base_uri": "https://localhost:8080/"
        },
        "outputId": "d6985dd3-135f-4f6e-ba3b-03c7410ea738"
      },
      "execution_count": null,
      "outputs": [
        {
          "output_type": "stream",
          "name": "stdout",
          "text": [
            "time: 11.9 ms (started: 2023-03-02 13:53:34 +00:00)\n"
          ]
        }
      ]
    },
    {
      "cell_type": "markdown",
      "source": [
        "\n",
        "\n",
        "---\n",
        "\n"
      ],
      "metadata": {
        "id": "pOoSnBr0Wl2s"
      }
    },
    {
      "cell_type": "markdown",
      "source": [
        "*Les deux cellules suivantes sont à exécuter uniquement si vous voulez entraîner d'autres architectures de réseaux.*"
      ],
      "metadata": {
        "id": "wx62wPs1T8Vu"
      }
    },
    {
      "cell_type": "markdown",
      "source": [
        "Exécuter la cellule uniquement si vous voulez entraîné un nouveau réseau :"
      ],
      "metadata": {
        "id": "Xwao36abRHE7"
      }
    },
    {
      "cell_type": "code",
      "execution_count": null,
      "metadata": {
        "id": "b2PAfEofmJnG",
        "colab": {
          "base_uri": "https://localhost:8080/"
        },
        "outputId": "547bb086-3549-4f74-942f-2b2aabcaa876"
      },
      "outputs": [
        {
          "output_type": "stream",
          "name": "stdout",
          "text": [
            "0 28.71710048429668\n",
            "Loss :  0.01621999777853489\n",
            "1 22.294977095909417\n",
            "Loss :  0.01591169461607933\n",
            "2 22.066511172801256\n",
            "Loss :  0.015798410400748253\n",
            "3 21.954345725476742\n",
            "Loss :  0.01575249619781971\n",
            "4 21.882210147567093\n",
            "Loss :  0.015703249722719193\n",
            "5 21.829642846249044\n",
            "Loss :  0.015688275918364525\n",
            "6 21.78752806223929\n",
            "Loss :  0.015669921413064003\n",
            "7 21.75222782790661\n",
            "Loss :  0.01565595157444477\n",
            "8 21.721050216816366\n",
            "Loss :  0.01564188115298748\n",
            "9 21.69589993543923\n",
            "Loss :  0.015631018206477165\n",
            "10 21.67472630366683\n",
            "Loss :  0.015609214082360268\n",
            "11 21.65555463731289\n",
            "Loss :  0.015582313761115074\n",
            "12 21.63697739969939\n",
            "Loss :  0.01557968370616436\n",
            "13 21.622098026797175\n",
            "Loss :  0.015577434562146664\n",
            "14 21.60864059161395\n",
            "Loss :  0.015568765811622143\n",
            "15 21.59776421636343\n",
            "Loss :  0.015565615147352219\n",
            "16 21.588561272248626\n",
            "Loss :  0.015557381324470043\n",
            "17 21.580487111583352\n",
            "Loss :  0.015542167238891125\n",
            "18 21.57275367807597\n",
            "Loss :  0.015530304983258247\n",
            "19 21.566596994176507\n",
            "Loss :  0.015521611087024212\n",
            "time: 13min 34s (started: 2023-03-28 20:42:24 +00:00)\n"
          ]
        }
      ],
      "source": [
        "loss_list = m.train(noisy_imgs_1.float(), noisy_imgs_2.float(), nb_epochs = 20)\n",
        "torch.cuda.empty_cache()"
      ]
    },
    {
      "cell_type": "markdown",
      "source": [
        "Le fichier `parameters_models_UNet.pth` permet de sauvegarder les paramètres du training pour garder en mémoire les performances des différentes architectures réseaux (pas besoin de relancer de training pour une architecture qui a déjà été lancée ! ). Dans le fichier `parameters_models_UNet.pth` se trouve uniquement les paramètres de notre modèle sélectionné. Si vous voulez entraîner d'autres réseaux et les sauvegarder dans le fichier, exécutez la cellule suivante :\n"
      ],
      "metadata": {
        "id": "ASf-6ViHQx25"
      }
    },
    {
      "cell_type": "code",
      "source": [
        "m.save_parameters_Model()"
      ],
      "metadata": {
        "id": "32Qdv8ahQv-t",
        "colab": {
          "base_uri": "https://localhost:8080/"
        },
        "outputId": "adf095d2-0013-4adc-d05e-656aeda93b11"
      },
      "execution_count": null,
      "outputs": [
        {
          "output_type": "stream",
          "name": "stdout",
          "text": [
            "time: 15.8 ms (started: 2023-03-02 13:53:34 +00:00)\n"
          ]
        }
      ]
    },
    {
      "cell_type": "markdown",
      "source": [
        "**Visualition de la `loss function` en fonction du nombre d'epochs**"
      ],
      "metadata": {
        "id": "4hk5lFlVsjbv"
      }
    },
    {
      "cell_type": "markdown",
      "source": [
        "Importez la libraire numpy :"
      ],
      "metadata": {
        "id": "28zp3f9nsfLy"
      }
    },
    {
      "cell_type": "code",
      "source": [
        "import numpy as np"
      ],
      "metadata": {
        "id": "a0Iup49nwENd",
        "colab": {
          "base_uri": "https://localhost:8080/"
        },
        "outputId": "f1769372-156e-4faf-c7be-d0e9076ab2ba"
      },
      "execution_count": null,
      "outputs": [
        {
          "output_type": "stream",
          "name": "stdout",
          "text": [
            "time: 564 µs (started: 2023-03-28 20:55:59 +00:00)\n"
          ]
        }
      ]
    },
    {
      "cell_type": "code",
      "source": [
        "# create a numpy array manually to have our number of epochs\n",
        "epochs = np.arange(1,21)\n",
        "\n",
        "# create figure\n",
        "plt.plot(epochs,loss_list)\n",
        "\n",
        "# add titles\n",
        "plt.title(\"Évolution de la loss function en fonction du nombre d'epochs\")\n",
        "plt.xlabel(\"Nombre d'epochs\")\n",
        "plt.ylabel('Loss function')\n",
        "\n",
        "# showing figure\n",
        "plt.show()"
      ],
      "metadata": {
        "id": "Mt9jJgsPtaM9",
        "colab": {
          "base_uri": "https://localhost:8080/",
          "height": 314
        },
        "outputId": "0b016087-0e0b-43b9-806e-de2a937e4980"
      },
      "execution_count": null,
      "outputs": [
        {
          "output_type": "display_data",
          "data": {
            "text/plain": [
              "<Figure size 432x288 with 1 Axes>"
            ],
            "image/png": "[encoded data removed]"
          },
          "metadata": {
            "needs_background": "light"
          }
        },
        {
          "output_type": "stream",
          "name": "stdout",
          "text": [
            "time: 216 ms (started: 2023-03-28 20:55:59 +00:00)\n"
          ]
        }
      ]
    },
    {
      "cell_type": "markdown",
      "source": [
        "Nous observons que notre `loss function` décroît bien en fonction du nombre d'epochs."
      ],
      "metadata": {
        "id": "6fY0rhu4tjlL"
      }
    },
    {
      "cell_type": "markdown",
      "source": [
        "**Déclaration et visualation de notre `predicted image`** "
      ],
      "metadata": {
        "id": "xKPv9BvmtyGl"
      }
    },
    {
      "cell_type": "code",
      "execution_count": null,
      "metadata": {
        "id": "NhSXz4yKaJQq",
        "colab": {
          "base_uri": "https://localhost:8080/",
          "height": 301
        },
        "outputId": "64fc9d76-cd1b-4a7e-a743-ead2491a4de7"
      },
      "outputs": [
        {
          "output_type": "stream",
          "name": "stderr",
          "text": [
            "WARNING:matplotlib.image:Clipping input data to the valid range for imshow with RGB data ([0..1] for floats or [0..255] for integers).\n"
          ]
        },
        {
          "output_type": "display_data",
          "data": {
            "text/plain": [
              "<Figure size 432x288 with 1 Axes>"
            ],
            "image/png": "[encoded data removed]"
          },
          "metadata": {
            "needs_background": "light"
          }
        },
        {
          "output_type": "stream",
          "name": "stdout",
          "text": [
            "time: 264 ms (started: 2023-03-28 20:56:00 +00:00)\n"
          ]
        }
      ],
      "source": [
        "predicted_img = m.prediction(noisy_imgs.float().to(device))\n",
        "\n",
        "with torch.no_grad():\n",
        "  plt.imshow(predicted_img[13].cpu().permute(1,2,0))"
      ]
    },
    {
      "cell_type": "markdown",
      "source": [
        "**Entraînement d'un deuxième U-NET avec déclaration et visualation de notre deuxième `predicted image`** "
      ],
      "metadata": {
        "id": "sb9-rq5jwFHL"
      }
    },
    {
      "cell_type": "markdown",
      "source": [
        "Nous aimerions voir si notre PSNR s'améliore en procédant à une deuxième application du réseau à partir de notre `predicted image` obtenue lors de la première application du réseau :"
      ],
      "metadata": {
        "id": "k86KfWMswpwr"
      }
    },
    {
      "cell_type": "code",
      "source": [
        "predicted_img_2 = m.prediction(predicted_img.float().to(device))\n",
        "\n",
        "with torch.no_grad():\n",
        "  plt.imshow(predicted_img_2[13].cpu().permute(1,2,0))"
      ],
      "metadata": {
        "colab": {
          "base_uri": "https://localhost:8080/",
          "height": 301
        },
        "id": "XXiIwP9bvRsp",
        "outputId": "1f331413-a21f-436b-f3f8-e065672d79f0"
      },
      "execution_count": null,
      "outputs": [
        {
          "output_type": "stream",
          "name": "stderr",
          "text": [
            "WARNING:matplotlib.image:Clipping input data to the valid range for imshow with RGB data ([0..1] for floats or [0..255] for integers).\n"
          ]
        },
        {
          "output_type": "display_data",
          "data": {
            "text/plain": [
              "<Figure size 432x288 with 1 Axes>"
            ],
            "image/png": "[encoded data removed]"
          },
          "metadata": {
            "needs_background": "light"
          }
        },
        {
          "output_type": "stream",
          "name": "stdout",
          "text": [
            "time: 262 ms (started: 2023-03-28 20:56:00 +00:00)\n"
          ]
        }
      ]
    },
    {
      "cell_type": "markdown",
      "source": [
        "### Visualisation finale des données du `validation set`"
      ],
      "metadata": {
        "id": "O9YfotX13YOC"
      }
    },
    {
      "cell_type": "code",
      "execution_count": null,
      "metadata": {
        "id": "glSoDqzaoBOW",
        "colab": {
          "base_uri": "https://localhost:8080/",
          "height": 317
        },
        "outputId": "63db01a1-5de5-43df-a92b-07ca2c215b91"
      },
      "outputs": [
        {
          "output_type": "stream",
          "name": "stderr",
          "text": [
            "WARNING:matplotlib.image:Clipping input data to the valid range for imshow with RGB data ([0..1] for floats or [0..255] for integers).\n",
            "WARNING:matplotlib.image:Clipping input data to the valid range for imshow with RGB data ([0..1] for floats or [0..255] for integers).\n"
          ]
        },
        {
          "output_type": "display_data",
          "data": {
            "text/plain": [
              "<Figure size 1296x648 with 4 Axes>"
            ],
            "image/png": "[encoded data removed]"
          },
          "metadata": {
            "needs_background": "light"
          }
        },
        {
          "output_type": "stream",
          "name": "stdout",
          "text": [
            "time: 432 ms (started: 2023-03-28 20:56:00 +00:00)\n"
          ]
        }
      ],
      "source": [
        "with torch.no_grad():\n",
        "\n",
        "  # create figure\n",
        "  fig = plt.figure(figsize=(18, 9))\n",
        "    \n",
        "  # setting values to rows and column variables\n",
        "  rows = 1\n",
        "  columns = 4\n",
        "\n",
        "  # adds a subplot \n",
        "  fig.add_subplot(rows, columns, 1)\n",
        "\n",
        "  # showing image\n",
        "  plt.imshow(noisy_imgs[13].cpu().permute(1,2,0))\n",
        "  plt.axis('off')\n",
        "  plt.title(\"Input Image\")\n",
        "\n",
        "  # adds a subplot \n",
        "  fig.add_subplot(rows, columns, 2)\n",
        "    \n",
        "  # showing image\n",
        "  plt.imshow(clean_imgs[13].cpu().permute(1,2,0))\n",
        "  plt.axis('off')\n",
        "  plt.title(\"Clean Image\")\n",
        "      \n",
        "  # adds a subplot \n",
        "  fig.add_subplot(rows, columns, 3)\n",
        "      \n",
        "  # showing image\n",
        "  plt.imshow(predicted_img[13].cpu().permute(1,2,0))\n",
        "  plt.axis('off')\n",
        "  plt.title(\"First Predicted Image\")\n",
        "\n",
        "  # adds a subplot \n",
        "  fig.add_subplot(rows, columns, 4)\n",
        "      \n",
        "  # showing image\n",
        "  plt.imshow(predicted_img_2[13].cpu().permute(1,2,0))\n",
        "  plt.axis('off')\n",
        "  plt.title(\"Second Predicted Image\")"
      ]
    },
    {
      "cell_type": "markdown",
      "source": [
        "Nous remarquons que notre `predicted image` est très proche visuellement de la `clean image`.\n",
        "\n",
        "Il est important de souligner que notre jeu de données est en base résolution pour permettre de réduire les temps de calculs pouvant être trop volumineux en haute réoslution. Notre `clean image` et `predicted image` restent donc floues à l'oeil nu."
      ],
      "metadata": {
        "id": "gA2YTQgz3ph5"
      }
    },
    {
      "cell_type": "markdown",
      "source": [
        "### Calcul du PSNR après entraînement de notre modèle"
      ],
      "metadata": {
        "id": "1SwotXJu2vxs"
      }
    },
    {
      "cell_type": "code",
      "execution_count": null,
      "metadata": {
        "id": "zu-iEQrKkEpg",
        "colab": {
          "base_uri": "https://localhost:8080/"
        },
        "outputId": "1a0c19c5-62dc-4bc2-fbf9-9d3ae73f75af"
      },
      "outputs": [
        {
          "output_type": "stream",
          "name": "stdout",
          "text": [
            "PSNR mean with one U-Net : 25.50957899093628 dB\n",
            "PSNR mean with two U-Net : 24.96959173965454 dB\n",
            "time: 198 ms (started: 2023-03-28 20:56:01 +00:00)\n"
          ]
        }
      ],
      "source": [
        "def psnr(denoised , ground_truth):\n",
        "# Peak Signal to Noise Ratio: denoised and grounḋ_truth have values between 0 and 1\n",
        "  mse = torch.mean((denoised - ground_truth) ** 2)\n",
        "  return -10 * torch.log10(mse + 10**-8)\n",
        "\n",
        "sum = 0\n",
        "nb_img = predicted_img.size(0)\n",
        "psnr_list = []\n",
        "\n",
        "for i in range(nb_img):\n",
        "  psnr_list.append(psnr(predicted_img[i].cpu(), clean_imgs[i].cpu()).item())\n",
        "    \n",
        "for j in range(nb_img):\n",
        "  sum = sum + psnr_list[j]\n",
        "\n",
        "mean_psnr = sum/nb_img\n",
        "\n",
        "print(\"PSNR mean with one U-Net : \" + str(mean_psnr) + \" dB\")\n",
        "\n",
        "\n",
        "sum = 0\n",
        "nb_img = predicted_img_2.size(0)\n",
        "psnr_list = []\n",
        "\n",
        "for i in range(nb_img):\n",
        "  psnr_list.append(psnr(predicted_img_2[i].cpu(), clean_imgs[i].cpu()).item())\n",
        "    \n",
        "for j in range(nb_img):\n",
        "  sum = sum + psnr_list[j]\n",
        "\n",
        "mean_psnr = sum/nb_img\n",
        "\n",
        "print(\"PSNR mean with two U-Net : \" + str(mean_psnr) + \" dB\")\n",
        "\n",
        "# with 8 batch normalization, PSNR = 24.86\n",
        "# with 4 batch normalization (down sampling), PSNR = 25.08 ------> not to much batch normalization\n",
        "# however, batch normalization lowers massively the loss\n",
        "# with one less layer and 4 batch normalization, PSNR = 25.12\n",
        "# more channels, PSNR = 25.04\n",
        "# less channels, slightly higher loss at beginning, PSNR = 24.69\n",
        "# another less layer + very low channels at end, slightly higher loss at beginning, PSNR = 23.42 ------> keep current number of layers (2 concatenates)\n",
        "# back to an extra layer but still low nb_channels at end, highest loss up to now at beginning, PSNR = 23.52 \n",
        "# back to higher nb of channels at the end, back to lower loss, PSNR = 24.93 -----> keep higher nb of channels at end + keep AvgPool\n",
        "# back to AvgPool, PSNR = 25.05\n",
        "# replace avgpools by simple enc_convs, PSNR = 24.47\n",
        "# adding stride and changing kernel size, very high loss at beginning, PSNR = 23.63\n",
        "# back to best model but with no enc-dec at the end, PSNR = 23.73\n",
        "# back to final conv-deconv, PSNR = 25.02 \n",
        "# current state without data augmentation, PSNR = 25.34 \n",
        "# current state with data augmentation, PSNR = 25.50\n",
        "\n",
        "# with filtered median : PSNR = 24.08\n",
        "# with filtered gaussian: PSNR = 25.24 \n",
        "# with filtered bilateral : PSNR = 12.42\n",
        "# with filtered unsharp_masking : PSNR = 25.43\n",
        "# with filtered unsharp_masking & median : PSNR = 23.02\n",
        "# with filtered nagao : PSNR = 23.04\n",
        "\n",
        "# current state with data augmentation with two U-Net, PSNR = 24.97\n",
        "\n",
        "# current state with color data augmentation, PSNR = 25.50"
      ]
    },
    {
      "cell_type": "markdown",
      "source": [
        "Nous obtenons un PSNR moyen de 25.50 dB après l'entraînement de notre U-Net avec data augmentation et 25.34 sans data augmentation avec le fichier `train_data.pkl`.\n",
        "\n",
        "En conséquence, nous obtenons un PSNR plus élevé après entraînement de notre modèle, cela signifie que notre signal et donc le traitement de restauration ou d'amélioration sont meilleurs. L'architecture U-Net obtient le PSNR le plus élevé par rapport aux autres modèles entraînés."
      ],
      "metadata": {
        "id": "Sy1Wzg4X2s-P"
      }
    },
    {
      "cell_type": "markdown",
      "source": [
        "\n",
        "\n",
        "---\n",
        "\n",
        "Nous avons également essayé d'entraîner une deuxième fois notre modèle U-Net à partir de notre `predicted image` pour obtenir une deuxième `predicted image`. Nous remarquons que le PSNR moyen obtenu (24.97 dB) est moins bon que le PSNR sur notre première `predicted image`."
      ],
      "metadata": {
        "id": "dBU9MupBzXJ0"
      }
    }
  ],
  "metadata": {
    "accelerator": "GPU",
    "colab": {
      "provenance": [],
      "machine_shape": "hm",
      "collapsed_sections": [
        "wmbroh2BpbXk"
      ]
    },
    "kernelspec": {
      "display_name": "Python 3",
      "name": "python3"
    },
    "language_info": {
      "name": "python"
    },
    "gpuClass": "standard"
  },
  "nbformat": 4,
  "nbformat_minor": 0
}