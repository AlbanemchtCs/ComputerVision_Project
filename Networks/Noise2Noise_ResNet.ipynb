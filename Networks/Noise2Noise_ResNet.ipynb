{
  "cells": [
    {
      "cell_type": "markdown",
      "metadata": {
        "id": "_4p-3wN1oJjt"
      },
      "source": [
        "# Noise2Noise : Apprendre la restitution d'images sans données propres - Application avec une architecture ResNet"
      ]
    },
    {
      "cell_type": "markdown",
      "metadata": {
        "id": "wmbroh2BpbXk"
      },
      "source": [
        "### Connection drive"
      ]
    },
    {
      "cell_type": "markdown",
      "metadata": {
        "id": "oliuGjAMpPUW"
      },
      "source": [
        "Dans un premier temps, connectez-vous au drive pour accéder au dataset :"
      ]
    },
    {
      "cell_type": "code",
      "execution_count": 1,
      "metadata": {
        "colab": {
          "base_uri": "https://localhost:8080/"
        },
        "id": "fHCLEcnPYSqO",
        "outputId": "966c60a6-ffe7-4c75-ce6d-73cbced5f6ae",
        "vscode": {
          "languageId": "python"
        }
      },
      "outputs": [
        {
          "name": "stdout",
          "output_type": "stream",
          "text": [
            "Mounted at /content/drive\n"
          ]
        }
      ],
      "source": [
        "from google.colab import drive\n",
        "drive.mount('/content/drive')"
      ]
    },
    {
      "cell_type": "markdown",
      "metadata": {
        "id": "YEnjlyXApjYQ"
      },
      "source": [
        "### Importation des librairies pytorch"
      ]
    },
    {
      "cell_type": "code",
      "execution_count": 2,
      "metadata": {
        "id": "A18tiv22X8n9",
        "vscode": {
          "languageId": "python"
        }
      },
      "outputs": [],
      "source": [
        "import torch\n",
        "from torch import optim\n",
        "from torch import Tensor\n",
        "from torch import nn\n",
        "from torch.nn import functional as F\n"
      ]
    },
    {
      "cell_type": "code",
      "execution_count": 3,
      "metadata": {
        "id": "WdswXuKUiqPo",
        "vscode": {
          "languageId": "python"
        }
      },
      "outputs": [],
      "source": [
        "device = torch.device('cuda' if torch.cuda.is_available() else 'cpu')"
      ]
    },
    {
      "cell_type": "markdown",
      "metadata": {
        "id": "Lxvx43ktptSY"
      },
      "source": [
        "### Importation des données"
      ]
    },
    {
      "cell_type": "markdown",
      "metadata": {
        "id": "dojvSU0Qp9iq"
      },
      "source": [
        "Téléchargement de nos données provenant du dataset [Kaggle](https://www.kaggle.com/datasets/mehrdadkianiosh/noisy-images?resource=download). \n",
        "\n",
        "Le dataset est composé de deux fichiers : un fichier `train_data.pkl` contenant 50000 paires d'images bruitées et un fichier `val_data.pkl` contenant 1000 paires d'images bruitées.\n",
        "\n",
        "Le dataset provient d'un challenge Kaggle, il n'y a donc pas de `test set` disponible. Nous testerons directement notre modèle sur le `validation set`.\n",
        "\n",
        "Nous utilisons ici le fichier `augmented_train_data.pkl` que nous avons généré grâce au au jupyter notebook `Data_augmentation.ipynb`. Il contient 150000 paires d'images bruitées, soit les 50000 paires d'images bruitées du fichier `train_data.pkl` et 100000 paires d'images bruitées qui sont des flips horizontaux et verticaux 180° des 50000 paires d'images initiales.\n"
      ]
    },
    {
      "cell_type": "code",
      "execution_count": 4,
      "metadata": {
        "colab": {
          "base_uri": "https://localhost:8080/"
        },
        "id": "sZhIblTpYEsw",
        "outputId": "877b8cbb-c5fa-45e5-c2b7-89db2faf0422",
        "vscode": {
          "languageId": "python"
        }
      },
      "outputs": [
        {
          "name": "stdout",
          "output_type": "stream",
          "text": [
            "torch.Size([150000, 3, 32, 32])\n",
            "torch.Size([1000, 3, 32, 32])\n"
          ]
        }
      ],
      "source": [
        "# import data\n",
        "noisy_imgs_1 , noisy_imgs_2 = torch.load('/content/drive/MyDrive/DeepL_Project/dataset/augmented_train_data.pkl')\n",
        "noisy_imgs , clean_imgs = torch.load('/content/drive/MyDrive/DeepL_Project/dataset/val_data.pkl')\n",
        "\n",
        "print(noisy_imgs_1.shape)\n",
        "print(noisy_imgs.shape)\n",
        "\n",
        "# normalized data between 0 and 1 (because some torch function are optimized for inputs between 0 & 1)\n",
        "# noisy_imgs_1 = noisy_imgs_1/255 (we don't normalized here the images from the augmented_train_data.pkl file because it has already been normalized during Data_augmentation)\n",
        "# noisy_imgs_2 = noisy_imgs_2/255\n",
        "noisy_imgs = noisy_imgs/255\n",
        "clean_imgs = clean_imgs/255"
      ]
    },
    {
      "cell_type": "markdown",
      "metadata": {
        "id": "ZQeKqNvxp1_C"
      },
      "source": [
        "**Visualisation de notre dataset**"
      ]
    },
    {
      "cell_type": "markdown",
      "metadata": {
        "id": "Fme-Y5YrsSV7"
      },
      "source": [
        "Importez la librairie matplotlib pour visualiser nos données :"
      ]
    },
    {
      "cell_type": "code",
      "execution_count": 5,
      "metadata": {
        "id": "wI-LN6aNbLwR",
        "vscode": {
          "languageId": "python"
        }
      },
      "outputs": [],
      "source": [
        "from matplotlib import pyplot as plt"
      ]
    },
    {
      "cell_type": "markdown",
      "metadata": {
        "id": "zDjV0doNsByH"
      },
      "source": [
        "Utilisation de `torch.permute` pour avoir une vue du tenseur d'origine :\n",
        "\n"
      ]
    },
    {
      "cell_type": "code",
      "execution_count": 6,
      "metadata": {
        "colab": {
          "base_uri": "https://localhost:8080/",
          "height": 553
        },
        "id": "O6l0HomCspCr",
        "outputId": "d8843344-77e6-4194-efc3-badc0b99999a",
        "vscode": {
          "languageId": "python"
        }
      },
      "outputs": [
        {
          "data": {
            "text/plain": [
              "Text(0.5, 1.0, 'Example of a clean_imgs from the validation set')"
            ]
          },
          "execution_count": 6,
          "metadata": {},
          "output_type": "execute_result"
        },
        {
          "data": {
            "image/png": "[encoded data removed]",
            "text/plain": [
              "<Figure size 1296x648 with 4 Axes>"
            ]
          },
          "metadata": {
            "needs_background": "light"
          },
          "output_type": "display_data"
        }
      ],
      "source": [
        "# create figure\n",
        "fig = plt.figure(figsize=(18, 9))\n",
        "    \n",
        "# setting values to rows and column variables\n",
        "rows = 2\n",
        "columns = 2\n",
        "\n",
        "# adds a subplot\n",
        "fig.add_subplot(rows, columns, 1)\n",
        "\n",
        "# showing image\n",
        "plt.imshow(noisy_imgs_1[7].cpu().permute(1,2,0))\n",
        "plt.axis('off')\n",
        "plt.title(\"Example of a noisy_imgs_1 from the training set\")\n",
        "\n",
        "# adds a subplot\n",
        "fig.add_subplot(rows, columns, 2)\n",
        "    \n",
        "# showing image\n",
        "plt.imshow(noisy_imgs_2[7].cpu().permute(1,2,0))\n",
        "plt.axis('off')\n",
        "plt.title(\"Example of a noisy_imgs_2 from the training set\")\n",
        "      \n",
        "# adds a subplot \n",
        "fig.add_subplot(rows, columns, 3)\n",
        "      \n",
        "# showing image\n",
        "plt.imshow(noisy_imgs[13].cpu().permute(1,2,0))\n",
        "plt.axis('off')\n",
        "plt.title(\"Example of a noisy_imgs from the validation set\")\n",
        "\n",
        "# adds a subplot \n",
        "fig.add_subplot(rows, columns, 4)\n",
        "\n",
        "# showing image\n",
        "plt.imshow(clean_imgs[13].cpu().permute(1,2,0))\n",
        "plt.axis('off')\n",
        "plt.title(\"Example of a clean_imgs from the validation set\")"
      ]
    },
    {
      "cell_type": "markdown",
      "metadata": {
        "id": "LFnP2x1Zy5vG"
      },
      "source": [
        "### Calcul du PSNR avant entraînement de notre modèle"
      ]
    },
    {
      "cell_type": "markdown",
      "metadata": {
        "id": "EhoBHD4Iwkwj"
      },
      "source": [
        "Pour évaluer nos modèles, nous utiliserons la mesure du **PSNR**, exprimée en décibel (dB).\n",
        "\n",
        "Le PSNR permet de quantifier la performance des modèles en mesurant la qualité de reconstruction de l'image compressée par rapport à l'image originale.\n",
        "\n",
        "Pour pouvoir étudier si notre modèle est performant, nous pouvons comparer le PSNR du validation set qui calculera le PSNR entre notre `image bruitée` et notre `clean image`, avec le PSNR après entraînement du modèle qui calculera le PSNR entre notre `predicted image` et notre `clean image`.\n",
        "\n",
        "En conséquence, si nous obtenons un PSNR plus élevé après notre modèle, cela signifie que notre signal et donc le traitement de restauration ou d'amélioration sont meilleurs. "
      ]
    },
    {
      "cell_type": "code",
      "execution_count": 7,
      "metadata": {
        "colab": {
          "base_uri": "https://localhost:8080/"
        },
        "id": "A2-jnB_vsLgn",
        "outputId": "4d444f77-2cea-4211-c4b8-261dbe1ff720",
        "vscode": {
          "languageId": "python"
        }
      },
      "outputs": [
        {
          "name": "stdout",
          "output_type": "stream",
          "text": [
            "PSNR mean : 20.723881640434264 dB\n"
          ]
        }
      ],
      "source": [
        "def psnr(denoised , ground_truth):\n",
        "# Peak Signal to Noise Ratio : denoised and ground_truth have values between 0 and 1\n",
        "  mse = torch.mean((denoised - ground_truth) ** 2)\n",
        "  return -10 * torch.log10(mse + 10**-8)\n",
        "\n",
        "sum = 0\n",
        "nb_img = noisy_imgs.size(0)\n",
        "psnr_list = []\n",
        "\n",
        "for i in range(nb_img):\n",
        "  psnr_list.append(psnr(noisy_imgs[i].cpu(), clean_imgs[i].cpu()).item())\n",
        "    \n",
        "for j in range(nb_img):\n",
        "  sum = sum + psnr_list[j]\n",
        "\n",
        "mean_psnr = sum/nb_img\n",
        "\n",
        "print(\"PSNR mean : \" + str(mean_psnr) + \" dB\")"
      ]
    },
    {
      "cell_type": "markdown",
      "metadata": {
        "id": "X9kJgmi-zjuo"
      },
      "source": [
        "Nous obtenons un PSNR moyen de 20.72 dB pour notre validation set. Implémentons notre modèle et comparons notre PNSR final à celui-ci."
      ]
    },
    {
      "cell_type": "markdown",
      "metadata": {
        "id": "yLoXgacKosUY"
      },
      "source": [
        "## Architecture ResNet"
      ]
    },
    {
      "cell_type": "markdown",
      "metadata": {
        "id": "f2wj_SV00Te9"
      },
      "source": [
        "Nous implémentons une structure similaire au ResNet :"
      ]
    },
    {
      "cell_type": "code",
      "execution_count": 8,
      "metadata": {
        "id": "FQeM6J2lbDSK",
        "vscode": {
          "languageId": "python"
        }
      },
      "outputs": [],
      "source": [
        "# network architecture\n",
        "class Network(nn.Module):\n",
        "    def __init__(self) -> None:\n",
        "        super().__init__()\n",
        "        pass\n",
        "        \n",
        "        self.conv3_32 = nn.Conv2d(3, 32, kernel_size=3, padding=1)\n",
        "        self.conv32_32_1 = nn.Conv2d(32, 32, kernel_size=3, padding=1)\n",
        "        self.conv32_32_2 = nn.Conv2d(32, 32, kernel_size=3, padding=1)\n",
        "        self.conv32_64_x = nn.Conv2d(32, 64, kernel_size=3, padding=1)\n",
        "        self.conv64_96_x = nn.Conv2d(64, 96, kernel_size=3, padding=1)\n",
        "        self.conv64_96_y = nn.Conv2d(64, 96, kernel_size=3, padding=1)\n",
        "        self.conv96_96_1 = nn.Conv2d(96, 96, kernel_size=3, padding=1)\n",
        "        self.conv96_64_x = nn.Conv2d(96, 64, kernel_size=3, padding=1)\n",
        "        self.conv96_64_y = nn.Conv2d(96, 64, kernel_size=3, padding=1)\n",
        "        self.conv64_32 = nn.Conv2d(64, 32, kernel_size=3, padding=1)\n",
        "        self.t_conv32_3 = nn.ConvTranspose2d(32, 3, kernel_size=1, stride=1)\n",
        "        self.bn32_1 = nn.BatchNorm2d(32)\n",
        "        self.bn32_2 = nn.BatchNorm2d(32)\n",
        "        self.bn96 = nn.BatchNorm2d(96)\n",
        "        self.bn96_y = nn.BatchNorm2d(96)\n",
        "        \n",
        "    \n",
        "    def forward(self, x):\n",
        "        x0 = x\n",
        "        x = F.relu(self.conv3_32(x))\n",
        "        x = F.relu(self.conv32_32_1(x))\n",
        "        x = self.bn32_1(x)\n",
        "        x = F.relu(self.conv32_64_x(x))\n",
        "        y = F.relu(self.conv64_96_y(x))\n",
        "        y = F.relu(self.conv96_96_1(y))\n",
        "        y = self.bn96_y(y)\n",
        "        y = F.relu(self.conv96_64_y(y))\n",
        "        x = x+y\n",
        "        x = F.relu(self.conv64_96_x(x))\n",
        "        x = self.bn96(x)\n",
        "        x = F.relu(self.conv96_64_x(x))\n",
        "        x = F.relu(self.conv64_32(x))\n",
        "        x = self.bn32_2(x)\n",
        "        x = F.relu(self.conv32_32_2(x))\n",
        "        x = self.t_conv32_3(x)\n",
        "        x = F.relu(x)\n",
        "        x = torch.clamp(x, min=0, max=1)\n",
        "        return x"
      ]
    },
    {
      "cell_type": "code",
      "execution_count": 9,
      "metadata": {
        "id": "9bRICnITjCvU",
        "vscode": {
          "languageId": "python"
        }
      },
      "outputs": [],
      "source": [
        "class Model(nn.Module):\n",
        "    def __init__(self) -> None:\n",
        "        # instantiation of the model, loss function and optimizer\n",
        "        super().__init__()\n",
        "        self.autoencoder = Network().to(device)\n",
        "        self.criterion = nn.MSELoss().to(device)\n",
        "        self.optimizer = torch.optim.Adam(self.autoencoder.parameters(), lr = 1e-3)\n",
        "        self.weight_initialization()\n",
        "        pass\n",
        "\n",
        "    def weight_initialization(self):\n",
        "        for mod in self.modules():\n",
        "          if isinstance(mod, nn.Conv2d):\n",
        "            nn.init.kaiming_normal_(mod.weight.data)\n",
        "            mod.bias.data.zero_()\n",
        "\n",
        "    def load_last_trained_model(self) :\n",
        "    # to load the parameters saved in parameters_models_ResNet.pth into the model\n",
        "    # self.load_state_dict(torch.load(path, map_location=torch.device(device)))        \n",
        "        saved_model_path = \"/content/drive/MyDrive/DeepL_Project/parameters_models_ResNet.pth\"\n",
        "        model = torch.load(saved_model_path)\n",
        "        self.load_state_dict(model)\n",
        "        self.to(device)\n",
        "        pass\n",
        "  \n",
        "    def save_parameters_Model(self) :\n",
        "        # to save our parameters in parameters_models.pth\n",
        "        torch.save(self.state_dict(), '/content/drive/MyDrive/DeepL_Project/parameters_models_ResNet.pth')\n",
        "        pass \n",
        "\n",
        "    def train(self, train_imgs_1, train_imgs_2, nb_epochs) -> None:\n",
        "        # train_imgs_1 : tensor of size (N, C, H, W) with a noisy version of the images     \n",
        "        # train_imgs_2 : tensor of size (N, C, H, W) with another noisy version of the same images, which only differs from the input by their noise\n",
        "        mini_batch_size = 100\n",
        "        loss_list = []\n",
        "\n",
        "        for e in range(nb_epochs):\n",
        "            acc_loss = 0\n",
        "            for b in range(0, train_imgs_1.size(0), mini_batch_size):\n",
        "                output = self.autoencoder(train_imgs_1.narrow(0, b, mini_batch_size).to(device))\n",
        "                loss = self.criterion(output, train_imgs_2.narrow(0, b, mini_batch_size).to(device))\n",
        "                acc_loss = acc_loss + loss.item()\n",
        "                # self.autoencoder.zero_grad()\n",
        "                self.optimizer.zero_grad()\n",
        "                loss.backward()\n",
        "                self.optimizer.step()\n",
        "            print(e, acc_loss)\n",
        "\n",
        "            print(\"Loss : \", loss.item())\n",
        "            loss_list.append(loss.item())\n",
        "        return loss_list\n",
        "        pass\n",
        "\n",
        "    def prediction(self, val_input) -> torch.Tensor:\n",
        "        # val_input : tensor of size (N1, C, H, W) that has to be denoised by the trained network\n",
        "        # returns a tensor of the size (N1, C, H, W)\n",
        "        return self.autoencoder(val_input)\n",
        "        pass\n",
        "\n",
        "torch.cuda.empty_cache()"
      ]
    },
    {
      "cell_type": "markdown",
      "metadata": {
        "id": "tqwzpIWW-Lxv"
      },
      "source": [
        "**Entraînement de notre modèle**"
      ]
    },
    {
      "cell_type": "markdown",
      "metadata": {
        "id": "sQ8o44sj0E2A"
      },
      "source": [
        "Installez la librairie `ipython-autotime` afin de pouvoir indiquer le temps d'exécution de notre modèle :"
      ]
    },
    {
      "cell_type": "code",
      "execution_count": 10,
      "metadata": {
        "colab": {
          "base_uri": "https://localhost:8080/"
        },
        "id": "4sBc2wL1y49F",
        "outputId": "347223cb-bee1-4555-b806-4cdeac749647",
        "vscode": {
          "languageId": "python"
        }
      },
      "outputs": [
        {
          "name": "stdout",
          "output_type": "stream",
          "text": [
            "Looking in indexes: https://pypi.org/simple, https://us-python.pkg.dev/colab-wheels/public/simple/\n",
            "Collecting ipython-autotime\n",
            "  Downloading ipython_autotime-0.3.1-py2.py3-none-any.whl (6.8 kB)\n",
            "Requirement already satisfied: ipython in /usr/local/lib/python3.8/dist-packages (from ipython-autotime) (7.9.0)\n",
            "Requirement already satisfied: pygments in /usr/local/lib/python3.8/dist-packages (from ipython->ipython-autotime) (2.6.1)\n",
            "Requirement already satisfied: traitlets>=4.2 in /usr/local/lib/python3.8/dist-packages (from ipython->ipython-autotime) (5.7.1)\n",
            "Requirement already satisfied: decorator in /usr/local/lib/python3.8/dist-packages (from ipython->ipython-autotime) (4.4.2)\n",
            "Requirement already satisfied: pickleshare in /usr/local/lib/python3.8/dist-packages (from ipython->ipython-autotime) (0.7.5)\n",
            "Collecting jedi>=0.10\n",
            "  Downloading jedi-0.18.2-py2.py3-none-any.whl (1.6 MB)\n",
            "\u001b[2K     \u001b[90m━━━━━━━━━━━━━━━━━━━━━━━━━━━━━━━━━━━━━━━━\u001b[0m \u001b[32m1.6/1.6 MB\u001b[0m \u001b[31m19.6 MB/s\u001b[0m eta \u001b[36m0:00:00\u001b[0m\n",
            "\u001b[?25hRequirement already satisfied: backcall in /usr/local/lib/python3.8/dist-packages (from ipython->ipython-autotime) (0.2.0)\n",
            "Requirement already satisfied: setuptools>=18.5 in /usr/local/lib/python3.8/dist-packages (from ipython->ipython-autotime) (57.4.0)\n",
            "Requirement already satisfied: pexpect in /usr/local/lib/python3.8/dist-packages (from ipython->ipython-autotime) (4.8.0)\n",
            "Requirement already satisfied: prompt-toolkit<2.1.0,>=2.0.0 in /usr/local/lib/python3.8/dist-packages (from ipython->ipython-autotime) (2.0.10)\n",
            "Requirement already satisfied: parso<0.9.0,>=0.8.0 in /usr/local/lib/python3.8/dist-packages (from jedi>=0.10->ipython->ipython-autotime) (0.8.3)\n",
            "Requirement already satisfied: wcwidth in /usr/local/lib/python3.8/dist-packages (from prompt-toolkit<2.1.0,>=2.0.0->ipython->ipython-autotime) (0.2.6)\n",
            "Requirement already satisfied: six>=1.9.0 in /usr/local/lib/python3.8/dist-packages (from prompt-toolkit<2.1.0,>=2.0.0->ipython->ipython-autotime) (1.15.0)\n",
            "Requirement already satisfied: ptyprocess>=0.5 in /usr/local/lib/python3.8/dist-packages (from pexpect->ipython->ipython-autotime) (0.7.0)\n",
            "Installing collected packages: jedi, ipython-autotime\n",
            "Successfully installed ipython-autotime-0.3.1 jedi-0.18.2\n",
            "time: 544 µs (started: 2023-03-02 13:26:48 +00:00)\n"
          ]
        }
      ],
      "source": [
        "!pip install ipython-autotime\n",
        "%load_ext autotime"
      ]
    },
    {
      "cell_type": "code",
      "execution_count": 11,
      "metadata": {
        "colab": {
          "base_uri": "https://localhost:8080/"
        },
        "id": "qZqzX837z-GT",
        "outputId": "be4893f8-951d-4b01-a4c4-72f3ebf6ca64",
        "vscode": {
          "languageId": "python"
        }
      },
      "outputs": [
        {
          "name": "stdout",
          "output_type": "stream",
          "text": [
            "time: 4.07 s (started: 2023-03-02 13:26:48 +00:00)\n"
          ]
        }
      ],
      "source": [
        "m = Model()"
      ]
    },
    {
      "cell_type": "markdown",
      "metadata": {
        "id": "0hXZxJic0ZOo"
      },
      "source": [
        "Téléchargez le dernier train modèle sauvegardé afin de ne pas réexécuter le modèle :"
      ]
    },
    {
      "cell_type": "code",
      "execution_count": 20,
      "metadata": {
        "colab": {
          "base_uri": "https://localhost:8080/"
        },
        "id": "4hzt5OUywoc3",
        "outputId": "6ddf149c-ad00-4bfd-b84e-c1d19509ecd6",
        "vscode": {
          "languageId": "python"
        }
      },
      "outputs": [
        {
          "name": "stdout",
          "output_type": "stream",
          "text": [
            "time: 16.1 ms (started: 2023-03-02 13:36:16 +00:00)\n"
          ]
        }
      ],
      "source": [
        "m.load_last_trained_model()"
      ]
    },
    {
      "cell_type": "markdown",
      "metadata": {
        "id": "q-pp4zmnWh3A"
      },
      "source": [
        "\n",
        "\n",
        "---\n",
        "\n"
      ]
    },
    {
      "cell_type": "markdown",
      "metadata": {
        "id": "xLa7-XtTVjmU"
      },
      "source": [
        "*Les deux cellules suivantes sont à exécuter uniquement si vous voulez entraîner d'autres architectures de réseaux.*"
      ]
    },
    {
      "cell_type": "markdown",
      "metadata": {
        "id": "bmoGl7ST05JX"
      },
      "source": [
        "Exécuter la cellule uniquement si vous voulez entraîné un nouveau réseau :"
      ]
    },
    {
      "cell_type": "code",
      "execution_count": 12,
      "metadata": {
        "colab": {
          "base_uri": "https://localhost:8080/"
        },
        "id": "b2PAfEofmJnG",
        "outputId": "84150956-18e5-401f-e1d5-9c49dbb44443",
        "vscode": {
          "languageId": "python"
        }
      },
      "outputs": [
        {
          "name": "stdout",
          "output_type": "stream",
          "text": [
            "0 29.244520351290703\n",
            "Loss :  0.01650424674153328\n",
            "1 23.809029596857727\n",
            "Loss :  0.016218822449445724\n",
            "2 23.196656215935946\n",
            "Loss :  0.01598775014281273\n",
            "3 22.899531798437238\n",
            "Loss :  0.016014980152249336\n",
            "4 22.987446807324886\n",
            "Loss :  0.01586087793111801\n",
            "5 22.627502783201635\n",
            "Loss :  0.01594359241425991\n",
            "6 22.6964528625831\n",
            "Loss :  0.01604263111948967\n",
            "7 22.857819301076233\n",
            "Loss :  0.015844250097870827\n",
            "8 22.667389719747007\n",
            "Loss :  0.015847770497202873\n",
            "9 22.40473479218781\n",
            "Loss :  0.015766778960824013\n",
            "10 22.26858072541654\n",
            "Loss :  0.015681849792599678\n",
            "11 22.20531967189163\n",
            "Loss :  0.015671996399760246\n",
            "12 22.078426306135952\n",
            "Loss :  0.015624983236193657\n",
            "13 22.049024344421923\n",
            "Loss :  0.015654532238841057\n",
            "14 21.965354553423822\n",
            "Loss :  0.015683015808463097\n",
            "15 22.005519615486264\n",
            "Loss :  0.01575297862291336\n",
            "16 21.89592903573066\n",
            "Loss :  0.015584801323711872\n",
            "17 22.190412627533078\n",
            "Loss :  0.01572098210453987\n",
            "18 21.86284775007516\n",
            "Loss :  0.015647130087018013\n",
            "19 21.810953732579947\n",
            "Loss :  0.015585930086672306\n",
            "time: 5min 42s (started: 2023-03-02 13:26:53 +00:00)\n"
          ]
        }
      ],
      "source": [
        "loss_list = m.train(noisy_imgs_1.float(), noisy_imgs_2.float(), nb_epochs = 20)"
      ]
    },
    {
      "cell_type": "markdown",
      "metadata": {
        "id": "u3W74LsR0Eo4"
      },
      "source": [
        "Le fichier `parameters_models_ResNet.pth` permet de sauvegarder les paramètres du training pour garder en mémoire les performances des différentes architectures réseaux (pas besoin de relancer de training pour une architecture qui a déjà été lancée !). Dans le fichier `parameters_models_ResNet.pth` se trouve uniquement les paramètres de notre modèle sélectionné. Si vous voulez entraîner d'autres réseaux et les sauvegarder dans le fichier, exécutez la cellule suivante :"
      ]
    },
    {
      "cell_type": "code",
      "execution_count": 13,
      "metadata": {
        "colab": {
          "base_uri": "https://localhost:8080/"
        },
        "id": "m_78c-sowZ5n",
        "outputId": "57304252-1ed0-4ecf-dbda-17406283a2a0",
        "vscode": {
          "languageId": "python"
        }
      },
      "outputs": [
        {
          "name": "stdout",
          "output_type": "stream",
          "text": [
            "time: 22.2 ms (started: 2023-03-02 13:32:35 +00:00)\n"
          ]
        }
      ],
      "source": [
        "m.save_parameters_Model()"
      ]
    },
    {
      "cell_type": "markdown",
      "metadata": {
        "id": "4hk5lFlVsjbv"
      },
      "source": [
        "**Visualition de la `loss function` en fonction du nombre d'epochs**"
      ]
    },
    {
      "cell_type": "markdown",
      "metadata": {
        "id": "28zp3f9nsfLy"
      },
      "source": [
        "Importez la libraire numpy :"
      ]
    },
    {
      "cell_type": "code",
      "execution_count": 14,
      "metadata": {
        "colab": {
          "base_uri": "https://localhost:8080/"
        },
        "id": "a0Iup49nwENd",
        "outputId": "b3700fdb-7bed-4774-f815-953b1ae78eb9",
        "vscode": {
          "languageId": "python"
        }
      },
      "outputs": [
        {
          "name": "stdout",
          "output_type": "stream",
          "text": [
            "time: 510 µs (started: 2023-03-02 13:32:35 +00:00)\n"
          ]
        }
      ],
      "source": [
        "import numpy as np"
      ]
    },
    {
      "cell_type": "code",
      "execution_count": 15,
      "metadata": {
        "colab": {
          "base_uri": "https://localhost:8080/",
          "height": 314
        },
        "id": "Mt9jJgsPtaM9",
        "outputId": "98bc1d13-e5bd-45b6-96fb-7e9c287b7fb4",
        "vscode": {
          "languageId": "python"
        }
      },
      "outputs": [
        {
          "data": {
            "image/png": "[encoded data removed]",
            "text/plain": [
              "<Figure size 432x288 with 1 Axes>"
            ]
          },
          "metadata": {
            "needs_background": "light"
          },
          "output_type": "display_data"
        },
        {
          "name": "stdout",
          "output_type": "stream",
          "text": [
            "time: 197 ms (started: 2023-03-02 13:32:35 +00:00)\n"
          ]
        }
      ],
      "source": [
        "# create a numpy array manually to have our number of epochs\n",
        "epochs = np.arange(1,21)\n",
        "\n",
        "# create figure\n",
        "plt.plot(epochs,loss_list)\n",
        "\n",
        "# add titles\n",
        "plt.title(\"Évolution de la loss function en fonction du nombre d'epochs\")\n",
        "plt.xlabel(\"Nombre d'epochs\")\n",
        "plt.ylabel('Loss function')\n",
        "\n",
        "# showing figure\n",
        "plt.show()"
      ]
    },
    {
      "cell_type": "markdown",
      "metadata": {
        "id": "6fY0rhu4tjlL"
      },
      "source": [
        "Nous observons que notre `loss function` décroît bien en fonction du nombre d'epochs."
      ]
    },
    {
      "cell_type": "markdown",
      "metadata": {
        "id": "xKPv9BvmtyGl"
      },
      "source": [
        "**Déclaration et visualation de notre `predicted image`** "
      ]
    },
    {
      "cell_type": "code",
      "execution_count": 16,
      "metadata": {
        "colab": {
          "base_uri": "https://localhost:8080/",
          "height": 283
        },
        "id": "NhSXz4yKaJQq",
        "outputId": "334b17a4-d632-4c8b-ff8e-7b5092c1efc1",
        "vscode": {
          "languageId": "python"
        }
      },
      "outputs": [
        {
          "data": {
            "image/png": "[encoded data removed]",
            "text/plain": [
              "<Figure size 432x288 with 1 Axes>"
            ]
          },
          "metadata": {
            "needs_background": "light"
          },
          "output_type": "display_data"
        },
        {
          "name": "stdout",
          "output_type": "stream",
          "text": [
            "time: 195 ms (started: 2023-03-02 13:32:35 +00:00)\n"
          ]
        }
      ],
      "source": [
        "predicted_img = m.prediction(noisy_imgs.float().to(device))\n",
        "\n",
        "with torch.no_grad():\n",
        "  plt.imshow(predicted_img[13].cpu().permute(1,2,0))"
      ]
    },
    {
      "cell_type": "markdown",
      "metadata": {
        "id": "O9YfotX13YOC"
      },
      "source": [
        "### Visualisation finale des données du `validation set`"
      ]
    },
    {
      "cell_type": "code",
      "execution_count": 17,
      "metadata": {
        "colab": {
          "base_uri": "https://localhost:8080/",
          "height": 359
        },
        "id": "glSoDqzaoBOW",
        "outputId": "892bd372-e21f-45e8-f3c6-b3baf47849b3",
        "vscode": {
          "languageId": "python"
        }
      },
      "outputs": [
        {
          "data": {
            "image/png": "[encoded data removed]",
            "text/plain": [
              "<Figure size 1296x648 with 3 Axes>"
            ]
          },
          "metadata": {
            "needs_background": "light"
          },
          "output_type": "display_data"
        },
        {
          "name": "stdout",
          "output_type": "stream",
          "text": [
            "time: 201 ms (started: 2023-03-02 13:32:35 +00:00)\n"
          ]
        }
      ],
      "source": [
        "with torch.no_grad():\n",
        "\n",
        "  # create figure\n",
        "  fig = plt.figure(figsize=(18, 9))\n",
        "    \n",
        "  # setting values to rows and column variables\n",
        "  rows = 1\n",
        "  columns = 3\n",
        "\n",
        "  # adds a subplot \n",
        "  fig.add_subplot(rows, columns, 1)\n",
        "\n",
        "  # showing image\n",
        "  plt.imshow(noisy_imgs[13].cpu().permute(1,2,0))\n",
        "  plt.axis('off')\n",
        "  plt.title(\"Input Image\")\n",
        "\n",
        "  # adds a subplot \n",
        "  fig.add_subplot(rows, columns, 2)\n",
        "    \n",
        "  # showing image\n",
        "  plt.imshow(clean_imgs[13].cpu().permute(1,2,0))\n",
        "  plt.axis('off')\n",
        "  plt.title(\"Clean Image\")\n",
        "      \n",
        "  # adds a subplot \n",
        "  fig.add_subplot(rows, columns, 3)\n",
        "      \n",
        "  # showing image\n",
        "  plt.imshow(predicted_img[13].cpu().permute(1,2,0))\n",
        "  plt.axis('off')\n",
        "  plt.title(\"Predicted Image\")"
      ]
    },
    {
      "cell_type": "markdown",
      "metadata": {
        "id": "gA2YTQgz3ph5"
      },
      "source": [
        "Nous remarquons que notre `predicted image` est très proche visuellement de la `clean image`.\n",
        "\n",
        "Il est important de souligner que notre jeu de données est en base résolution pour permettre de réduire les temps de calculs pouvant être trop volumineux en haute réoslution. Notre `clean image` et `predicted image` restent donc floues à l'oeil nu."
      ]
    },
    {
      "cell_type": "markdown",
      "metadata": {
        "id": "1SwotXJu2vxs"
      },
      "source": [
        "### Calcul du PSNR après entraînement de notre modèle"
      ]
    },
    {
      "cell_type": "code",
      "execution_count": 18,
      "metadata": {
        "colab": {
          "base_uri": "https://localhost:8080/"
        },
        "id": "zu-iEQrKkEpg",
        "outputId": "e1ef46c5-b9d0-4c48-f4b5-c2e4c47a7f23",
        "vscode": {
          "languageId": "python"
        }
      },
      "outputs": [
        {
          "name": "stdout",
          "output_type": "stream",
          "text": [
            "PSNR mean : 25.427729473114013 dB\n",
            "time: 106 ms (started: 2023-03-02 13:32:35 +00:00)\n"
          ]
        }
      ],
      "source": [
        "def psnr(denoised , ground_truth):\n",
        "# Peak Signal to Noise Ratio: denoised and grounḋ_truth have values between 0 and 1\n",
        "  mse = torch.mean((denoised - ground_truth) ** 2)\n",
        "  return -10 * torch.log10(mse + 10**-8)\n",
        "\n",
        "sum = 0\n",
        "nb_img = predicted_img.size(0)\n",
        "psnr_list = []\n",
        "\n",
        "for i in range(nb_img):\n",
        "  psnr_list.append(psnr(predicted_img[i].cpu(), clean_imgs[i].cpu()).item())\n",
        "    \n",
        "for j in range(nb_img):\n",
        "  sum = sum + psnr_list[j]\n",
        "\n",
        "mean_psnr = sum/nb_img\n",
        "\n",
        "print(\"PSNR mean : \" + str(mean_psnr) + \" dB\")"
      ]
    },
    {
      "cell_type": "markdown",
      "metadata": {
        "id": "Sy1Wzg4X2s-P"
      },
      "source": [
        "Nous obtenons un PSNR moyen de 25.43 dB après l'entraînement de notre ResNet avec data augmentation et 25.21 sans data augmentation avec le fichier `train_data.pkl`.\n",
        "\n",
        "En conséquence, nous obtenons un PSNR plus élevé après entraînement de notre modèle, cela signifie que notre signal et donc le traitement de restauration ou d'amélioration sont meilleurs. Néanmoins, il reste moins bon que le modèle U-Net."
      ]
    }
  ],
  "metadata": {
    "accelerator": "GPU",
    "colab": {
      "machine_shape": "hm",
      "provenance": []
    },
    "gpuClass": "premium",
    "kernelspec": {
      "display_name": "Python 3 (ipykernel)",
      "language": "python",
      "name": "python3"
    }
  },
  "nbformat": 4,
  "nbformat_minor": 0
}
