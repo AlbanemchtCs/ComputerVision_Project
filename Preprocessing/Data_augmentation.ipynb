{
 "cells": [
  {
   "cell_type": "markdown",
   "metadata": {
    "id": "1J4I4AiFhzpM"
   },
   "source": [
    "# Data augmentation en faisant du flip horizontal et vertical 180°\n"
   ]
  },
  {
   "cell_type": "markdown",
   "metadata": {
    "id": "k9ZBkoFRhr8b"
   },
   "source": [
    "## Connection drive"
   ]
  },
  {
   "cell_type": "markdown",
   "metadata": {
    "id": "PFkHAGeZhu-m"
   },
   "source": [
    "Dans un premier temps, connectez-vous au drive pour accéder au dataset :"
   ]
  },
  {
   "cell_type": "code",
   "execution_count": 47,
   "metadata": {
    "colab": {
     "base_uri": "https://localhost:8080/"
    },
    "id": "7MPMrnyFhrmY",
    "outputId": "4e5f3bae-e1e2-43a5-cabf-10a91d21b8fb"
   },
   "outputs": [
    {
     "name": "stdout",
     "output_type": "stream",
     "text": [
      "Drive already mounted at /content/drive; to attempt to forcibly remount, call drive.mount(\"/content/drive\", force_remount=True).\n"
     ]
    }
   ],
   "source": [
    "from google.colab import drive\n",
    "drive.mount('/content/drive')"
   ]
  },
  {
   "cell_type": "markdown",
   "metadata": {
    "id": "6ntp0vYtmHJS"
   },
   "source": [
    "### Importation des librairies pytorch"
   ]
  },
  {
   "cell_type": "code",
   "execution_count": 48,
   "metadata": {
    "id": "3gGj-olZmFw1"
   },
   "outputs": [],
   "source": [
    "import torch\n",
    "from torch import optim\n",
    "from torch import Tensor\n",
    "from torch import nn\n",
    "from torch.nn import functional as F"
   ]
  },
  {
   "cell_type": "code",
   "execution_count": 49,
   "metadata": {
    "id": "8sH-BlAomNNI"
   },
   "outputs": [],
   "source": [
    "device = torch.device('cuda' if torch.cuda.is_available() else 'cpu')"
   ]
  },
  {
   "cell_type": "markdown",
   "metadata": {
    "id": "6eA2z574iJ4K"
   },
   "source": [
    "## Data augmentation du `validation set` pour le modèle discriminant qui prend le `validation set` comme `training set`"
   ]
  },
  {
   "cell_type": "markdown",
   "metadata": {
    "id": "FkULe-A_iQ37"
   },
   "source": [
    "### Flip horizontal et vertical 180°"
   ]
  },
  {
   "cell_type": "markdown",
   "metadata": {
    "id": "dfEzVIO76YE6"
   },
   "source": [
    "Installez la librairie torchvsion si vous ne l'avez pas déjà installée :"
   ]
  },
  {
   "cell_type": "code",
   "execution_count": 50,
   "metadata": {
    "colab": {
     "base_uri": "https://localhost:8080/"
    },
    "id": "ReFRkdCHjHnH",
    "outputId": "ac266b39-d546-42c7-ce50-2c19fbd81650"
   },
   "outputs": [
    {
     "name": "stdout",
     "output_type": "stream",
     "text": [
      "Looking in indexes: https://pypi.org/simple, https://us-python.pkg.dev/colab-wheels/public/simple/\n",
      "Requirement already satisfied: torchvision in /usr/local/lib/python3.8/dist-packages (0.14.1+cu116)\n",
      "Requirement already satisfied: typing-extensions in /usr/local/lib/python3.8/dist-packages (from torchvision) (4.5.0)\n",
      "Requirement already satisfied: numpy in /usr/local/lib/python3.8/dist-packages (from torchvision) (1.22.4)\n",
      "Requirement already satisfied: requests in /usr/local/lib/python3.8/dist-packages (from torchvision) (2.25.1)\n",
      "Requirement already satisfied: torch==1.13.1 in /usr/local/lib/python3.8/dist-packages (from torchvision) (1.13.1+cu116)\n",
      "Requirement already satisfied: pillow!=8.3.*,>=5.3.0 in /usr/local/lib/python3.8/dist-packages (from torchvision) (8.4.0)\n",
      "Requirement already satisfied: urllib3<1.27,>=1.21.1 in /usr/local/lib/python3.8/dist-packages (from requests->torchvision) (1.26.14)\n",
      "Requirement already satisfied: chardet<5,>=3.0.2 in /usr/local/lib/python3.8/dist-packages (from requests->torchvision) (4.0.0)\n",
      "Requirement already satisfied: certifi>=2017.4.17 in /usr/local/lib/python3.8/dist-packages (from requests->torchvision) (2022.12.7)\n",
      "Requirement already satisfied: idna<3,>=2.5 in /usr/local/lib/python3.8/dist-packages (from requests->torchvision) (2.10)\n"
     ]
    }
   ],
   "source": [
    "!pip install torchvision"
   ]
  },
  {
   "cell_type": "code",
   "execution_count": 53,
   "metadata": {
    "id": "XcEummLDncCo"
   },
   "outputs": [],
   "source": [
    "import torch\n",
    "import torchvision.transforms as transforms\n",
    "\n",
    "# Chargement des données du validation set\n",
    "noisy_imgs, clean_imgs = torch.load('/content/drive/MyDrive/DeepL_Project/dataset/val_data.pkl')\n",
    "\n",
    "# Normalisation des données\n",
    "noisy_imgs = noisy_imgs/255\n",
    "clean_imgs = clean_imgs/255\n",
    "\n",
    "# Définition des transformations : horizontal et vertical 180\n",
    "transformations_h = transforms.RandomHorizontalFlip(p=1)\n",
    "transformations_v = transforms.RandomVerticalFlip(p=1)\n",
    "\n",
    "# Application et concaténation des transformations sur les données \n",
    "augmented_noisy_imgs = []\n",
    "augmented_clean_imgs = []\n",
    "\n",
    "for i in range(len(noisy_imgs)):\n",
    "    noisy_img = noisy_imgs[i]\n",
    "    clean_img = clean_imgs[i]\n",
    "    \n",
    "    # Application des transformations sur chaque paire d'images\n",
    "    transformed_h_noisy_img = transformations_h(noisy_img)\n",
    "    transformed_h_clean_img = transformations_h(clean_img)\n",
    "    \n",
    "    augmented_noisy_imgs.append(transformed_h_noisy_img)\n",
    "    augmented_clean_imgs.append(transformed_h_clean_img)\n",
    "\n",
    "    transformed_v_noisy_img = transformations_v(noisy_img)\n",
    "    transformed_v_clean_img = transformations_v(clean_img)\n",
    "    \n",
    "    augmented_noisy_imgs.append(transformed_v_noisy_img)\n",
    "    augmented_clean_imgs.append(transformed_v_clean_img)\n",
    "\n",
    "# Concaténation des données augmentées avec les données originales\n",
    "noisy_imgs = torch.cat((noisy_imgs, torch.stack(augmented_noisy_imgs)))\n",
    "clean_imgs = torch.cat((clean_imgs, torch.stack(augmented_clean_imgs)))\n",
    "\n",
    "# Enregistrement des données augmentées dans un nouveau fichier pickle\n",
    "torch.save((noisy_imgs, clean_imgs), '/content/drive/MyDrive/DeepL_Project/dataset/augmented_val_data.pkl')\n"
   ]
  },
  {
   "cell_type": "markdown",
   "metadata": {
    "id": "ZBmuc11I8CNm"
   },
   "source": [
    "## Data augmentation du `train set` comme les réseaux ResNet et U-Net"
   ]
  },
  {
   "cell_type": "markdown",
   "metadata": {
    "id": "dwyqsr0P8KYS"
   },
   "source": [
    "### Flip horizontal et vertical 180°"
   ]
  },
  {
   "cell_type": "code",
   "execution_count": 69,
   "metadata": {
    "id": "-H7PgxbeCKQO"
   },
   "outputs": [],
   "source": [
    "import torch\n",
    "import torchvision.transforms as transforms\n",
    "\n",
    "# Chargement des données du train set\n",
    "noisy_imgs_1, noisy_imgs_2 = torch.load('/content/drive/MyDrive/DeepL_Project/dataset/train_data.pkl')\n",
    "\n",
    "# Normalisation des données\n",
    "noisy_imgs_1 = noisy_imgs_1/255\n",
    "noisy_imgs_2 = noisy_imgs_2/255\n",
    "\n",
    "# Définition des transformations : horizontal et vertical 180\n",
    "transformations_h = transforms.RandomHorizontalFlip(p=1)\n",
    "transformations_v = transforms.RandomVerticalFlip(p=1)\n",
    "\n",
    "# Application et concaténation des transformations sur les données \n",
    "augmented_noisy_imgs_1 = []\n",
    "augmented_noisy_imgs_2 = []\n",
    "\n",
    "for i in range(len(noisy_imgs_1)):\n",
    "    noisy_img_1 = noisy_imgs_1[i]\n",
    "    noisy_img_2 = noisy_imgs_2[i]\n",
    "    \n",
    "    # Application des transformations sur chaque paire d'images\n",
    "    transformed_h_noisy_img_1 = transformations_h(noisy_img_1)\n",
    "    transformed_h_noisy_img_2 = transformations_h(noisy_img_2)\n",
    "    \n",
    "    augmented_noisy_imgs_1.append(transformed_h_noisy_img_1)\n",
    "    augmented_noisy_imgs_2.append(transformed_h_noisy_img_2)\n",
    "\n",
    "    transformed_v_noisy_img_1 = transformations_v(noisy_img_1)\n",
    "    transformed_v_noisy_img_2 = transformations_v(noisy_img_2)\n",
    "    \n",
    "    augmented_noisy_imgs_1.append(transformed_v_noisy_img_1)\n",
    "    augmented_noisy_imgs_2.append(transformed_v_noisy_img_2)\n",
    "\n",
    "# Concaténation des données augmentées avec les données originales\n",
    "noisy_imgs_1 = torch.cat((noisy_imgs_1, torch.stack(augmented_noisy_imgs_1)))\n",
    "noisy_imgs_2 = torch.cat((noisy_imgs_2, torch.stack(augmented_noisy_imgs_2)))\n",
    "\n",
    "# Enregistrement des données augmentées dans un nouveau fichier pickle\n",
    "torch.save((noisy_imgs_1, noisy_imgs_2), '/content/drive/MyDrive/DeepL_Project/dataset/augmented_train_data.pkl')\n"
   ]
  },
  {
   "cell_type": "markdown",
   "metadata": {},
   "source": [
    "### Permutation aléatoire des couleurs (taillex2)"
   ]
  },
  {
   "cell_type": "code",
   "execution_count": null,
   "metadata": {},
   "outputs": [],
   "source": [
    "for i in range(len(noisy_imgs_1)):\n",
    "    noisy_img_1 = noisy_imgs_1[i]\n",
    "    noisy_img_2 = noisy_imgs_2[i]\n",
    "    r = random.randint(3)\n",
    "    noisy_img_1_copy = noisy_imgs_1[i].copy()\n",
    "    noisy_img_2_copy = noisy_imgs_2[i].copy()\n",
    "    if(r==1):\n",
    "        noisy_img_1_copy[0]=noisy_img_1[1]\n",
    "        noisy_img_1_copy[1]=noisy_img_1[0]\n",
    "        noisy_img_2_copy[0]=noisy_img_2[1]\n",
    "        noisy_img_2_copy[1]=noisy_img_2[0]\n",
    "    elif(r==2):\n",
    "        noisy_img_1_copy[1]=noisy_img_1[2]\n",
    "        noisy_img_1_copy[2]=noisy_img_1[1]\n",
    "        noisy_img_2_copy[1]=noisy_img_2[2]\n",
    "        noisy_img_2_copy[2]=noisy_img_2[1]\n",
    "    elif(r==2):\n",
    "        noisy_img_1_copy[0]=noisy_img_1[2]\n",
    "        noisy_img_1_copy[2]=noisy_img_1[0]\n",
    "        noisy_img_2_copy[0]=noisy_img_2[2]\n",
    "        noisy_img_2_copy[2]=noisy_img_2[0]\n",
    "        \n",
    "    augmented_noisy_imgs_1.append(noisy_img_1_copy)\n",
    "    augmented_noisy_imgs_2.append(noisy_img_2_copy)\n",
    "\n",
    "# Enregistrement des données augmentées dans un nouveau fichier pickle\n",
    "torch.save((noisy_imgs_1, noisy_imgs_2), '/content/drive/MyDrive/DeepL_Project/dataset/color_augmented_train_data.pkl')"
   ]
  },
  {
   "cell_type": "markdown",
   "metadata": {
    "id": "iesuVj62CbWd"
   },
   "source": [
    "## Visualisation des données augmentées"
   ]
  },
  {
   "cell_type": "code",
   "execution_count": 70,
   "metadata": {
    "colab": {
     "base_uri": "https://localhost:8080/"
    },
    "id": "Vwktfqyi93fr",
    "outputId": "201a94fe-8f9c-4d6a-88d1-505e74d23fd8"
   },
   "outputs": [
    {
     "name": "stdout",
     "output_type": "stream",
     "text": [
      "torch.Size([150000, 3, 32, 32])\n",
      "torch.Size([3000, 3, 32, 32])\n"
     ]
    }
   ],
   "source": [
    "noisy_imgs_1 , noisy_imgs_2 = torch.load('/content/drive/MyDrive/DeepL_Project/dataset/augmented_train_data.pkl')\n",
    "noisy_imgs , clean_imgs = torch.load('/content/drive/MyDrive/DeepL_Project/dataset/augmented_val_data.pkl')\n",
    "\n",
    "print(noisy_imgs_1.shape)\n",
    "print(noisy_imgs.shape)"
   ]
  },
  {
   "cell_type": "code",
   "execution_count": 71,
   "metadata": {
    "id": "RFggRxq1-BW4"
   },
   "outputs": [],
   "source": [
    "from matplotlib import pyplot as plt"
   ]
  },
  {
   "cell_type": "code",
   "execution_count": 82,
   "metadata": {
    "colab": {
     "base_uri": "https://localhost:8080/",
     "height": 298
    },
    "id": "AfcNXSwT9-ZZ",
    "outputId": "bcf9a786-38d7-49a9-ffe4-53d45bd59b88"
   },
   "outputs": [
    {
     "data": {
      "text/plain": [
       "Text(0.5, 1.0, 'Clean_imgs_flip from the validation set')"
      ]
     },
     "execution_count": 82,
     "metadata": {},
     "output_type": "execute_result"
    },
    {
     "data": {
      "image/png": "[encoded data removed]",
      "text/plain": [
       "<Figure size 1296x648 with 8 Axes>"
      ]
     },
     "metadata": {
      "needs_background": "light"
     },
     "output_type": "display_data"
    }
   ],
   "source": [
    "# create figure\n",
    "fig = plt.figure(figsize=(18, 9))\n",
    "    \n",
    "# setting values to rows and column variables\n",
    "rows = 4\n",
    "columns = 4\n",
    "\n",
    "# adds a subplot\n",
    "fig.add_subplot(rows, columns, 1)\n",
    "\n",
    "# showing image\n",
    "plt.imshow(noisy_imgs_1[0].cpu().permute(1,2,0))\n",
    "plt.axis('off')\n",
    "plt.title(\"Noisy_imgs_1 from the training set\")\n",
    "\n",
    "# adds a subplot\n",
    "fig.add_subplot(rows, columns, 2)\n",
    "    \n",
    "# showing image\n",
    "plt.imshow(noisy_imgs_2[0].cpu().permute(1,2,0))\n",
    "plt.axis('off')\n",
    "plt.title(\"Noisy_imgs_2 from the training set\")\n",
    "\n",
    "# adds a subplot\n",
    "fig.add_subplot(rows, columns, 3)\n",
    "\n",
    "# showing image\n",
    "plt.imshow(noisy_imgs_1[50000].cpu().permute(1,2,0))\n",
    "plt.axis('off')\n",
    "plt.title(\"Noisy_imgs_1_flip from the training set\")\n",
    "\n",
    "# adds a subplot\n",
    "fig.add_subplot(rows, columns, 4)\n",
    "\n",
    "# showing image\n",
    "plt.imshow(noisy_imgs_2[50000].cpu().permute(1,2,0))\n",
    "plt.axis('off')\n",
    "plt.title(\"Noisy_imgs_2_flip from the training set\")\n",
    "      \n",
    "# adds a subplot \n",
    "fig.add_subplot(rows, columns, 5)\n",
    "      \n",
    "# showing image\n",
    "plt.imshow(noisy_imgs[0].cpu().permute(1,2,0))\n",
    "plt.axis('off')\n",
    "plt.title(\"Noisy_imgs from the validation set\")\n",
    "\n",
    "# adds a subplot \n",
    "fig.add_subplot(rows, columns, 6)\n",
    "\n",
    "# showing image\n",
    "plt.imshow(clean_imgs[0].cpu().permute(1,2,0))\n",
    "plt.axis('off')\n",
    "plt.title(\"Clean_imgs from the validation set\")\n",
    "\n",
    "# adds a subplot \n",
    "fig.add_subplot(rows, columns, 7)\n",
    "      \n",
    "# showing image\n",
    "plt.imshow(noisy_imgs[1001].cpu().permute(1,2,0))\n",
    "plt.axis('off')\n",
    "plt.title(\"Noisy_imgs_flip from the validation set\")\n",
    "\n",
    "# adds a subplot \n",
    "fig.add_subplot(rows, columns, 8)\n",
    "\n",
    "# showing image\n",
    "plt.imshow(clean_imgs[1001].cpu().permute(1,2,0))\n",
    "plt.axis('off')\n",
    "plt.title(\"Clean_imgs_flip from the validation set\")"
   ]
  }
 ],
 "metadata": {
  "accelerator": "GPU",
  "colab": {
   "machine_shape": "hm",
   "provenance": []
  },
  "gpuClass": "premium",
  "kernelspec": {
   "display_name": "Python 3 (ipykernel)",
   "language": "python",
   "name": "python3"
  },
  "language_info": {
   "codemirror_mode": {
    "name": "ipython",
    "version": 3
   },
   "file_extension": ".py",
   "mimetype": "text/x-python",
   "name": "python",
   "nbconvert_exporter": "python",
   "pygments_lexer": "ipython3",
   "version": "3.9.15"
  }
 },
 "nbformat": 4,
 "nbformat_minor": 1
}
