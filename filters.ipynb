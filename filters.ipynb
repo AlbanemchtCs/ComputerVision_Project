{
  "nbformat": 4,
  "nbformat_minor": 0,
  "metadata": {
    "colab": {
      "provenance": [],
      "machine_shape": "hm",
      "collapsed_sections": [
        "k9ZBkoFRhr8b",
        "eLdVW64LdCPl",
        "31JTgIFt9MfY",
        "x0PC4_l7usnf",
        "SeOTICmDBRnm",
        "S0kE7wTms8Ut",
        "XPu4MYGxjyti",
        "v1jDe1KlFqyx",
        "Tl6XdwZubfpw",
        "B0tS7T7jQd0j",
        "0Ez5AXDXTqjc",
        "LariU6reTrs_"
      ]
    },
    "kernelspec": {
      "name": "python3",
      "display_name": "Python 3"
    },
    "language_info": {
      "name": "python"
    },
    "gpuClass": "standard"
  },
  "cells": [
    {
      "cell_type": "markdown",
      "source": [
        "# Applications de méthodes de filtrage\n"
      ],
      "metadata": {
        "id": "1J4I4AiFhzpM"
      }
    },
    {
      "cell_type": "markdown",
      "source": [
        "Dans le but d'améliorer notre PSNR moyen final, nous voulons appliquer des filtres sur nos données d'entraînement. \n",
        "\n",
        "Pour chaque filtre, nous appliquons le filtre sur l'image d'entrée du `train set avec augmentation des données` et du `valisation set`, créant ainsi deux nouveaux fichiers `pkl` pour chaque filtre appliqué.\n"
      ],
      "metadata": {
        "id": "6lYvG60KvyfA"
      }
    },
    {
      "cell_type": "markdown",
      "source": [
        "### Connection drive"
      ],
      "metadata": {
        "id": "k9ZBkoFRhr8b"
      }
    },
    {
      "cell_type": "markdown",
      "source": [
        "Dans un premier temps, connectez-vous au drive pour accéder au dataset :"
      ],
      "metadata": {
        "id": "PFkHAGeZhu-m"
      }
    },
    {
      "cell_type": "code",
      "source": [
        "from google.colab import drive\n",
        "drive.mount('/content/drive')"
      ],
      "metadata": {
        "colab": {
          "base_uri": "https://localhost:8080/"
        },
        "id": "7MPMrnyFhrmY",
        "outputId": "eefdff5a-6e9a-4f4e-a862-c20ac27cce94"
      },
      "execution_count": 55,
      "outputs": [
        {
          "output_type": "stream",
          "name": "stdout",
          "text": [
            "Drive already mounted at /content/drive; to attempt to forcibly remount, call drive.mount(\"/content/drive\", force_remount=True).\n"
          ]
        }
      ]
    },
    {
      "cell_type": "markdown",
      "source": [
        "### Importation des librairies pytorch"
      ],
      "metadata": {
        "id": "6ntp0vYtmHJS"
      }
    },
    {
      "cell_type": "code",
      "source": [
        "import torch\n",
        "from torch import optim\n",
        "from torch import Tensor\n",
        "from torch import nn\n",
        "from torch.nn import functional as F"
      ],
      "metadata": {
        "id": "3gGj-olZmFw1"
      },
      "execution_count": 58,
      "outputs": []
    },
    {
      "cell_type": "code",
      "source": [
        "device = torch.device('cuda' if torch.cuda.is_available() else 'cpu')"
      ],
      "metadata": {
        "id": "8sH-BlAomNNI"
      },
      "execution_count": 57,
      "outputs": []
    },
    {
      "cell_type": "markdown",
      "source": [
        "## Filtre Médian, Gaussien et bilatéral"
      ],
      "metadata": {
        "id": "NjI_W2K9Ewse"
      }
    },
    {
      "cell_type": "markdown",
      "source": [
        "### Filtre médian "
      ],
      "metadata": {
        "id": "eLdVW64LdCPl"
      }
    },
    {
      "cell_type": "markdown",
      "source": [
        "Nous appliquons dans un premier temps le filtre médian qui est une technique de filtrage non linéaire, utilisé pour réduire le bruit impulsif.\n",
        "Il remplace chaque pixel par la médiane des pixels voisins."
      ],
      "metadata": {
        "id": "fxK5FDoD67oc"
      }
    },
    {
      "cell_type": "markdown",
      "source": [
        "#### Train set"
      ],
      "metadata": {
        "id": "isXrHNdg9KlC"
      }
    },
    {
      "cell_type": "markdown",
      "source": [
        "---\n",
        "\n",
        "Exécutez la cellule suivante pour créer un nouveau fichier `pkl` pour le `train set` appliquant le filtre médian sur l'image d'entrée :\n"
      ],
      "metadata": {
        "id": "14bXsPDG9KA4"
      }
    },
    {
      "cell_type": "code",
      "source": [
        "import numpy as np\n",
        "import cv2\n",
        "import torch\n",
        "\n",
        "# chargement des images de notre train set avec data augmentation\n",
        "noisy_imgs_1, noisy_imgs_2 = torch.load('/content/drive/MyDrive/ComputerVision/dataset/augmented_train_data.pkl')\n",
        "\n",
        "# conversion des tenseurs en tableaux NumPy\n",
        "noisy_imgs_1 = np.transpose(noisy_imgs_1.numpy(), (0, 2, 3, 1))\n",
        "\n",
        "# application du filtre médian avec une taille de noyau de 3x3 à chaque image\n",
        "filtered_imgs_1 = np.zeros_like(noisy_imgs_1)\n",
        "\n",
        "for i in range(len(noisy_imgs_1)):\n",
        "    img = np.squeeze(noisy_imgs_1[i])\n",
        "    filtered_imgs_1[i] = cv2.medianBlur(img, 3)\n",
        "\n",
        "# conversion des tableaux NumPy en tenseurs PyTorch\n",
        "filtered_imgs_1 = torch.from_numpy(np.transpose(filtered_imgs_1, (0, 3, 1, 2)))\n",
        "\n",
        "# enregistrement des images d'entrées filtrées dans un nouveau fichier pkl\n",
        "torch.save((filtered_imgs_1, noisy_imgs_2), '/content/drive/MyDrive/ComputerVision/dataset/augmented_train_data_filtered_median.pkl')"
      ],
      "metadata": {
        "id": "hPwGctTNWRoH"
      },
      "execution_count": 6,
      "outputs": []
    },
    {
      "cell_type": "markdown",
      "source": [
        "**Visualisation de l'image filtrée par rapport à l'image originale**\n",
        "\n",
        "\n"
      ],
      "metadata": {
        "id": "sebmJ2g28lNO"
      }
    },
    {
      "cell_type": "code",
      "source": [
        "import torch\n",
        "import matplotlib.pyplot as plt\n",
        "\n",
        "# chargement des images à partir des fichiers correspondants\n",
        "noisy_imgs_1, noisy_imgs_2 = torch.load('/content/drive/MyDrive/ComputerVision/dataset/augmented_train_data.pkl')\n",
        "filtered_imgs_1, noisy_imgs_2 = torch.load('/content/drive/MyDrive/ComputerVision/dataset/augmented_train_data_filtered_median.pkl')\n",
        "\n",
        "# création d'une figure\n",
        "fig = plt.figure(figsize=(18, 9))\n",
        "    \n",
        "# définissons les valeurs pour les variables de lignes et de colonnes\n",
        "rows = 1\n",
        "columns = 2\n",
        "\n",
        "# ajout d'un subplot\n",
        "fig.add_subplot(rows, columns, 1)\n",
        "\n",
        "# visualisation de l'image initiale bruitée\n",
        "plt.imshow(noisy_imgs_1[7].cpu().permute(1,2,0))\n",
        "plt.axis('off')\n",
        "plt.title(\"Exemple d'une noisy_imgs_1 du training set\")\n",
        "\n",
        "# ajout d'un subplot\n",
        "fig.add_subplot(rows, columns, 2)\n",
        "    \n",
        "# visualisation de son image initiale filtrée\n",
        "plt.imshow(filtered_imgs_1[7].cpu().permute(1,2,0))\n",
        "plt.axis('off')\n",
        "plt.title(\"Exemple de son image filtrée filtered_imgs_1\")"
      ],
      "metadata": {
        "colab": {
          "base_uri": "https://localhost:8080/",
          "height": 520
        },
        "id": "DCJwYmDB9GPj",
        "outputId": "ba46dc0d-0c7f-439d-bd35-1c4533e09d12"
      },
      "execution_count": 44,
      "outputs": [
        {
          "output_type": "execute_result",
          "data": {
            "text/plain": [
              "Text(0.5, 1.0, 'Exemple de son image filtrée filtered_imgs_1')"
            ]
          },
          "metadata": {},
          "execution_count": 44
        },
        {
          "output_type": "display_data",
          "data": {
            "text/plain": [
              "<Figure size 1296x648 with 2 Axes>"
            ],
            "image/png": "[encoded data removed]"
          },
          "metadata": {
            "needs_background": "light"
          }
        }
      ]
    },
    {
      "cell_type": "markdown",
      "source": [
        "#### Val set"
      ],
      "metadata": {
        "id": "31JTgIFt9MfY"
      }
    },
    {
      "cell_type": "markdown",
      "source": [
        "---\n",
        "\n",
        "Exécutez la cellule suivante pour créer un nouveau fichier `pkl` pour le `val set` appliquant le filtre médian sur l'image d'entrée :\n"
      ],
      "metadata": {
        "id": "ZG9WYozn744f"
      }
    },
    {
      "cell_type": "code",
      "source": [
        "import numpy as np\n",
        "import cv2\n",
        "import torch\n",
        "\n",
        "# chargement des images de notre val set \n",
        "noisy_imgs, clean_imgs = torch.load('/content/drive/MyDrive/ComputerVision/dataset/val_data.pkl')\n",
        "\n",
        "# conversion des tenseurs en tableaux NumPy\n",
        "noisy_imgs = np.transpose(noisy_imgs.numpy(), (0, 2, 3, 1))\n",
        "\n",
        "# application du filtre médian avec une taille de noyau de 3x3 à chaque image\n",
        "filtered_imgs = np.zeros_like(noisy_imgs)\n",
        "\n",
        "for i in range(len(noisy_imgs)):\n",
        "    img = np.squeeze(noisy_imgs[i])\n",
        "    filtered_imgs[i] = cv2.medianBlur(img, 3)\n",
        "\n",
        "# conversion les tableaux NumPy en tenseurs PyTorch\n",
        "filtered_imgs = torch.from_numpy(np.transpose(filtered_imgs, (0, 3, 1, 2)))\n",
        "\n",
        "# enregistrement des images d'entrées filtrées dans un nouveau fichier pkl\n",
        "torch.save((filtered_imgs, clean_imgs), '/content/drive/MyDrive/ComputerVision/dataset/val_data_filtered_median.pkl')\n"
      ],
      "metadata": {
        "id": "pL1BT46TQ_0X"
      },
      "execution_count": null,
      "outputs": []
    },
    {
      "cell_type": "markdown",
      "source": [
        "\n",
        "\n",
        "**Visualisation de l'image filtrée par rapport à l'image originale**\n",
        "\n"
      ],
      "metadata": {
        "id": "EGcUDz6N8b_6"
      }
    },
    {
      "cell_type": "code",
      "source": [
        "import torch\n",
        "import matplotlib.pyplot as plt\n",
        "\n",
        "# chargement des images à partir des fichiers correspondants\n",
        "noisy_imgs, clean_imgs = torch.load('/content/drive/MyDrive/ComputerVision/dataset/val_data.pkl')\n",
        "filtered_imgs, clean_imgs = torch.load('/content/drive/MyDrive/ComputerVision/dataset/val_data_filtered_median.pkl')\n",
        "\n",
        "# création d'une figure\n",
        "fig = plt.figure(figsize=(18, 9))\n",
        "    \n",
        "# définissons les valeurs pour les variables de lignes et de colonnes\n",
        "rows = 1\n",
        "columns = 2\n",
        "\n",
        "# ajout d'un subplot\n",
        "fig.add_subplot(rows, columns, 1)\n",
        "\n",
        "# visualisation de l'image initiale bruitée\n",
        "plt.imshow(noisy_imgs[13].cpu().permute(1,2,0))\n",
        "plt.axis('off')\n",
        "plt.title(\"Exemple d'une noisy_imgs du val set\")\n",
        "\n",
        "# ajout d'un subplot\n",
        "fig.add_subplot(rows, columns, 2)\n",
        "    \n",
        "# visualisation de son image initiale filtrée\n",
        "plt.imshow(filtered_imgs[13].cpu().permute(1,2,0))\n",
        "plt.axis('off')\n",
        "plt.title(\"Exemple de son image filtrée filtered_imgs\")"
      ],
      "metadata": {
        "colab": {
          "base_uri": "https://localhost:8080/",
          "height": 520
        },
        "id": "dNELmYVlAGaE",
        "outputId": "d3815d15-652b-49c7-d6b7-f93591f09e3e"
      },
      "execution_count": 47,
      "outputs": [
        {
          "output_type": "execute_result",
          "data": {
            "text/plain": [
              "Text(0.5, 1.0, 'Exemple de son image filtrée filtered_imgs')"
            ]
          },
          "metadata": {},
          "execution_count": 47
        },
        {
          "output_type": "display_data",
          "data": {
            "text/plain": [
              "<Figure size 1296x648 with 2 Axes>"
            ],
            "image/png": "[encoded data removed]"
          },
          "metadata": {
            "needs_background": "light"
          }
        }
      ]
    },
    {
      "cell_type": "markdown",
      "source": [
        "### Filtre Gaussien"
      ],
      "metadata": {
        "id": "x0PC4_l7usnf"
      }
    },
    {
      "cell_type": "markdown",
      "source": [
        "Nous appliquons dans un second temps le filtre Gaussien qui est une technique de filtrage linéaire, souvent utilisé pour réduire le bruit dans les images.\n",
        "Il remplace chaque pixel par la moyenne pondérée des pixels voisins, où les poids sont déterminés par une fonction Gaussienne."
      ],
      "metadata": {
        "id": "lijxMi6vAdXd"
      }
    },
    {
      "cell_type": "markdown",
      "source": [
        "#### Train set"
      ],
      "metadata": {
        "id": "S2n4k7TXAtFF"
      }
    },
    {
      "cell_type": "markdown",
      "source": [
        "---\n",
        "\n",
        "Exécutez la cellule suivante pour créer un nouveau fichier `pkl` pour le `train set` appliquant le filtre Gaussien sur l'image d'entrée :\n"
      ],
      "metadata": {
        "id": "Wvw2VYt1AuGT"
      }
    },
    {
      "cell_type": "code",
      "source": [
        "import numpy as np\n",
        "import cv2\n",
        "import torch\n",
        "\n",
        "# chargement des images de notre train set avec data augmentation\n",
        "noisy_imgs_1, noisy_imgs_2 = torch.load('/content/drive/MyDrive/ComputerVision/dataset/augmented_train_data.pkl')\n",
        "\n",
        "# conversion des tenseurs en tableaux NumPy\n",
        "noisy_imgs_1 = np.transpose(noisy_imgs_1.numpy(), (0, 2, 3, 1))\n",
        "\n",
        "# application du filtre Gaussien avec une taille de noyau de 3x3 à chaque image\n",
        "filtered_imgs_1 = np.zeros_like(noisy_imgs_1)\n",
        "\n",
        "for i in range(len(noisy_imgs_1)):\n",
        "    img_1 = np.squeeze(noisy_imgs_1[i])\n",
        "    filtered_imgs_1[i] = cv2.GaussianBlur(img_1, (3, 3), 0)\n",
        "\n",
        "# conversion des tableaux NumPy en tenseurs PyTorch\n",
        "filtered_imgs_1 = torch.from_numpy(np.transpose(filtered_imgs_1, (0, 3, 1, 2)))\n",
        "\n",
        "# enregistrement des images d'entrées filtrées dans un nouveau fichier pkl\n",
        "torch.save((filtered_imgs_1, noisy_imgs_2), '/content/drive/MyDrive/ComputerVision/dataset/augmented_train_data_filtered_gaussian.pkl')"
      ],
      "metadata": {
        "id": "bPsae7-putwV"
      },
      "execution_count": 7,
      "outputs": []
    },
    {
      "cell_type": "markdown",
      "source": [
        "**Visualisation de l'image filtrée par rapport à l'image originale**"
      ],
      "metadata": {
        "id": "C_u1RWiGBGbW"
      }
    },
    {
      "cell_type": "code",
      "source": [
        "import torch\n",
        "import matplotlib.pyplot as plt\n",
        "\n",
        "# chargement des images à partir des fichiers correspondants\n",
        "noisy_imgs_1, noisy_imgs_2 = torch.load('/content/drive/MyDrive/ComputerVision/dataset/augmented_train_data.pkl')\n",
        "filtered_imgs_1, noisy_imgs_2 = torch.load('/content/drive/MyDrive/ComputerVision/dataset/augmented_train_data_filtered_gaussian.pkl')\n",
        "\n",
        "# création d'une figure\n",
        "fig = plt.figure(figsize=(18, 9))\n",
        "    \n",
        "# définissons les valeurs pour les variables de lignes et de colonnes\n",
        "rows = 1\n",
        "columns = 2\n",
        "\n",
        "# ajout d'un subplot\n",
        "fig.add_subplot(rows, columns, 1)\n",
        "\n",
        "# visualisation de l'image initiale bruitée\n",
        "plt.imshow(noisy_imgs_1[7].cpu().permute(1,2,0))\n",
        "plt.axis('off')\n",
        "plt.title(\"Exemple d'une noisy_imgs_1 du training set\")\n",
        "\n",
        "# ajout d'un subplot\n",
        "fig.add_subplot(rows, columns, 2)\n",
        "    \n",
        "# visualisation de son image initiale filtrée\n",
        "plt.imshow(filtered_imgs_1[7].cpu().permute(1,2,0))\n",
        "plt.axis('off')\n",
        "plt.title(\"Exemple de son image filtrée filtered_imgs_1\")"
      ],
      "metadata": {
        "colab": {
          "base_uri": "https://localhost:8080/",
          "height": 520
        },
        "id": "GuxYNe0QBJF2",
        "outputId": "8eefa9dd-57a7-4637-8a31-5b14ca78161b"
      },
      "execution_count": 48,
      "outputs": [
        {
          "output_type": "execute_result",
          "data": {
            "text/plain": [
              "Text(0.5, 1.0, 'Exemple de son image filtrée filtered_imgs_1')"
            ]
          },
          "metadata": {},
          "execution_count": 48
        },
        {
          "output_type": "display_data",
          "data": {
            "text/plain": [
              "<Figure size 1296x648 with 2 Axes>"
            ],
            "image/png": "[encoded data removed]"
          },
          "metadata": {
            "needs_background": "light"
          }
        }
      ]
    },
    {
      "cell_type": "markdown",
      "source": [
        "#### Val set"
      ],
      "metadata": {
        "id": "SeOTICmDBRnm"
      }
    },
    {
      "cell_type": "markdown",
      "source": [
        "---\n",
        "\n",
        "Exécutez la cellule suivante pour créer un nouveau fichier `pkl` pour le `val set` appliquant le filtre Gaussien sur l'image d'entrée :"
      ],
      "metadata": {
        "id": "EuHprDl7BWEB"
      }
    },
    {
      "cell_type": "code",
      "source": [
        "import numpy as np\n",
        "import cv2\n",
        "import torch\n",
        "\n",
        "# chargement des images de notre val set \n",
        "noisy_imgs, clean_imgs = torch.load('/content/drive/MyDrive/ComputerVision/dataset/val_data.pkl')\n",
        "\n",
        "# conversion les tenseurs en tableaux NumPy\n",
        "noisy_imgs = np.transpose(noisy_imgs.numpy(), (0, 2, 3, 1))\n",
        "\n",
        "# application du filtre Gaussien avec une taille de noyau de 3x3 à chaque image\n",
        "filtered_imgs = np.zeros_like(noisy_imgs)\n",
        "\n",
        "for i in range(len(noisy_imgs)):\n",
        "    img_1 = np.squeeze(noisy_imgs[i])\n",
        "    filtered_imgs[i] = cv2.GaussianBlur(img_1, (3, 3), 0)\n",
        "\n",
        "# conversion des tableaux NumPy en tenseurs PyTorch\n",
        "filtered_imgs = torch.from_numpy(np.transpose(filtered_imgs, (0, 3, 1, 2)))\n",
        "\n",
        "# enregistrement des images d'entrées filtrées dans un nouveau fichier pkl\n",
        "torch.save((filtered_imgs, clean_imgs), '/content/drive/MyDrive/ComputerVision/dataset/val_data_filtered_gaussian.pkl')"
      ],
      "metadata": {
        "id": "EGxVBGaDZPOP"
      },
      "execution_count": 9,
      "outputs": []
    },
    {
      "cell_type": "markdown",
      "source": [
        "**Visualisation de l'image filtrée par rapport à l'image originale**"
      ],
      "metadata": {
        "id": "cz4km10DBrkj"
      }
    },
    {
      "cell_type": "code",
      "source": [
        "import torch\n",
        "import matplotlib.pyplot as plt\n",
        "\n",
        "# chargement des images à partir des fichiers correspondants\n",
        "noisy_imgs, clean_imgs = torch.load('/content/drive/MyDrive/ComputerVision/dataset/val_data.pkl')\n",
        "filtered_imgs, clean_imgs = torch.load('/content/drive/MyDrive/ComputerVision/dataset/val_data_filtered_gaussian.pkl')\n",
        "\n",
        "# création d'une figure\n",
        "fig = plt.figure(figsize=(18, 9))\n",
        "    \n",
        "# définissons les valeurs pour les variables de lignes et de colonnes\n",
        "rows = 1\n",
        "columns = 2\n",
        "\n",
        "# ajout d'un subplot\n",
        "fig.add_subplot(rows, columns, 1)\n",
        "\n",
        "# visualisation de l'image initiale bruitée\n",
        "plt.imshow(noisy_imgs[13].cpu().permute(1,2,0))\n",
        "plt.axis('off')\n",
        "plt.title(\"Exemple d'une noisy_imgs du val set\")\n",
        "\n",
        "# ajout d'un subplot\n",
        "fig.add_subplot(rows, columns, 2)\n",
        "    \n",
        "# visualisation de son image initiale filtrée\n",
        "plt.imshow(filtered_imgs[13].cpu().permute(1,2,0))\n",
        "plt.axis('off')\n",
        "plt.title(\"Exemple de son image filtrée filtered_imgs\")"
      ],
      "metadata": {
        "colab": {
          "base_uri": "https://localhost:8080/",
          "height": 520
        },
        "id": "udYAm6eRBpGg",
        "outputId": "88b18292-6dd5-48a1-f402-d7aea82bef68"
      },
      "execution_count": 49,
      "outputs": [
        {
          "output_type": "execute_result",
          "data": {
            "text/plain": [
              "Text(0.5, 1.0, 'Exemple de son image filtrée filtered_imgs')"
            ]
          },
          "metadata": {},
          "execution_count": 49
        },
        {
          "output_type": "display_data",
          "data": {
            "text/plain": [
              "<Figure size 1296x648 with 2 Axes>"
            ],
            "image/png": "[encoded data removed]"
          },
          "metadata": {
            "needs_background": "light"
          }
        }
      ]
    },
    {
      "cell_type": "markdown",
      "source": [
        "### Filtre Bilatéral"
      ],
      "metadata": {
        "id": "S0kE7wTms8Ut"
      }
    },
    {
      "cell_type": "markdown",
      "source": [
        "Nous appliquons dans un troisième temps le filtre bilatéral qui est une technique de filtrage non linéaire, utilisé pour réduire le bruit tout en préservant les bords et les détails de l'image. \n",
        "\n",
        "Il remplace chaque pixel par la moyenne pondérée des pixels voisins, où les poids sont déterminés à la fois par une fonction Gaussienne spatiale et une fonction Gaussienne de la différence des couleurs."
      ],
      "metadata": {
        "id": "41xRz7u7CK-3"
      }
    },
    {
      "cell_type": "markdown",
      "source": [
        "#### Train set"
      ],
      "metadata": {
        "id": "HpwGbljpB-Fb"
      }
    },
    {
      "cell_type": "markdown",
      "source": [
        "---\n",
        "\n",
        "Exécutez la cellule suivante pour créer un nouveau fichier `pkl` pour le `train set` appliquant le filtre bilatéral sur l'image d'entrée :\n"
      ],
      "metadata": {
        "id": "wUUbfmI0B9hL"
      }
    },
    {
      "cell_type": "code",
      "source": [
        "import numpy as np\n",
        "import cv2\n",
        "import torch\n",
        "\n",
        "# chargement des images de notre train set avec data augmentation\n",
        "noisy_imgs_1, noisy_imgs_2 = torch.load('/content/drive/MyDrive/ComputerVision/dataset/augmented_train_data.pkl')\n",
        "\n",
        "# conversion des tenseurs en tableaux NumPy\n",
        "noisy_imgs_1 = np.transpose(noisy_imgs_1.numpy(), (0, 2, 3, 1))\n",
        "\n",
        "# application du filtre bilatéral avec une taille de noyau de 5x5 à chaque image\n",
        "filtered_imgs_1 = np.zeros_like(noisy_imgs_1)\n",
        "\n",
        "for i in range(len(noisy_imgs_1)):\n",
        "    img_1 = np.squeeze(noisy_imgs_1[i])\n",
        "    filtered_imgs_1[i] = cv2.bilateralFilter(img_1, 5, 75, 75)\n",
        "\n",
        "# conversion des tableaux NumPy en tenseurs PyTorch\n",
        "filtered_imgs_1 = torch.from_numpy(np.transpose(filtered_imgs_1, (0, 3, 1, 2)))\n",
        "\n",
        "# enregistrement des images d'entrées filtrées dans un nouveau fichier pkl\n",
        "torch.save((filtered_imgs_1, noisy_imgs_2), '/content/drive/MyDrive/ComputerVision/dataset/augmented_train_data_filtered_bilateral.pkl')\n"
      ],
      "metadata": {
        "id": "XAYHzpXTs9gG"
      },
      "execution_count": 10,
      "outputs": []
    },
    {
      "cell_type": "markdown",
      "source": [
        "**Visualisation de l'image filtrée par rapport à l'image originale**\n"
      ],
      "metadata": {
        "id": "LoKXBocLCw9f"
      }
    },
    {
      "cell_type": "code",
      "source": [
        "import torch\n",
        "import matplotlib.pyplot as plt\n",
        "\n",
        "# chargement des images à partir des fichiers correspondants\n",
        "noisy_imgs_1, noisy_imgs_2 = torch.load('/content/drive/MyDrive/ComputerVision/dataset/augmented_train_data.pkl')\n",
        "filtered_imgs_1, noisy_imgs_2 = torch.load('/content/drive/MyDrive/ComputerVision/dataset/augmented_train_data_filtered_bilateral.pkl')\n",
        "\n",
        "# création d'une figure\n",
        "fig = plt.figure(figsize=(18, 9))\n",
        "    \n",
        "# définissons les valeurs pour les variables de lignes et de colonnes\n",
        "rows = 1\n",
        "columns = 2\n",
        "\n",
        "# ajout d'un subplot\n",
        "fig.add_subplot(rows, columns, 1)\n",
        "\n",
        "# visualisation de l'image initiale bruitée\n",
        "plt.imshow(noisy_imgs_1[7].cpu().permute(1,2,0))\n",
        "plt.axis('off')\n",
        "plt.title(\"Exemple d'une noisy_imgs_1 du training set\")\n",
        "\n",
        "# ajout d'un subplot\n",
        "fig.add_subplot(rows, columns, 2)\n",
        "    \n",
        "# visualisation de son image initiale filtrée\n",
        "plt.imshow(filtered_imgs_1[7].cpu().permute(1,2,0))\n",
        "plt.axis('off')\n",
        "plt.title(\"Exemple de son image filtrée filtered_imgs_1\")"
      ],
      "metadata": {
        "colab": {
          "base_uri": "https://localhost:8080/",
          "height": 520
        },
        "id": "2CkAtNmEC0gZ",
        "outputId": "f5df2236-1b60-4e48-eadb-6f62c080c551"
      },
      "execution_count": 50,
      "outputs": [
        {
          "output_type": "execute_result",
          "data": {
            "text/plain": [
              "Text(0.5, 1.0, 'Exemple de son image filtrée filtered_imgs_1')"
            ]
          },
          "metadata": {},
          "execution_count": 50
        },
        {
          "output_type": "display_data",
          "data": {
            "text/plain": [
              "<Figure size 1296x648 with 2 Axes>"
            ],
            "image/png": "[encoded data removed]"
          },
          "metadata": {
            "needs_background": "light"
          }
        }
      ]
    },
    {
      "cell_type": "markdown",
      "source": [
        "#### Val set"
      ],
      "metadata": {
        "id": "aEgYWkPAC64X"
      }
    },
    {
      "cell_type": "markdown",
      "source": [
        "---\n",
        "\n",
        "Exécutez la cellule suivante pour créer un nouveau fichier `pkl` pour le `val set` appliquant le filtre médian sur l'image d'entrée :"
      ],
      "metadata": {
        "id": "gBKeHZXJC99W"
      }
    },
    {
      "cell_type": "code",
      "source": [
        "import numpy as np\n",
        "import cv2\n",
        "import torch\n",
        "\n",
        "# chargement des images de notre val set \n",
        "noisy_imgs, clean_imgs = torch.load('/content/drive/MyDrive/ComputerVision/dataset/val_data.pkl')\n",
        "\n",
        "# conversion des tenseurs en tableaux NumPy\n",
        "noisy_imgs = np.transpose(noisy_imgs.numpy(), (0, 2, 3, 1))\n",
        "\n",
        "# application du filtre bilatéral avec une taille de noyau de 5x5 à chaque image\n",
        "filtered_imgs = np.zeros_like(noisy_imgs)\n",
        "\n",
        "for i in range(len(noisy_imgs)):\n",
        "    img_1 = np.squeeze(noisy_imgs[i])\n",
        "    filtered_imgs[i] = cv2.bilateralFilter(img_1, 5, 75, 75)\n",
        "\n",
        "# conversion des tableaux NumPy en tenseurs PyTorch\n",
        "filtered_imgs = torch.from_numpy(np.transpose(filtered_imgs, (0, 3, 1, 2)))\n",
        "\n",
        "# enregistrement des images d'entrées filtrées dans un nouveau fichier pkl\n",
        "torch.save((filtered_imgs, clean_imgs), '/content/drive/MyDrive/ComputerVision/dataset/val_data_filtered_bilateral.pkl')"
      ],
      "metadata": {
        "id": "CC71N6g3aSVN"
      },
      "execution_count": 52,
      "outputs": []
    },
    {
      "cell_type": "markdown",
      "source": [
        "**Visualisation de l'image filtrée par rapport à l'image originale**"
      ],
      "metadata": {
        "id": "Z9X3e7qRDMAd"
      }
    },
    {
      "cell_type": "code",
      "source": [
        "import torch\n",
        "import matplotlib.pyplot as plt\n",
        "\n",
        "# chargement des images à partir des fichiers correspondants\n",
        "noisy_imgs, clean_imgs = torch.load('/content/drive/MyDrive/ComputerVision/dataset/val_data.pkl')\n",
        "filtered_imgs, clean_imgs = torch.load('/content/drive/MyDrive/ComputerVision/dataset/val_data_filtered_bilateral.pkl')\n",
        "\n",
        "# création d'une figure\n",
        "fig = plt.figure(figsize=(18, 9))\n",
        "    \n",
        "# définissons les valeurs pour les variables de lignes et de colonnes\n",
        "rows = 1\n",
        "columns = 2\n",
        "\n",
        "# ajout d'un subplot\n",
        "fig.add_subplot(rows, columns, 1)\n",
        "\n",
        "# visualisation de l'image initiale bruitée\n",
        "plt.imshow(noisy_imgs[13].cpu().permute(1,2,0))\n",
        "plt.axis('off')\n",
        "plt.title(\"Exemple d'une noisy_imgs du val set\")\n",
        "\n",
        "# ajout d'un subplot\n",
        "fig.add_subplot(rows, columns, 2)\n",
        "    \n",
        "# visualisation de son image initiale filtrée\n",
        "plt.imshow(filtered_imgs[13].cpu().permute(1,2,0))\n",
        "plt.axis('off')\n",
        "plt.title(\"Exemple de son image filtrée filtered_imgs\")"
      ],
      "metadata": {
        "colab": {
          "base_uri": "https://localhost:8080/",
          "height": 520
        },
        "id": "DADKpnFqDMd4",
        "outputId": "970446c8-bc36-412b-ecaf-a69da83e0543"
      },
      "execution_count": 53,
      "outputs": [
        {
          "output_type": "execute_result",
          "data": {
            "text/plain": [
              "Text(0.5, 1.0, 'Exemple de son image filtrée filtered_imgs')"
            ]
          },
          "metadata": {},
          "execution_count": 53
        },
        {
          "output_type": "display_data",
          "data": {
            "text/plain": [
              "<Figure size 1296x648 with 2 Axes>"
            ],
            "image/png": "[encoded data removed]"
          },
          "metadata": {
            "needs_background": "light"
          }
        }
      ]
    },
    {
      "cell_type": "markdown",
      "source": [
        "### Conclusion"
      ],
      "metadata": {
        "id": "4FTQv9QgFHnn"
      }
    },
    {
      "cell_type": "markdown",
      "source": [
        "Nous remarquons que l'application de ces trois filtres n'améliorent pas après entraînement de notre réseau notre PSNR moyen final. \n",
        "\n",
        "En effet, ces trois filtres débruitent les images et nous perdons ainsi en détail. Le filtre ayant déjà effectué un débruitage sur nos images, notre réseau considère qu'il n'a plus rien à traiter.\n",
        "\n",
        "Nous allons étudier d'autres méthodes de filtrage pour améliorer la qualité des images à basse résolution. En effet, nos images sont à très basse résolution, ce qui permet d'accéler nos entraînements mais cela empêche l'application de nombreux filtres."
      ],
      "metadata": {
        "id": "b6i4Cv_qFKTT"
      }
    },
    {
      "cell_type": "markdown",
      "source": [
        "## Filtres Unsharp masking et Unsharp masking & Médian "
      ],
      "metadata": {
        "id": "xNiyGlNLG_2L"
      }
    },
    {
      "cell_type": "markdown",
      "source": [
        "### Filtre Unsharp masking"
      ],
      "metadata": {
        "id": "XPu4MYGxjyti"
      }
    },
    {
      "cell_type": "markdown",
      "source": [
        "Nous appliquons dans un quatrième temps le filtre unsharp masking qui est une technique de filtrage, utilisé pour améliorer la netteté des images en renforcant les bords et les détails dans l'image tout en supprimant les bruits de faible amplitude."
      ],
      "metadata": {
        "id": "-lNBE8ohFvl8"
      }
    },
    {
      "cell_type": "markdown",
      "source": [
        "#### Train set"
      ],
      "metadata": {
        "id": "v1jDe1KlFqyx"
      }
    },
    {
      "cell_type": "markdown",
      "source": [
        "---\n",
        "\n",
        "Exécutez la cellule suivante pour créer un nouveau fichier `pkl` pour le `train set` appliquant le filtre unsharp masking sur l'image d'entrée :\n"
      ],
      "metadata": {
        "id": "bKSLuscGF6gq"
      }
    },
    {
      "cell_type": "code",
      "source": [
        "import numpy as np\n",
        "import cv2\n",
        "import torch\n",
        "\n",
        "# chargement des images de notre train set avec data augmentation\n",
        "noisy_imgs_1, noisy_imgs_2 = torch.load('/content/drive/MyDrive/ComputerVision/dataset/augmented_train_data.pkl')\n",
        "\n",
        "# conversion des tenseurs en tableaux NumPy\n",
        "noisy_imgs_1 = np.transpose(noisy_imgs_1.numpy(), (0, 2, 3, 1))\n",
        "\n",
        "# application du filtre unsharp_masking avec un noyau gaussien de taille 5x5 et un facteur d'échelle de 1.5 à chaque image\n",
        "filtered_imgs_1 = np.zeros_like(noisy_imgs_1)\n",
        "\n",
        "for i in range(len(noisy_imgs_1)):\n",
        "    img_1 = np.squeeze(noisy_imgs_1[i])\n",
        "    blurred_img_1 = cv2.GaussianBlur(img_1, (5, 5), 0)\n",
        "    filtered_imgs_1[i] = cv2.addWeighted(img_1, 1.5, blurred_img_1, -0.5, 0)\n",
        "\n",
        "# conversion des tableaux NumPy en tenseurs PyTorch\n",
        "filtered_imgs_1 = torch.from_numpy(np.transpose(filtered_imgs_1, (0, 3, 1, 2)))\n",
        "\n",
        "# enregistrement des images filtrées dans un nouveau fichier pkl\n",
        "torch.save((filtered_imgs_1, noisy_imgs_2), '/content/drive/MyDrive/ComputerVision/dataset/augmented_train_data_filtered_unsharp_masking.pkl')\n"
      ],
      "metadata": {
        "id": "-brM2iZXj1Y5"
      },
      "execution_count": 27,
      "outputs": []
    },
    {
      "cell_type": "markdown",
      "source": [
        "**Visualisation de l'image filtrée par rapport à l'image originale**\n"
      ],
      "metadata": {
        "id": "hy__i4f-Ejjn"
      }
    },
    {
      "cell_type": "code",
      "source": [
        "import torch\n",
        "import matplotlib.pyplot as plt\n",
        "\n",
        "# chargement des images à partir des fichiers correspondants\n",
        "noisy_imgs_1, noisy_imgs_2 = torch.load('/content/drive/MyDrive/ComputerVision/dataset/augmented_train_data.pkl')\n",
        "filtered_imgs_1, noisy_imgs_2 = torch.load('/content/drive/MyDrive/ComputerVision/dataset/augmented_train_data_filtered_unsharp_masking.pkl')\n",
        "\n",
        "# création d'une figure\n",
        "fig = plt.figure(figsize=(18, 9))\n",
        "    \n",
        "# définissons les valeurs pour les variables de lignes et de colonnes\n",
        "rows = 1\n",
        "columns = 2\n",
        "\n",
        "# ajout d'un subplot\n",
        "fig.add_subplot(rows, columns, 1)\n",
        "\n",
        "# visualisation de l'image initiale bruitée\n",
        "plt.imshow(noisy_imgs_1[7].cpu().permute(1,2,0))\n",
        "plt.axis('off')\n",
        "plt.title(\"Exemple d'une noisy_imgs_1 du training set\")\n",
        "\n",
        "# ajout d'un subplot\n",
        "fig.add_subplot(rows, columns, 2)\n",
        "    \n",
        "# visualisation de son image initiale filtrée\n",
        "plt.imshow(filtered_imgs_1[7].cpu().permute(1,2,0))\n",
        "plt.axis('off')\n",
        "plt.title(\"Exemple de son image filtrée filtered_imgs_1\")"
      ],
      "metadata": {
        "colab": {
          "base_uri": "https://localhost:8080/",
          "height": 538
        },
        "id": "nJlzqBJ_ER2h",
        "outputId": "c2a831d5-403b-4d31-f984-d9032da32f11"
      },
      "execution_count": 54,
      "outputs": [
        {
          "output_type": "stream",
          "name": "stderr",
          "text": [
            "WARNING:matplotlib.image:Clipping input data to the valid range for imshow with RGB data ([0..1] for floats or [0..255] for integers).\n"
          ]
        },
        {
          "output_type": "execute_result",
          "data": {
            "text/plain": [
              "Text(0.5, 1.0, 'Exemple de son image filtrée filtered_imgs_1')"
            ]
          },
          "metadata": {},
          "execution_count": 54
        },
        {
          "output_type": "display_data",
          "data": {
            "text/plain": [
              "<Figure size 1296x648 with 2 Axes>"
            ],
            "image/png": "[encoded data removed]"
          },
          "metadata": {
            "needs_background": "light"
          }
        }
      ]
    },
    {
      "cell_type": "markdown",
      "source": [
        "#### Val set"
      ],
      "metadata": {
        "id": "UfWWkJqxHkRY"
      }
    },
    {
      "cell_type": "markdown",
      "source": [
        "---\n",
        "\n",
        "Exécutez la cellule suivante pour créer un nouveau fichier `pkl` pour le `val set` appliquant le filtre unsharp masking sur l'image d'entrée :"
      ],
      "metadata": {
        "id": "nr5xjg3JHjPd"
      }
    },
    {
      "cell_type": "code",
      "source": [
        "import numpy as np\n",
        "import cv2\n",
        "import torch\n",
        "import matplotlib.pyplot as plt\n",
        "\n",
        "# chargement des images de notre val set \n",
        "noisy_imgs, clean_imgs = torch.load('/content/drive/MyDrive/ComputerVision/dataset/val_data.pkl')\n",
        "\n",
        "# conversion des tenseurs en tableaux NumPy\n",
        "noisy_imgs = np.transpose(noisy_imgs.numpy(), (0, 2, 3, 1))\n",
        "\n",
        "# application du filtre unsharp masking avec un noyau gaussien de taille 5x5 et un facteur d'échelle de 1.5 à chaque image bruitée\n",
        "filtered_imgs = np.zeros_like(noisy_imgs)\n",
        "\n",
        "for i in range(len(noisy_imgs)):\n",
        "    img = np.squeeze(noisy_imgs[i])\n",
        "    blurred_img = cv2.GaussianBlur(img, (5, 5), 0)\n",
        "    filtered_imgs[i] = cv2.addWeighted(img, 1.5, blurred_img, -0.5, 0)\n",
        "\n",
        "# conversion les tableaux NumPy en tenseurs PyTorch\n",
        "filtered_imgs = torch.from_numpy(np.transpose(filtered_imgs, (0, 3, 1, 2)))\n",
        "\n",
        "# enregistrement des images filtrées dans un nouveau fichier pkl\n",
        "torch.save((filtered_imgs, clean_imgs), '/content/drive/MyDrive/ComputerVision/dataset/val_data_filtered_unsharp_masking.pkl')"
      ],
      "metadata": {
        "id": "-g5CzkFXXaot"
      },
      "execution_count": 30,
      "outputs": []
    },
    {
      "cell_type": "markdown",
      "source": [
        "**Visualisation de l'image filtrée par rapport à l'image originale**"
      ],
      "metadata": {
        "id": "S80g2B3_HwFJ"
      }
    },
    {
      "cell_type": "code",
      "source": [
        "import torch\n",
        "import matplotlib.pyplot as plt\n",
        "\n",
        "# chargement des images à partir des fichiers correspondants\n",
        "noisy_imgs, clean_imgs = torch.load('/content/drive/MyDrive/ComputerVision/dataset/val_data.pkl')\n",
        "filtered_imgs, clean_imgs = torch.load('/content/drive/MyDrive/ComputerVision/dataset/val_data_filtered_unsharp_masking.pkl')\n",
        "\n",
        "# création d'une figure\n",
        "fig = plt.figure(figsize=(18, 9))\n",
        "    \n",
        "# définissons les valeurs pour les variables de lignes et de colonnes\n",
        "rows = 1\n",
        "columns = 2\n",
        "\n",
        "# ajout d'un subplot\n",
        "fig.add_subplot(rows, columns, 1)\n",
        "\n",
        "# visualisation de l'image initiale bruitée\n",
        "plt.imshow(noisy_imgs[13].cpu().permute(1,2,0))\n",
        "plt.axis('off')\n",
        "plt.title(\"Exemple d'une noisy_imgs du val set\")\n",
        "\n",
        "# ajout d'un subplot\n",
        "fig.add_subplot(rows, columns, 2)\n",
        "    \n",
        "# visualisation de son image initiale filtrée\n",
        "plt.imshow(filtered_imgs[13].cpu().permute(1,2,0))\n",
        "plt.axis('off')\n",
        "plt.title(\"Exemple de son image filtrée filtered_imgs\")"
      ],
      "metadata": {
        "colab": {
          "base_uri": "https://localhost:8080/",
          "height": 520
        },
        "id": "26VGQ0_dHxmk",
        "outputId": "0475aad7-01f2-46de-aafc-cb71e93c2b6f"
      },
      "execution_count": 59,
      "outputs": [
        {
          "output_type": "execute_result",
          "data": {
            "text/plain": [
              "Text(0.5, 1.0, 'Exemple de son image filtrée filtered_imgs')"
            ]
          },
          "metadata": {},
          "execution_count": 59
        },
        {
          "output_type": "display_data",
          "data": {
            "text/plain": [
              "<Figure size 1296x648 with 2 Axes>"
            ],
            "image/png": "[encoded data removed]"
          },
          "metadata": {
            "needs_background": "light"
          }
        }
      ]
    },
    {
      "cell_type": "markdown",
      "source": [
        "### Filtre Unsharp masking & médian"
      ],
      "metadata": {
        "id": "U5pnpaYte9bC"
      }
    },
    {
      "cell_type": "markdown",
      "source": [
        "Nous appliquons dans un cinquième temps le filtre unsharp masking & médian qui combine le filtre unsharp masking et le filtre médian, vus auparavant. \n",
        "\n",
        "En combinant ces deux filtres, on peut obtenir une image qui est à la fois plus nette et moins bruyante, avec des bords et des contours mieux définis. Le filtre unsharp masking est appliqué en premier pour augmenter la netteté de l'image, puis le filtre median est appliqué en second pour éliminer les impulsions de bruit."
      ],
      "metadata": {
        "id": "MVN-78w0L2n1"
      }
    },
    {
      "cell_type": "markdown",
      "source": [
        "#### Train set"
      ],
      "metadata": {
        "id": "ydnm17z6MUUo"
      }
    },
    {
      "cell_type": "markdown",
      "source": [
        "---\n",
        "\n",
        "Exécutez la cellule suivante pour créer un nouveau fichier `pkl` pour le `train set` appliquant le filtre unsharp masking & médian sur l'image d'entrée :"
      ],
      "metadata": {
        "id": "hew4k6-0MXNj"
      }
    },
    {
      "cell_type": "code",
      "source": [
        "import numpy as np\n",
        "import cv2\n",
        "import torch\n",
        "\n",
        "# chargement des images de notre train set avec data augmentation\n",
        "noisy_imgs_1, noisy_imgs_2 = torch.load('/content/drive/MyDrive/ComputerVision/dataset/augmented_train_data.pkl')\n",
        "\n",
        "# conversion des tenseurs en tableaux NumPy\n",
        "noisy_imgs_1 = np.transpose(noisy_imgs_1.numpy(), (0, 2, 3, 1))\n",
        "noisy_imgs_2 = np.transpose(noisy_imgs_2.numpy(), (0, 2, 3, 1))\n",
        "\n",
        "# application du filtre unsharp masking avec un noyau gaussien de taille 5x5 et un facteur d'échelle de 1.5 à chaque image, puis du filtre médian avec une taille de noyau de 3x3 à chaque image\n",
        "filtered_imgs_1 = np.zeros_like(noisy_imgs_1)\n",
        "filtered_imgs_2 = np.zeros_like(noisy_imgs_2)\n",
        "\n",
        "for i in range(len(noisy_imgs_1)):\n",
        "    img_1 = np.squeeze(noisy_imgs_1[i])\n",
        "    img_2 = np.squeeze(noisy_imgs_2[i])\n",
        "    blurred_img_1 = cv2.GaussianBlur(img_1, (5, 5), 0)\n",
        "    blurred_img_2 = cv2.GaussianBlur(img_2, (5, 5), 0)\n",
        "    filtered_img_1 = cv2.addWeighted(img_1, 1.5, blurred_img_1, -0.5, 0)\n",
        "    filtered_img_2 = cv2.addWeighted(img_2, 1.5, blurred_img_2, -0.5, 0)\n",
        "    filtered_imgs_1[i] = cv2.medianBlur(filtered_img_1, 3)\n",
        "    filtered_imgs_2[i] = cv2.medianBlur(filtered_img_2, 3)\n",
        "\n",
        "# conversion des tableaux NumPy en tenseurs PyTorch\n",
        "filtered_imgs_1 = torch.from_numpy(np.transpose(filtered_imgs_1, (0, 3, 1, 2)))\n",
        "filtered_imgs_2 = torch.from_numpy(np.transpose(filtered_imgs_2, (0, 3, 1, 2)))\n",
        "\n",
        "# enregistrement des images filtrées dans un nouveau fichier pkl\n",
        "torch.save((filtered_imgs_1, filtered_imgs_2), '/content/drive/MyDrive/ComputerVision/dataset/augmented_train_data_filtered_unsharp_masking_median_blur.pkl')\n"
      ],
      "metadata": {
        "id": "I9rieEXLe8oc"
      },
      "execution_count": null,
      "outputs": []
    },
    {
      "cell_type": "markdown",
      "source": [
        "**Visualisation de l'image filtrée par rapport à l'image originale**"
      ],
      "metadata": {
        "id": "mTyIALzGMaK_"
      }
    },
    {
      "cell_type": "code",
      "source": [
        "import torch\n",
        "import matplotlib.pyplot as plt\n",
        "\n",
        "# chargement des images à partir des fichiers correspondants\n",
        "noisy_imgs_1, noisy_imgs_2 = torch.load('/content/drive/MyDrive/ComputerVision/dataset/augmented_train_data.pkl')\n",
        "filtered_imgs_1, noisy_imgs_2 = torch.load('/content/drive/MyDrive/ComputerVision/dataset/augmented_train_data_filtered_unsharp_masking_median_blur.pkl')\n",
        "\n",
        "# création d'une figure\n",
        "fig = plt.figure(figsize=(18, 9))\n",
        "    \n",
        "# définissons les valeurs pour les variables de lignes et de colonnes\n",
        "rows = 1\n",
        "columns = 2\n",
        "\n",
        "# ajout d'un subplot\n",
        "fig.add_subplot(rows, columns, 1)\n",
        "\n",
        "# visualisation de l'image initiale bruitée\n",
        "plt.imshow(noisy_imgs_1[7].cpu().permute(1,2,0))\n",
        "plt.axis('off')\n",
        "plt.title(\"Exemple d'une noisy_imgs_1 du training set\")\n",
        "\n",
        "# ajout d'un subplot\n",
        "fig.add_subplot(rows, columns, 2)\n",
        "    \n",
        "# visualisation de son image initiale filtrée\n",
        "plt.imshow(filtered_imgs_1[7].cpu().permute(1,2,0))\n",
        "plt.axis('off')\n",
        "plt.title(\"Exemple de son image filtrée filtered_imgs_1\")"
      ],
      "metadata": {
        "colab": {
          "base_uri": "https://localhost:8080/",
          "height": 538
        },
        "id": "-8ep6tQ6LLdL",
        "outputId": "eb5c9921-6848-49e6-e32c-409d74a71c97"
      },
      "execution_count": 72,
      "outputs": [
        {
          "output_type": "stream",
          "name": "stderr",
          "text": [
            "WARNING:matplotlib.image:Clipping input data to the valid range for imshow with RGB data ([0..1] for floats or [0..255] for integers).\n"
          ]
        },
        {
          "output_type": "execute_result",
          "data": {
            "text/plain": [
              "Text(0.5, 1.0, 'Exemple de son image filtrée filtered_imgs_1')"
            ]
          },
          "metadata": {},
          "execution_count": 72
        },
        {
          "output_type": "display_data",
          "data": {
            "text/plain": [
              "<Figure size 1296x648 with 2 Axes>"
            ],
            "image/png": "[encoded data removed]"
          },
          "metadata": {
            "needs_background": "light"
          }
        }
      ]
    },
    {
      "cell_type": "markdown",
      "source": [
        "#### Val set"
      ],
      "metadata": {
        "id": "x35QtXAsM50s"
      }
    },
    {
      "cell_type": "markdown",
      "source": [
        "---\n",
        "\n",
        "Exécutez la cellule suivante pour créer un nouveau fichier `pkl` pour le `val set` appliquant le filtre unsharp masking & médian sur l'image d'entrée :"
      ],
      "metadata": {
        "id": "_3Hi8Cx7M7C3"
      }
    },
    {
      "cell_type": "code",
      "source": [
        "import numpy as np\n",
        "import cv2\n",
        "import torch\n",
        "import matplotlib.pyplot as plt\n",
        "\n",
        "# chargement des images de notre val set \n",
        "noisy_imgs, clean_imgs = torch.load('/content/drive/MyDrive/ComputerVision/dataset/val_data.pkl')\n",
        "\n",
        "# conversion des tenseurs en tableaux NumPy\n",
        "noisy_imgs = np.transpose(noisy_imgs.numpy(), (0, 2, 3, 1))\n",
        "\n",
        "# application du filtre unsharp masking avec un noyau gaussien de taille 5x5 et un facteur d'échelle de 1.5 à chaque image bruitée, puis du filtre médian avec une taille de noyau de 3x3 à chaque image\n",
        "filtered_noisy = np.zeros_like(noisy_imgs)\n",
        "\n",
        "for i in range(len(noisy_imgs)):\n",
        "    img = np.squeeze(noisy_imgs[i])\n",
        "    if len(img.shape) == 2:\n",
        "        img = np.expand_dims(img, -1)\n",
        "    blurred_img = cv2.GaussianBlur(img, (5, 5), 0)\n",
        "    filtered_img = cv2.addWeighted(img, 1.5, blurred_img, -0.5, 0)\n",
        "    filtered_noisy[i] = cv2.medianBlur(filtered_img, 3)\n",
        "\n",
        "# conversion les tableaux NumPy en tenseurs PyTorch\n",
        "filtered_noisy = torch.from_numpy(np.transpose(filtered_noisy, (0, 3, 1, 2)))\n",
        "\n",
        "# enregistrement des images filtrées dans un nouveau fichier pkl\n",
        "torch.save((filtered_noisy, clean_imgs), '/content/drive/MyDrive/ComputerVision/dataset/val_data_filtered_unsharp_masking_median_blur.pkl')"
      ],
      "metadata": {
        "id": "m24dzBWHfjvm"
      },
      "execution_count": 113,
      "outputs": []
    },
    {
      "cell_type": "markdown",
      "source": [
        "**Visualisation de l'image filtrée par rapport à l'image originale**"
      ],
      "metadata": {
        "id": "cIe4KBoiNPdq"
      }
    },
    {
      "cell_type": "code",
      "source": [
        "import torch\n",
        "import matplotlib.pyplot as plt\n",
        "\n",
        "# chargement des images à partir des fichiers correspondants\n",
        "noisy_imgs, clean_imgs = torch.load('/content/drive/MyDrive/ComputerVision/dataset/val_data.pkl')\n",
        "filtered_imgs, clean_imgs = torch.load('/content/drive/MyDrive/ComputerVision/dataset/val_data_filtered_unsharp_masking_median_blur.pkl')\n",
        "\n",
        "# création d'une figure\n",
        "fig = plt.figure(figsize=(18, 9))\n",
        "    \n",
        "# définissons les valeurs pour les variables de lignes et de colonnes\n",
        "rows = 1\n",
        "columns = 2\n",
        "\n",
        "# ajout d'un subplot\n",
        "fig.add_subplot(rows, columns, 1)\n",
        "\n",
        "# visualisation de l'image initiale bruitée\n",
        "plt.imshow(noisy_imgs[13].cpu().permute(1,2,0))\n",
        "plt.axis('off')\n",
        "plt.title(\"Exemple d'une noisy_imgs du val set\")\n",
        "\n",
        "# ajout d'un subplot\n",
        "fig.add_subplot(rows, columns, 2)\n",
        "    \n",
        "# visualisation de son image initiale filtrée\n",
        "plt.imshow(filtered_imgs[13].cpu().permute(1,2,0))\n",
        "plt.axis('off')\n",
        "plt.title(\"Exemple de son image filtrée filtered_imgs\")"
      ],
      "metadata": {
        "colab": {
          "base_uri": "https://localhost:8080/",
          "height": 520
        },
        "id": "alpyC0BfNZKj",
        "outputId": "31978130-457e-4707-f5a4-b7d59a99c353"
      },
      "execution_count": 114,
      "outputs": [
        {
          "output_type": "execute_result",
          "data": {
            "text/plain": [
              "Text(0.5, 1.0, 'Exemple de son image filtrée filtered_imgs')"
            ]
          },
          "metadata": {},
          "execution_count": 114
        },
        {
          "output_type": "display_data",
          "data": {
            "text/plain": [
              "<Figure size 1296x648 with 2 Axes>"
            ],
            "image/png": "[encoded data removed]"
          },
          "metadata": {
            "needs_background": "light"
          }
        }
      ]
    },
    {
      "cell_type": "markdown",
      "source": [
        "### Conclusion"
      ],
      "metadata": {
        "id": "y_b-jp_sOC4S"
      }
    },
    {
      "cell_type": "markdown",
      "source": [
        "L'application de ces deux filtres permettent d'améliorer la qualité de nos images mais n'améliorent toujours pas notre PSNR moyen final. Nous perdons trop en détail.\n",
        "\n",
        "Nous allons appliquer le filtre de Nagao, qui est souvent utilisé pour améliorer la netteté des images à faible résolution comme des images médicales, satellites et de microscope. Ce filtre se rapproche ainsi plus de notre dataset.\n",
        "\n",
        "\n"
      ],
      "metadata": {
        "id": "xaMa-4uZOGxK"
      }
    },
    {
      "cell_type": "markdown",
      "source": [
        "## Filtre de Nagao\n"
      ],
      "metadata": {
        "id": "Tl6XdwZubfpw"
      }
    },
    {
      "cell_type": "markdown",
      "source": [
        "Nous appliquons dans un sixième temps le filtre de Nagao, qui est une méthode de filtrage non linéaire, utilisé pour améliorer la qualité des images à faible résolution en réduisant le bruit. \n",
        "\n",
        "Il utilise des patchs de pixels pour calculer des coefficients de corrélation qui sont utilisés pour filtrer les pixels voisins.\n"
      ],
      "metadata": {
        "id": "TgW9c5qgO9C7"
      }
    },
    {
      "cell_type": "markdown",
      "source": [
        "#### Train set"
      ],
      "metadata": {
        "id": "4QYXhDIRPk1e"
      }
    },
    {
      "cell_type": "markdown",
      "source": [
        "---\n",
        "\n",
        "Exécutez la cellule suivante pour créer un nouveau fichier `pkl` pour le `train set` appliquant le filtre de Nagao sur l'image d'entrée :"
      ],
      "metadata": {
        "id": "_V5C4eTTPiga"
      }
    },
    {
      "cell_type": "code",
      "source": [
        "import numpy as np\n",
        "import cv2\n",
        "import torch\n",
        "\n",
        "# chargement des images de notre train set avec data augmentation\n",
        "noisy_imgs_1, noisy_imgs_2 = torch.load('/content/drive/MyDrive/ComputerVision/dataset/augmented_train_data.pkl')\n",
        "\n",
        "# conversion des tenseurs en tableaux NumPy\n",
        "noisy_imgs_1 = np.transpose(noisy_imgs_1.numpy(), (0, 2, 3, 1))\n",
        "\n",
        "# application du filtre de Nagao avec une taille de fenêtre de 7x7 à chaque image\n",
        "filtered_imgs_1 = np.zeros_like(noisy_imgs_1)\n",
        "\n",
        "for i in range(len(noisy_imgs_1)):\n",
        "    img_1 = np.squeeze(noisy_imgs_1[i])\n",
        "    kernel = np.array([[0, 0, 0, 1, 1, 1, 0, 0, 0],\n",
        "                       [0, 0, 1, 1, 1, 1, 1, 0, 0],\n",
        "                       [0, 1, 1, 1, 1, 1, 1, 1, 0],\n",
        "                       [1, 1, 1, 1, 1, 1, 1, 1, 1],\n",
        "                       [1, 1, 1, 1, 1, 1, 1, 1, 1],\n",
        "                       [1, 1, 1, 1, 1, 1, 1, 1, 1],\n",
        "                       [0, 1, 1, 1, 1, 1, 1, 1, 0],\n",
        "                       [0, 0, 1, 1, 1, 1, 1, 0, 0],\n",
        "                       [0, 0, 0, 1, 1, 1, 0, 0, 0]])\n",
        "    kernel = kernel / np.sum(kernel)\n",
        "    filtered_imgs_1[i] = cv2.filter2D(img_1, -1, kernel)\n",
        "\n",
        "# conversion des tableaux NumPy en tenseurs PyTorch\n",
        "filtered_imgs_1 = torch.from_numpy(np.transpose(filtered_imgs_1, (0, 3, 1, 2)))\n",
        "\n",
        "# enregistrement des images filtrées dans un nouveau fichier pkl\n",
        "torch.save((filtered_imgs_1, noisy_imgs_2), '/content/drive/MyDrive/ComputerVision/dataset/augmented_train_data_filtered_nagao.pkl')\n"
      ],
      "metadata": {
        "id": "0Wfc7gWMgPSs"
      },
      "execution_count": 76,
      "outputs": []
    },
    {
      "cell_type": "markdown",
      "source": [
        "**Visualisation de l'image filtrée par rapport à l'image originale**"
      ],
      "metadata": {
        "id": "_C27-RXlPo48"
      }
    },
    {
      "cell_type": "code",
      "source": [
        "import torch\n",
        "import matplotlib.pyplot as plt\n",
        "\n",
        "# chargement des images à partir des fichiers correspondants\n",
        "noisy_imgs_1, noisy_imgs_2 = torch.load('/content/drive/MyDrive/ComputerVision/dataset/augmented_train_data.pkl')\n",
        "filtered_imgs_1, noisy_imgs_2 = torch.load('/content/drive/MyDrive/ComputerVision/dataset/augmented_train_data_filtered_nagao.pkl')\n",
        "\n",
        "# création d'une figure\n",
        "fig = plt.figure(figsize=(18, 9))\n",
        "    \n",
        "# définissons les valeurs pour les variables de lignes et de colonnes\n",
        "rows = 1\n",
        "columns = 2\n",
        "\n",
        "# ajout d'un subplot\n",
        "fig.add_subplot(rows, columns, 1)\n",
        "\n",
        "# visualisation de l'image initiale bruitée\n",
        "plt.imshow(noisy_imgs_1[7].cpu().permute(1,2,0))\n",
        "plt.axis('off')\n",
        "plt.title(\"Exemple d'une noisy_imgs_1 du training set\")\n",
        "\n",
        "# ajout d'un subplot\n",
        "fig.add_subplot(rows, columns, 2)\n",
        "    \n",
        "# visualisation de son image initiale filtrée\n",
        "plt.imshow(filtered_imgs_1[7].cpu().permute(1,2,0))\n",
        "plt.axis('off')\n",
        "plt.title(\"Exemple de son image filtrée filtered_imgs_1\")"
      ],
      "metadata": {
        "colab": {
          "base_uri": "https://localhost:8080/",
          "height": 520
        },
        "id": "5C1aUBHUPq5l",
        "outputId": "c96249b2-d52a-4d99-d8d8-68b5e14df0b2"
      },
      "execution_count": 78,
      "outputs": [
        {
          "output_type": "execute_result",
          "data": {
            "text/plain": [
              "Text(0.5, 1.0, 'Exemple de son image filtrée filtered_imgs_1')"
            ]
          },
          "metadata": {},
          "execution_count": 78
        },
        {
          "output_type": "display_data",
          "data": {
            "text/plain": [
              "<Figure size 1296x648 with 2 Axes>"
            ],
            "image/png": "[encoded data removed]"
          },
          "metadata": {
            "needs_background": "light"
          }
        }
      ]
    },
    {
      "cell_type": "markdown",
      "source": [
        "#### Val set"
      ],
      "metadata": {
        "id": "ONWnMOPDPl9g"
      }
    },
    {
      "cell_type": "markdown",
      "source": [
        "---\n",
        "\n",
        "Exécutez la cellule suivante pour créer un nouveau fichier `pkl` pour le `val set` appliquant le filtre de Nagao sur l'image d'entrée :"
      ],
      "metadata": {
        "id": "5iUgybAXP2T9"
      }
    },
    {
      "cell_type": "code",
      "source": [
        "import numpy as np\n",
        "import cv2\n",
        "import torch\n",
        "\n",
        "# chargement des images du val set\n",
        "noisy_imgs, clean_imgs = torch.load('/content/drive/MyDrive/ComputerVision/dataset/val_data.pkl')\n",
        "noisy_imgs = np.transpose(noisy_imgs.numpy(), (0, 2, 3, 1))\n",
        "\n",
        "# application du filtre de Nagao avec une taille de fenêtre de 7x7 à chaque image bruyante\n",
        "filtered_imgs = np.zeros_like(noisy_imgs)\n",
        "\n",
        "for i in range(len(noisy_imgs)):\n",
        "    img = np.squeeze(noisy_imgs[i])\n",
        "    kernel = np.array([[0, 0, 0, 1, 1, 1, 0, 0, 0],\n",
        "                       [0, 0, 1, 1, 1, 1, 1, 0, 0],\n",
        "                       [0, 1, 1, 1, 1, 1, 1, 1, 0],\n",
        "                       [1, 1, 1, 1, 1, 1, 1, 1, 1],\n",
        "                       [1, 1, 1, 1, 1, 1, 1, 1, 1],\n",
        "                       [1, 1, 1, 1, 1, 1, 1, 1, 1],\n",
        "                       [0, 1, 1, 1, 1, 1, 1, 1, 0],\n",
        "                       [0, 0, 1, 1, 1, 1, 1, 0, 0],\n",
        "                       [0, 0, 0, 1, 1, 1, 0, 0, 0]])\n",
        "    kernel = kernel / np.sum(kernel)\n",
        "    filtered_imgs[i] = cv2.filter2D(img, -1, kernel)\n",
        "\n",
        "# conversion des tableaux NumPy en tenseurs PyTorch\n",
        "filtered_imgs = torch.from_numpy(np.transpose(filtered_imgs, (0, 3, 1, 2)))\n",
        "\n",
        "# enregistrement des images filtrées dans un nouveau fichier pkl\n",
        "torch.save((filtered_imgs, clean_imgs), '/content/drive/MyDrive/ComputerVision/dataset/val_data_filtered_nagao.pkl')"
      ],
      "metadata": {
        "id": "cUa4OaHtmvmY"
      },
      "execution_count": null,
      "outputs": []
    },
    {
      "cell_type": "markdown",
      "source": [
        "**Visualisation de l'image filtrée par rapport à l'image originale**"
      ],
      "metadata": {
        "id": "vclhHW5bPyjb"
      }
    },
    {
      "cell_type": "code",
      "source": [
        "import torch\n",
        "import matplotlib.pyplot as plt\n",
        "\n",
        "# chargement des images à partir des fichiers correspondants\n",
        "noisy_imgs, clean_imgs = torch.load('/content/drive/MyDrive/ComputerVision/dataset/val_data.pkl')\n",
        "filtered_imgs, clean_imgs = torch.load('/content/drive/MyDrive/ComputerVision/dataset/val_data_filtered_nagao.pkl')\n",
        "\n",
        "# création d'une figure\n",
        "fig = plt.figure(figsize=(18, 9))\n",
        "    \n",
        "# définissons les valeurs pour les variables de lignes et de colonnes\n",
        "rows = 1\n",
        "columns = 2\n",
        "\n",
        "# ajout d'un subplot\n",
        "fig.add_subplot(rows, columns, 1)\n",
        "\n",
        "# visualisation de l'image initiale bruitée\n",
        "plt.imshow(noisy_imgs[13].cpu().permute(1,2,0))\n",
        "plt.axis('off')\n",
        "plt.title(\"Exemple d'une noisy_imgs du val set\")\n",
        "\n",
        "# ajout d'un subplot\n",
        "fig.add_subplot(rows, columns, 2)\n",
        "    \n",
        "# visualisation de son image initiale filtrée\n",
        "plt.imshow(filtered_imgs[13].cpu().permute(1,2,0))\n",
        "plt.axis('off')\n",
        "plt.title(\"Exemple de son image filtrée filtered_imgs\")"
      ],
      "metadata": {
        "colab": {
          "base_uri": "https://localhost:8080/",
          "height": 520
        },
        "id": "0k2JG1P5Py4h",
        "outputId": "b4803f16-02a5-4623-8c24-e9882afe4b60"
      },
      "execution_count": 79,
      "outputs": [
        {
          "output_type": "execute_result",
          "data": {
            "text/plain": [
              "Text(0.5, 1.0, 'Exemple de son image filtrée filtered_imgs')"
            ]
          },
          "metadata": {},
          "execution_count": 79
        },
        {
          "output_type": "display_data",
          "data": {
            "text/plain": [
              "<Figure size 1296x648 with 2 Axes>"
            ],
            "image/png": "[encoded data removed]"
          },
          "metadata": {
            "needs_background": "light"
          }
        }
      ]
    },
    {
      "cell_type": "markdown",
      "source": [
        "### Conclusion"
      ],
      "metadata": {
        "id": "B0tS7T7jQd0j"
      }
    },
    {
      "cell_type": "markdown",
      "source": [
        "L'application du filtre de Nagao n'améliore pas non plus notre PSNR moyen final car nous perdons trop en détail"
      ],
      "metadata": {
        "id": "nuXeckw_Qid6"
      }
    },
    {
      "cell_type": "markdown",
      "source": [
        "## Conclusion & Benchmark"
      ],
      "metadata": {
        "id": "DPOKX26V0y1K"
      }
    },
    {
      "cell_type": "markdown",
      "source": [
        "### Résultats de l'application des filtres sur notre réseau"
      ],
      "metadata": {
        "id": "c8rXn-WGTZfk"
      }
    },
    {
      "cell_type": "markdown",
      "source": [
        "Voici les différents résultats du PSNR obtenu avec l'application des filtres :\n",
        "\n",
        "|   Filtre appliqué sur le dataset du training   |   PSNR Moyen en dB |    \n",
        "|---    |:-:    |\n",
        "|   Médian  |    24.08  |   \n",
        "|  Gaussien    |   25.24 |    \n",
        "|    Bilatéral |    12.42  |   \n",
        "|    **Unsharp masking** |  **25.43**   |   \n",
        "|    Unsharp masking & Médian |   23.02   |   \n",
        "|    Nagao |    23.04  |  \n",
        "\n"
      ],
      "metadata": {
        "id": "y06XhJQD01AA"
      }
    },
    {
      "cell_type": "markdown",
      "source": [
        "Nous remarquons que l'application des filtres sur nos données d'entraînement **n'améliorent pas notre PSNR moyen final**, le diminuent au contraire. En effet, nous obtenons initialement sans filtre un PSNR de 25.50 dB. \n",
        "\n",
        "Ceci peut s'expliquer par le fait que **notre réseau U-Net se comportant comme un filtre de débruitage**, l'application d'un filtre avant l'entraînement de notre réseau n'augmente en rien notre PSNR moyen final. Le filtre ayant déjà effectué un débruitage sur nos images, notre réseau considère qu'il n'a plus rien à traiter. \n"
      ],
      "metadata": {
        "id": "iaNQiqIb1Ex8"
      }
    },
    {
      "cell_type": "markdown",
      "source": [
        "### Benchmark"
      ],
      "metadata": {
        "id": "5IHqMxxzTjTH"
      }
    },
    {
      "cell_type": "markdown",
      "source": [
        "\n",
        "\n",
        "---\n",
        "Il serait donc intéressant, en contrepartie, de comparer l'efficacité de notre réseau U-Net à l'application des filtres sur nos images sans entraînement du modèle, à travers la métrique du PSNR. "
      ],
      "metadata": {
        "id": "3oFRcLPK2m67"
      }
    },
    {
      "cell_type": "markdown",
      "source": [
        "#### Filtre Médian"
      ],
      "metadata": {
        "id": "8VzQSeZqTpZ1"
      }
    },
    {
      "cell_type": "markdown",
      "source": [
        "Chargez les images du `validation set` :"
      ],
      "metadata": {
        "id": "NVPKbYo8VwL1"
      }
    },
    {
      "cell_type": "code",
      "source": [
        "import torch\n",
        "import matplotlib.pyplot as plt\n",
        "\n",
        "# chargement des images à partir des fichiers correspondants\n",
        "noisy_imgs , clean_imgs = torch.load('/content/drive/MyDrive/ComputerVision/dataset/val_data_filtered_median.pkl')\n",
        "\n",
        "# normalisez les images\n",
        "noisy_imgs = noisy_imgs/255\n",
        "clean_imgs = clean_imgs/255"
      ],
      "metadata": {
        "id": "aMMgLpYUULvZ"
      },
      "execution_count": 85,
      "outputs": []
    },
    {
      "cell_type": "markdown",
      "source": [
        "\n",
        "\n",
        "---\n",
        "\n",
        "\n",
        "Calculons le PSNR avec l'application du filtre sur l'image d'entrée et comparons notre PSNR à notre PSNR obtenu avec notre réseau U-Net :"
      ],
      "metadata": {
        "id": "5XguGbjZVjTh"
      }
    },
    {
      "cell_type": "code",
      "source": [
        "def psnr(denoised , ground_truth):\n",
        "# Peak Signal to Noise Ratio : denoised and ground_truth have values between 0 and 1\n",
        "  mse = torch.mean((denoised - ground_truth) ** 2)\n",
        "  return -10 * torch.log10(mse + 10**-8)\n",
        "\n",
        "sum = 0\n",
        "nb_img = noisy_imgs.size(0)\n",
        "psnr_list = []\n",
        "\n",
        "for i in range(nb_img):\n",
        "  psnr_list.append(psnr(noisy_imgs[i].cpu(), clean_imgs[i].cpu()).item())\n",
        "    \n",
        "for j in range(nb_img):\n",
        "  sum = sum + psnr_list[j]\n",
        "\n",
        "mean_psnr = sum/nb_img\n",
        "\n",
        "print(\"PSNR mean : \" + str(mean_psnr) + \" dB\")"
      ],
      "metadata": {
        "colab": {
          "base_uri": "https://localhost:8080/"
        },
        "id": "QPgcF3DiUSka",
        "outputId": "1f21813c-5d3f-4a07-eee4-1210bf910047"
      },
      "execution_count": 88,
      "outputs": [
        {
          "output_type": "stream",
          "name": "stdout",
          "text": [
            "PSNR mean : 22.735110154151915 dB\n"
          ]
        }
      ]
    },
    {
      "cell_type": "markdown",
      "source": [
        "Nous obtenons un PSNR moyen de 22.74 dB avec l'application du filtre médian contre 25.50 après l'entraînement de notre U-Net.\n",
        "\n",
        "En conséquence, nous obtenons un PSNR plus élevé après entraînement de notre modèle, cela signifie que notre réseau débruite plus efficacement les images que le filtre."
      ],
      "metadata": {
        "id": "NFnp3V1RWCWI"
      }
    },
    {
      "cell_type": "markdown",
      "source": [
        "#### Filtre Gaussien"
      ],
      "metadata": {
        "id": "gxoVHofKTlh4"
      }
    },
    {
      "cell_type": "markdown",
      "source": [
        "Chargez les images du `validation set` :"
      ],
      "metadata": {
        "id": "5JJqoXNpWbm9"
      }
    },
    {
      "cell_type": "code",
      "source": [
        "import torch\n",
        "import matplotlib.pyplot as plt\n",
        "\n",
        "# chargement des images à partir des fichiers correspondants\n",
        "noisy_imgs , clean_imgs = torch.load('/content/drive/MyDrive/ComputerVision/dataset/val_data_filtered_gaussian.pkl')\n",
        "\n",
        "# normalisez les images\n",
        "noisy_imgs = noisy_imgs/255\n",
        "clean_imgs = clean_imgs/255"
      ],
      "metadata": {
        "id": "zr1bVcqVWbm9"
      },
      "execution_count": 89,
      "outputs": []
    },
    {
      "cell_type": "markdown",
      "source": [
        "\n",
        "\n",
        "---\n",
        "\n",
        "\n",
        "Calculons le PSNR avec l'application du filtre sur l'image d'entrée et comparons notre PSNR à notre PSNR obtenu avec notre réseau U-Net :"
      ],
      "metadata": {
        "id": "E7-sMXFZWbm9"
      }
    },
    {
      "cell_type": "code",
      "source": [
        "def psnr(denoised , ground_truth):\n",
        "# Peak Signal to Noise Ratio : denoised and ground_truth have values between 0 and 1\n",
        "  mse = torch.mean((denoised - ground_truth) ** 2)\n",
        "  return -10 * torch.log10(mse + 10**-8)\n",
        "\n",
        "sum = 0\n",
        "nb_img = noisy_imgs.size(0)\n",
        "psnr_list = []\n",
        "\n",
        "for i in range(nb_img):\n",
        "  psnr_list.append(psnr(noisy_imgs[i].cpu(), clean_imgs[i].cpu()).item())\n",
        "    \n",
        "for j in range(nb_img):\n",
        "  sum = sum + psnr_list[j]\n",
        "\n",
        "mean_psnr = sum/nb_img\n",
        "\n",
        "print(\"PSNR mean : \" + str(mean_psnr) + \" dB\")"
      ],
      "metadata": {
        "colab": {
          "base_uri": "https://localhost:8080/"
        },
        "outputId": "9bab0a03-4967-4332-aa80-9f8c7628dc40",
        "id": "ASxu1FYTWbm-"
      },
      "execution_count": 90,
      "outputs": [
        {
          "output_type": "stream",
          "name": "stdout",
          "text": [
            "PSNR mean : 24.298583446502686 dB\n"
          ]
        }
      ]
    },
    {
      "cell_type": "markdown",
      "source": [
        "Nous obtenons un PSNR moyen de 24.30 dB avec l'application du filtre gaussien contre 25.50 après l'entraînement de notre U-Net.\n",
        "\n",
        "En conséquence, nous obtenons un PSNR plus élevé après entraînement de notre modèle, cela signifie que notre réseau débruite plus efficacement les images que le filtre."
      ],
      "metadata": {
        "id": "4S8dlsrJWbm-"
      }
    },
    {
      "cell_type": "markdown",
      "source": [
        "#### Filtre Bilatéral"
      ],
      "metadata": {
        "id": "0Ez5AXDXTqjc"
      }
    },
    {
      "cell_type": "markdown",
      "source": [
        "Chargez les images du `validation set` :"
      ],
      "metadata": {
        "id": "DJkC5A9GWnP5"
      }
    },
    {
      "cell_type": "code",
      "source": [
        "import torch\n",
        "import matplotlib.pyplot as plt\n",
        "\n",
        "# chargement des images à partir des fichiers correspondants\n",
        "noisy_imgs , clean_imgs = torch.load('/content/drive/MyDrive/ComputerVision/dataset/val_data_filtered_bilateral.pkl')\n",
        "\n",
        "# normalisez les images\n",
        "noisy_imgs = noisy_imgs/255\n",
        "clean_imgs = clean_imgs/255"
      ],
      "metadata": {
        "id": "jVskugyFWnP5"
      },
      "execution_count": 91,
      "outputs": []
    },
    {
      "cell_type": "markdown",
      "source": [
        "\n",
        "\n",
        "---\n",
        "\n",
        "\n",
        "Calculons le PSNR avec l'application du filtre sur l'image d'entrée et comparons notre PSNR à notre PSNR obtenu avec notre réseau U-Net :"
      ],
      "metadata": {
        "id": "aW4ETa7UWnP6"
      }
    },
    {
      "cell_type": "code",
      "source": [
        "def psnr(denoised , ground_truth):\n",
        "# Peak Signal to Noise Ratio : denoised and ground_truth have values between 0 and 1\n",
        "  mse = torch.mean((denoised - ground_truth) ** 2)\n",
        "  return -10 * torch.log10(mse + 10**-8)\n",
        "\n",
        "sum = 0\n",
        "nb_img = noisy_imgs.size(0)\n",
        "psnr_list = []\n",
        "\n",
        "for i in range(nb_img):\n",
        "  psnr_list.append(psnr(noisy_imgs[i].cpu(), clean_imgs[i].cpu()).item())\n",
        "    \n",
        "for j in range(nb_img):\n",
        "  sum = sum + psnr_list[j]\n",
        "\n",
        "mean_psnr = sum/nb_img\n",
        "\n",
        "print(\"PSNR mean : \" + str(mean_psnr) + \" dB\")"
      ],
      "metadata": {
        "colab": {
          "base_uri": "https://localhost:8080/"
        },
        "outputId": "29bf358c-871c-4ee6-e788-9e97e073bf33",
        "id": "IZKiHKLtWnP6"
      },
      "execution_count": 92,
      "outputs": [
        {
          "output_type": "stream",
          "name": "stdout",
          "text": [
            "PSNR mean : 21.779741938591002 dB\n"
          ]
        }
      ]
    },
    {
      "cell_type": "markdown",
      "source": [
        "Nous obtenons un PSNR moyen de 21.78 dB avec l'application du filtre bilatéral contre 25.50 après l'entraînement de notre U-Net.\n",
        "\n",
        "En conséquence, nous obtenons un PSNR plus élevé après entraînement de notre modèle, cela signifie que notre réseau débruite plus efficacement les images que le filtre."
      ],
      "metadata": {
        "id": "fKnkqt67WnP7"
      }
    },
    {
      "cell_type": "markdown",
      "source": [
        "#### Filtre Unsharp masking"
      ],
      "metadata": {
        "id": "LariU6reTrs_"
      }
    },
    {
      "cell_type": "markdown",
      "source": [
        "Chargez les images du `validation set` :"
      ],
      "metadata": {
        "id": "47sKkUOlWrzk"
      }
    },
    {
      "cell_type": "code",
      "source": [
        "import torch\n",
        "import matplotlib.pyplot as plt\n",
        "\n",
        "# chargement des images à partir des fichiers correspondants\n",
        "noisy_imgs , clean_imgs = torch.load('/content/drive/MyDrive/ComputerVision/dataset/val_data_filtered_unsharp_masking.pkl')\n",
        "\n",
        "# normalisez les images\n",
        "noisy_imgs = noisy_imgs/255\n",
        "clean_imgs = clean_imgs/255"
      ],
      "metadata": {
        "id": "cHN8_9zXWrzk"
      },
      "execution_count": 94,
      "outputs": []
    },
    {
      "cell_type": "markdown",
      "source": [
        "\n",
        "\n",
        "---\n",
        "\n",
        "\n",
        "Calculons le PSNR avec l'application du filtre sur l'image d'entrée et comparons notre PSNR à notre PSNR obtenu avec notre réseau U-Net :"
      ],
      "metadata": {
        "id": "t-lytds_Wrzk"
      }
    },
    {
      "cell_type": "code",
      "source": [
        "def psnr(denoised , ground_truth):\n",
        "# Peak Signal to Noise Ratio : denoised and ground_truth have values between 0 and 1\n",
        "  mse = torch.mean((denoised - ground_truth) ** 2)\n",
        "  return -10 * torch.log10(mse + 10**-8)\n",
        "\n",
        "sum = 0\n",
        "nb_img = noisy_imgs.size(0)\n",
        "psnr_list = []\n",
        "\n",
        "for i in range(nb_img):\n",
        "  psnr_list.append(psnr(noisy_imgs[i].cpu(), clean_imgs[i].cpu()).item())\n",
        "    \n",
        "for j in range(nb_img):\n",
        "  sum = sum + psnr_list[j]\n",
        "\n",
        "mean_psnr = sum/nb_img\n",
        "\n",
        "print(\"PSNR mean : \" + str(mean_psnr) + \" dB\")"
      ],
      "metadata": {
        "colab": {
          "base_uri": "https://localhost:8080/"
        },
        "outputId": "eed13622-13e8-43d8-a35b-035276f4bc19",
        "id": "XVlC_zSqWrzk"
      },
      "execution_count": 95,
      "outputs": [
        {
          "output_type": "stream",
          "name": "stdout",
          "text": [
            "PSNR mean : 17.864449507713317 dB\n"
          ]
        }
      ]
    },
    {
      "cell_type": "markdown",
      "source": [
        "Nous obtenons un PSNR moyen de 17.87 dB avec l'application du filtre unsharp masking contre 25.50 après l'entraînement de notre U-Net.\n",
        "\n",
        "En conséquence, nous obtenons un PSNR plus élevé après entraînement de notre modèle, cela signifie que notre réseau débruite plus efficacement les images que le filtre."
      ],
      "metadata": {
        "id": "8GadFrBTWrzl"
      }
    },
    {
      "cell_type": "markdown",
      "source": [
        "#### Filtre Unsharp masking & Médian"
      ],
      "metadata": {
        "id": "oo69tvCZTtDf"
      }
    },
    {
      "cell_type": "markdown",
      "source": [
        "Chargez les images du `validation set` :"
      ],
      "metadata": {
        "id": "KD8nESXpW5dR"
      }
    },
    {
      "cell_type": "code",
      "source": [
        "import torch\n",
        "import matplotlib.pyplot as plt\n",
        "\n",
        "# chargement des images à partir des fichiers correspondants\n",
        "noisy_imgs, clean_imgs = torch.load('/content/drive/MyDrive/ComputerVision/dataset/val_data_filtered_unsharp_masking_median_blur.pkl')\n",
        "\n",
        "# normalisez les images\n",
        "noisy_imgs = noisy_imgs/255\n",
        "clean_imgs = clean_imgs/255"
      ],
      "metadata": {
        "id": "HXioDwJgW5dS"
      },
      "execution_count": 115,
      "outputs": []
    },
    {
      "cell_type": "markdown",
      "source": [
        "\n",
        "\n",
        "---\n",
        "\n",
        "\n",
        "Calculons le PSNR avec l'application du filtre sur l'image d'entrée et comparons notre PSNR à notre PSNR obtenu avec notre réseau U-Net :"
      ],
      "metadata": {
        "id": "Rr5_KLrzW5dS"
      }
    },
    {
      "cell_type": "code",
      "source": [
        "def psnr(denoised , ground_truth):\n",
        "# Peak Signal to Noise Ratio : denoised and ground_truth have values between 0 and 1\n",
        "  mse = torch.mean((denoised - ground_truth) ** 2)\n",
        "  return -10 * torch.log10(mse + 10**-8)\n",
        "\n",
        "sum = 0\n",
        "nb_img = noisy_imgs.size(0)\n",
        "psnr_list = []\n",
        "\n",
        "for i in range(nb_img):\n",
        "  psnr_list.append(psnr(noisy_imgs[i].cpu(), clean_imgs[i].cpu()).item())\n",
        "\n",
        "    \n",
        "for j in range(nb_img):\n",
        "  sum = sum + psnr_list[j]\n",
        "\n",
        "mean_psnr = sum/nb_img\n",
        "\n",
        "print(\"PSNR mean : \" + str(mean_psnr) + \" dB\")"
      ],
      "metadata": {
        "colab": {
          "base_uri": "https://localhost:8080/"
        },
        "outputId": "400d9f03-cbce-4128-c7ab-19778666c614",
        "id": "9QB7OSgvW5dS"
      },
      "execution_count": 116,
      "outputs": [
        {
          "output_type": "stream",
          "name": "stdout",
          "text": [
            "PSNR mean : 21.420751648902893 dB\n"
          ]
        }
      ]
    },
    {
      "cell_type": "markdown",
      "source": [
        "Nous obtenons un PSNR moyen de 21.42 dB avec l'application du filtre unsharp masking & médian contre 25.50 après l'entraînement de notre U-Net.\n",
        "\n",
        "En conséquence, nous obtenons un PSNR plus élevé après entraînement de notre modèle, cela signifie que notre réseau débruite plus efficacement les images que le filtre."
      ],
      "metadata": {
        "id": "_1vfMMRgW5dS"
      }
    },
    {
      "cell_type": "markdown",
      "source": [
        "#### Filtre de Nagao"
      ],
      "metadata": {
        "id": "0Ifc4vwjTvMV"
      }
    },
    {
      "cell_type": "markdown",
      "source": [
        "Chargez les images du `validation set` :"
      ],
      "metadata": {
        "id": "aAZro69mXVUP"
      }
    },
    {
      "cell_type": "code",
      "source": [
        "import torch\n",
        "import matplotlib.pyplot as plt\n",
        "\n",
        "# chargement des images à partir des fichiers correspondants\n",
        "noisy_imgs , clean_imgs = torch.load('/content/drive/MyDrive/ComputerVision/dataset/val_data_filtered_nagao.pkl')\n",
        "\n",
        "# normalisez les images\n",
        "noisy_imgs = noisy_imgs/255\n",
        "clean_imgs = clean_imgs/255"
      ],
      "metadata": {
        "id": "61ZqEWZfXVUP"
      },
      "execution_count": 105,
      "outputs": []
    },
    {
      "cell_type": "markdown",
      "source": [
        "\n",
        "\n",
        "---\n",
        "\n",
        "\n",
        "Calculons le PSNR avec l'application du filtre sur l'image d'entrée et comparons notre PSNR à notre PSNR obtenu avec notre réseau U-Net :"
      ],
      "metadata": {
        "id": "5Gt7V9qKXVUQ"
      }
    },
    {
      "cell_type": "code",
      "source": [
        "def psnr(denoised , ground_truth):\n",
        "# Peak Signal to Noise Ratio : denoised and ground_truth have values between 0 and 1\n",
        "  mse = torch.mean((denoised - ground_truth) ** 2)\n",
        "  return -10 * torch.log10(mse + 10**-8)\n",
        "\n",
        "sum = 0\n",
        "nb_img = noisy_imgs.size(0)\n",
        "psnr_list = []\n",
        "\n",
        "for i in range(nb_img):\n",
        "  psnr_list.append(psnr(noisy_imgs[i].cpu(), clean_imgs[i].cpu()).item())\n",
        "    \n",
        "for j in range(nb_img):\n",
        "  sum = sum + psnr_list[j]\n",
        "\n",
        "mean_psnr = sum/nb_img\n",
        "\n",
        "print(\"PSNR mean : \" + str(mean_psnr) + \" dB\")"
      ],
      "metadata": {
        "colab": {
          "base_uri": "https://localhost:8080/"
        },
        "outputId": "1c00f9ee-788a-41ba-aedf-e251fdf4bffb",
        "id": "1HdMtF1hXVUQ"
      },
      "execution_count": 106,
      "outputs": [
        {
          "output_type": "stream",
          "name": "stdout",
          "text": [
            "PSNR mean : 19.537717862129213 dB\n"
          ]
        }
      ]
    },
    {
      "cell_type": "markdown",
      "source": [
        "Nous obtenons un PSNR moyen de 19.54 dB avec l'application du filtre de Nagao contre 25.50 après l'entraînement de notre U-Net.\n",
        "\n",
        "En conséquence, nous obtenons un PSNR plus élevé après entraînement de notre modèle, cela signifie que notre réseau débruite plus efficacement les images que le filtre."
      ],
      "metadata": {
        "id": "11SKg2oFXVUQ"
      }
    },
    {
      "cell_type": "markdown",
      "source": [
        "#### Résultats finaux"
      ],
      "metadata": {
        "id": "S2_7BBLaXuHZ"
      }
    },
    {
      "cell_type": "markdown",
      "source": [
        "Voici les différents résultats du PSNR pour chacun des filtres sans entraînement du réseau : "
      ],
      "metadata": {
        "id": "OsnsNoLjXyJP"
      }
    },
    {
      "cell_type": "markdown",
      "source": [
        "|   Filtre appliqué sur le val set  |   PSNR Moyen en dB |    \n",
        "|---    |:-:    |\n",
        "|   **Médian**  |   **22.74**   |   \n",
        "|  **Gaussien**    | **24.30**   |    \n",
        "|    **Bilatéral** |    **21.78**  |   \n",
        "|    Unsharp masking |    17.87  |   \n",
        "|   **Unsharp masking & Médian** |  **21.42**    |   \n",
        "|    Nagao |   19.54   |  \n"
      ],
      "metadata": {
        "id": "vftHNDaWX5gs"
      }
    },
    {
      "cell_type": "markdown",
      "source": [
        "Nous remarquons que **l'application des filtres sans entraînement de notre modèle ont des PSNR moyens finaux moins élevés que celui après entraînement de notre U-Net**. En effet, nous obtenons après entraînement de notre réseau un PSNR de 25.50 dB. \n",
        "\n",
        "Cependant, nous remarquons que certains filtres permettent d'avoir des **résultats supérieurs au PSNR initial de 20.72 dB** entre l'image bruitée mise en entrée et notre `clean image` (sans application de filtre). Ceci montre que l'application de ces filtres permettent de débruiter correctement notre image. Il s'agit d'ailleurs des filtres de débruitage et non des filtres d'amélioration de la qualité d'image.\n",
        "\n",
        "Nous observons également que le **filtre Gaussien** est celui qui a le **PSNR le plus élevé**. En effet, cela peut s'expliquer par le fait que nous faisons l'hypothèse qu'un bruit Gaussien a été appliqué sur nos images d'entrées. Le filtre de débruitage Gaussien répond ainsi le mieux au débruitage de nos images."
      ],
      "metadata": {
        "id": "wp7fVw2FX-NC"
      }
    }
  ]
}